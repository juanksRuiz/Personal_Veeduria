{
 "cells": [
  {
   "cell_type": "code",
   "execution_count": 1,
   "metadata": {},
   "outputs": [],
   "source": [
    "import numpy as np\n",
    "import pandas as pd\n",
    "import matplotlib.pyplot as plt\n",
    "from sklearn import preprocessing\n",
    "from sklearn.model_selection import train_test_split\n",
    "from sklearn.metrics import *\n",
    "import seaborn as sns"
   ]
  },
  {
   "cell_type": "markdown",
   "metadata": {},
   "source": [
    "## Descripción breve de los datos"
   ]
  },
  {
   "cell_type": "code",
   "execution_count": 2,
   "metadata": {},
   "outputs": [],
   "source": [
    "df = pd.read_csv(\"secopi_inicial.csv\")"
   ]
  },
  {
   "cell_type": "code",
   "execution_count": 3,
   "metadata": {},
   "outputs": [
    {
     "data": {
      "text/html": [
       "<div>\n",
       "<style scoped>\n",
       "    .dataframe tbody tr th:only-of-type {\n",
       "        vertical-align: middle;\n",
       "    }\n",
       "\n",
       "    .dataframe tbody tr th {\n",
       "        vertical-align: top;\n",
       "    }\n",
       "\n",
       "    .dataframe thead th {\n",
       "        text-align: right;\n",
       "    }\n",
       "</style>\n",
       "<table border=\"1\" class=\"dataframe\">\n",
       "  <thead>\n",
       "    <tr style=\"text-align: right;\">\n",
       "      <th></th>\n",
       "      <th>Orden Entidad</th>\n",
       "      <th>Tipo de Proceso</th>\n",
       "      <th>Estado del Proceso</th>\n",
       "      <th>Regimen de Contratacion</th>\n",
       "      <th>Objeto a Contratar</th>\n",
       "      <th>Tipo de Contrato</th>\n",
       "      <th>Nombre Grupo</th>\n",
       "      <th>Tipo Identifi del Contratista</th>\n",
       "      <th>Rango de Ejec del Contrato</th>\n",
       "      <th>Cuantia Contrato</th>\n",
       "      <th>Origen de los Recursos</th>\n",
       "      <th>Marc Adiciones</th>\n",
       "      <th>Tiempo Adiciones en Dias</th>\n",
       "      <th>Tiempo Adiciones en Meses</th>\n",
       "      <th>Valor Total de Adiciones</th>\n",
       "      <th>Marc Sancion</th>\n",
       "      <th>Valor Sancion</th>\n",
       "    </tr>\n",
       "  </thead>\n",
       "  <tbody>\n",
       "    <tr>\n",
       "      <th>0</th>\n",
       "      <td>DISTRITO CAPITAL</td>\n",
       "      <td>Régimen Especial</td>\n",
       "      <td>Celebrado</td>\n",
       "      <td>Régimen Especial</td>\n",
       "      <td>Terrenos, Edificios, Estructuras y Vías</td>\n",
       "      <td>Obra</td>\n",
       "      <td>[G] Terrenos, Edificios, Estructuras y vías</td>\n",
       "      <td>Nit de Persona Jurídica</td>\n",
       "      <td>D</td>\n",
       "      <td>4990600.0</td>\n",
       "      <td>Sistema General de Participaciones - SGP</td>\n",
       "      <td>0</td>\n",
       "      <td>0</td>\n",
       "      <td>0</td>\n",
       "      <td>0.0</td>\n",
       "      <td>0</td>\n",
       "      <td>0.0</td>\n",
       "    </tr>\n",
       "    <tr>\n",
       "      <th>1</th>\n",
       "      <td>DISTRITO CAPITAL</td>\n",
       "      <td>Régimen Especial</td>\n",
       "      <td>Celebrado</td>\n",
       "      <td>Régimen Especial</td>\n",
       "      <td>Servicios Públicos y Servicios Relacionados co...</td>\n",
       "      <td>Prestación de Servicios</td>\n",
       "      <td>[F] Servicios</td>\n",
       "      <td>Nit de Persona Jurídica</td>\n",
       "      <td>M</td>\n",
       "      <td>2518660.0</td>\n",
       "      <td>No definido</td>\n",
       "      <td>0</td>\n",
       "      <td>0</td>\n",
       "      <td>0</td>\n",
       "      <td>0.0</td>\n",
       "      <td>0</td>\n",
       "      <td>0.0</td>\n",
       "    </tr>\n",
       "    <tr>\n",
       "      <th>2</th>\n",
       "      <td>NACIONAL DESCENTRALIZADO</td>\n",
       "      <td>Contratación Directa (Ley 1150 de 2007)</td>\n",
       "      <td>Celebrado</td>\n",
       "      <td>Estatuto General de Contratación</td>\n",
       "      <td>Servicios de Gestion, Servicios Profesionales ...</td>\n",
       "      <td>Prestación de Servicios</td>\n",
       "      <td>[F] Servicios</td>\n",
       "      <td>Cédula de Ciudadanía</td>\n",
       "      <td>M</td>\n",
       "      <td>62400000.0</td>\n",
       "      <td>No definido</td>\n",
       "      <td>0</td>\n",
       "      <td>0</td>\n",
       "      <td>0</td>\n",
       "      <td>0.0</td>\n",
       "      <td>0</td>\n",
       "      <td>0.0</td>\n",
       "    </tr>\n",
       "    <tr>\n",
       "      <th>3</th>\n",
       "      <td>TERRITORIAL DEPARTAMENTAL DESCENTRALIZADO</td>\n",
       "      <td>Régimen Especial</td>\n",
       "      <td>Celebrado</td>\n",
       "      <td>Régimen Especial</td>\n",
       "      <td>Servicios de Salud</td>\n",
       "      <td>Prestación de Servicios</td>\n",
       "      <td>[F] Servicios</td>\n",
       "      <td>Cédula de Ciudadanía</td>\n",
       "      <td>D</td>\n",
       "      <td>1060200.0</td>\n",
       "      <td>No definido</td>\n",
       "      <td>0</td>\n",
       "      <td>0</td>\n",
       "      <td>0</td>\n",
       "      <td>0.0</td>\n",
       "      <td>0</td>\n",
       "      <td>0.0</td>\n",
       "    </tr>\n",
       "    <tr>\n",
       "      <th>4</th>\n",
       "      <td>DISTRITO CAPITAL</td>\n",
       "      <td>Contratación Directa (Ley 1150 de 2007)</td>\n",
       "      <td>Celebrado</td>\n",
       "      <td>Estatuto General de Contratación</td>\n",
       "      <td>Servicios Personales y Domésticos</td>\n",
       "      <td>Prestación de Servicios</td>\n",
       "      <td>[F] Servicios</td>\n",
       "      <td>Nit de Persona Natural</td>\n",
       "      <td>D</td>\n",
       "      <td>2317005.0</td>\n",
       "      <td>No definido</td>\n",
       "      <td>0</td>\n",
       "      <td>0</td>\n",
       "      <td>0</td>\n",
       "      <td>0.0</td>\n",
       "      <td>0</td>\n",
       "      <td>0.0</td>\n",
       "    </tr>\n",
       "  </tbody>\n",
       "</table>\n",
       "</div>"
      ],
      "text/plain": [
       "                               Orden Entidad  \\\n",
       "0                           DISTRITO CAPITAL   \n",
       "1                           DISTRITO CAPITAL   \n",
       "2                   NACIONAL DESCENTRALIZADO   \n",
       "3  TERRITORIAL DEPARTAMENTAL DESCENTRALIZADO   \n",
       "4                           DISTRITO CAPITAL   \n",
       "\n",
       "                           Tipo de Proceso Estado del Proceso  \\\n",
       "0                         Régimen Especial          Celebrado   \n",
       "1                         Régimen Especial          Celebrado   \n",
       "2  Contratación Directa (Ley 1150 de 2007)          Celebrado   \n",
       "3                         Régimen Especial          Celebrado   \n",
       "4  Contratación Directa (Ley 1150 de 2007)          Celebrado   \n",
       "\n",
       "            Regimen de Contratacion  \\\n",
       "0                  Régimen Especial   \n",
       "1                  Régimen Especial   \n",
       "2  Estatuto General de Contratación   \n",
       "3                  Régimen Especial   \n",
       "4  Estatuto General de Contratación   \n",
       "\n",
       "                                  Objeto a Contratar         Tipo de Contrato  \\\n",
       "0            Terrenos, Edificios, Estructuras y Vías                     Obra   \n",
       "1  Servicios Públicos y Servicios Relacionados co...  Prestación de Servicios   \n",
       "2  Servicios de Gestion, Servicios Profesionales ...  Prestación de Servicios   \n",
       "3                                 Servicios de Salud  Prestación de Servicios   \n",
       "4                  Servicios Personales y Domésticos  Prestación de Servicios   \n",
       "\n",
       "                                  Nombre Grupo Tipo Identifi del Contratista  \\\n",
       "0  [G] Terrenos, Edificios, Estructuras y vías       Nit de Persona Jurídica   \n",
       "1                                [F] Servicios       Nit de Persona Jurídica   \n",
       "2                                [F] Servicios          Cédula de Ciudadanía   \n",
       "3                                [F] Servicios          Cédula de Ciudadanía   \n",
       "4                                [F] Servicios        Nit de Persona Natural   \n",
       "\n",
       "  Rango de Ejec del Contrato  Cuantia Contrato  \\\n",
       "0                          D         4990600.0   \n",
       "1                          M         2518660.0   \n",
       "2                          M        62400000.0   \n",
       "3                          D         1060200.0   \n",
       "4                          D         2317005.0   \n",
       "\n",
       "                     Origen de los Recursos  Marc Adiciones  \\\n",
       "0  Sistema General de Participaciones - SGP               0   \n",
       "1                               No definido               0   \n",
       "2                               No definido               0   \n",
       "3                               No definido               0   \n",
       "4                               No definido               0   \n",
       "\n",
       "   Tiempo Adiciones en Dias  Tiempo Adiciones en Meses  \\\n",
       "0                         0                          0   \n",
       "1                         0                          0   \n",
       "2                         0                          0   \n",
       "3                         0                          0   \n",
       "4                         0                          0   \n",
       "\n",
       "   Valor Total de Adiciones  Marc Sancion  Valor Sancion  \n",
       "0                       0.0             0            0.0  \n",
       "1                       0.0             0            0.0  \n",
       "2                       0.0             0            0.0  \n",
       "3                       0.0             0            0.0  \n",
       "4                       0.0             0            0.0  "
      ]
     },
     "execution_count": 3,
     "metadata": {},
     "output_type": "execute_result"
    }
   ],
   "source": [
    "df.head()"
   ]
  },
  {
   "cell_type": "code",
   "execution_count": 4,
   "metadata": {},
   "outputs": [
    {
     "name": "stdout",
     "output_type": "stream",
     "text": [
      "Dimensiones del dataset secop I inicial:  (655984, 17)\n"
     ]
    }
   ],
   "source": [
    "print(\"Dimensiones del dataset secop I inicial: \",df.shape)"
   ]
  },
  {
   "cell_type": "code",
   "execution_count": 5,
   "metadata": {},
   "outputs": [
    {
     "name": "stdout",
     "output_type": "stream",
     "text": [
      "<class 'pandas.core.frame.DataFrame'>\n",
      "RangeIndex: 655984 entries, 0 to 655983\n",
      "Data columns (total 17 columns):\n",
      " #   Column                         Non-Null Count   Dtype  \n",
      "---  ------                         --------------   -----  \n",
      " 0   Orden Entidad                  655984 non-null  object \n",
      " 1   Tipo de Proceso                655984 non-null  object \n",
      " 2   Estado del Proceso             655984 non-null  object \n",
      " 3   Regimen de Contratacion        655980 non-null  object \n",
      " 4   Objeto a Contratar             655984 non-null  object \n",
      " 5   Tipo de Contrato               655984 non-null  object \n",
      " 6   Nombre Grupo                   655984 non-null  object \n",
      " 7   Tipo Identifi del Contratista  655984 non-null  object \n",
      " 8   Rango de Ejec del Contrato     655984 non-null  object \n",
      " 9   Cuantia Contrato               655984 non-null  float64\n",
      " 10  Origen de los Recursos         655984 non-null  object \n",
      " 11  Marc Adiciones                 655984 non-null  int64  \n",
      " 12  Tiempo Adiciones en Dias       655984 non-null  int64  \n",
      " 13  Tiempo Adiciones en Meses      655984 non-null  int64  \n",
      " 14  Valor Total de Adiciones       655984 non-null  float64\n",
      " 15  Marc Sancion                   655984 non-null  int64  \n",
      " 16  Valor Sancion                  655984 non-null  float64\n",
      "dtypes: float64(3), int64(4), object(10)\n",
      "memory usage: 85.1+ MB\n"
     ]
    }
   ],
   "source": [
    "df.info()"
   ]
  },
  {
   "cell_type": "code",
   "execution_count": 6,
   "metadata": {},
   "outputs": [],
   "source": [
    "df[\"Regimen de contratacion\"] = df[\"Regimen de Contratacion\"].astype(str)"
   ]
  },
  {
   "cell_type": "code",
   "execution_count": 7,
   "metadata": {},
   "outputs": [
    {
     "name": "stdout",
     "output_type": "stream",
     "text": [
      "Porcentaje de entidades por Orden:\n",
      "                                           Orden Entidad\n",
      "DISTRITO CAPITAL                                0.586598\n",
      "TERRITORIAL DEPARTAMENTAL DESCENTRALIZADO       0.215296\n",
      "TERRITORIAL DEPARTAMENTAL CENTRALIZADO          0.099323\n",
      "NACIONAL DESCENTRALIZADO                        0.098185\n",
      "NACIONAL CENTRALIZADO                           0.000598\n"
     ]
    }
   ],
   "source": [
    "orden = pd.DataFrame(df[\"Orden Entidad\"].value_counts())/len(df)\n",
    "print(\"Porcentaje de entidades por Orden:\")\n",
    "print(orden)"
   ]
  },
  {
   "cell_type": "code",
   "execution_count": 8,
   "metadata": {},
   "outputs": [
    {
     "data": {
      "text/plain": [
       "Text(0.5, 1.0, 'Porcentaje de distribucion de entidades por Orden')"
      ]
     },
     "execution_count": 8,
     "metadata": {},
     "output_type": "execute_result"
    },
    {
     "data": {
      "image/png": "[encoded data removed]",
      "text/plain": [
       "<Figure size 720x360 with 1 Axes>"
      ]
     },
     "metadata": {
      "needs_background": "light"
     },
     "output_type": "display_data"
    }
   ],
   "source": [
    "fig = plt.figure(figsize=(10,5));\n",
    "pos = [2*i for i in range(1,6)]\n",
    "plt.barh(pos,np.flip(orden[\"Orden Entidad\"])/len(df),\n",
    "         tick_label=np.flip(orden.index));\n",
    "plt.xticks(rotation=45);\n",
    "plt.title(\"Porcentaje de distribucion de entidades por Orden\")"
   ]
  },
  {
   "cell_type": "code",
   "execution_count": 9,
   "metadata": {},
   "outputs": [
    {
     "name": "stdout",
     "output_type": "stream",
     "text": [
      "Porcentaje de datos por Tipo de proceso:\n"
     ]
    },
    {
     "data": {
      "text/plain": [
       "Contratación Directa (Ley 1150 de 2007)                                                  0.545963\n",
       "Régimen Especial                                                                         0.404379\n",
       "Contratación Mínima Cuantía                                                              0.023334\n",
       "Selección Abreviada de Menor Cuantía (Ley 1150 de 2007)                                  0.008529\n",
       "Licitación Pública                                                                       0.006307\n",
       "Subasta                                                                                  0.006241\n",
       "Concurso de Méritos Abierto                                                              0.003970\n",
       "Contratos y convenios con más de dos partes                                              0.000884\n",
       "Licitación obra pública                                                                  0.000117\n",
       "Selección Abreviada del literal h del numeral 2 del artículo 2 de la Ley 1150 de 2007    0.000113\n",
       "Concurso de Méritos con Lista Corta                                                      0.000078\n",
       "Selección Abreviada servicios de Salud                                                   0.000044\n",
       "Asociación Público Privada                                                               0.000032\n",
       "Iniciativa Privada sin recursos públicos                                                 0.000006\n",
       "Concurso de Méritos con Lista Multiusos                                                  0.000003\n",
       "Name: Tipo de Proceso, dtype: float64"
      ]
     },
     "execution_count": 9,
     "metadata": {},
     "output_type": "execute_result"
    }
   ],
   "source": [
    "print(\"Porcentaje de datos por Tipo de proceso:\")\n",
    "df[\"Tipo de Proceso\"].value_counts()/len(df)"
   ]
  },
  {
   "cell_type": "code",
   "execution_count": 10,
   "metadata": {},
   "outputs": [
    {
     "name": "stdout",
     "output_type": "stream",
     "text": [
      "Porcentaje de datos por Estado de proceso:\n"
     ]
    },
    {
     "data": {
      "text/plain": [
       "Celebrado                                              0.740695\n",
       "Liquidado                                              0.131686\n",
       "Convocado                                              0.059014\n",
       "Terminado sin Liquidar                                 0.057771\n",
       "Terminado Anormalmente después de Convocado            0.007569\n",
       "Adjudicado                                             0.001756\n",
       "Borrador                                               0.000745\n",
       "Descartado                                             0.000730\n",
       "Lista Corta                                            0.000014\n",
       "Expresión de Interés                                   0.000014\n",
       "Publicación para manifestaciones de interés            0.000003\n",
       "Finalizado el plazo para manifestaciones de interés    0.000003\n",
       "Name: Estado del Proceso, dtype: float64"
      ]
     },
     "execution_count": 10,
     "metadata": {},
     "output_type": "execute_result"
    }
   ],
   "source": [
    "print(\"Porcentaje de datos por Estado de proceso:\")\n",
    "df[\"Estado del Proceso\"].value_counts()/len(df)"
   ]
  },
  {
   "cell_type": "code",
   "execution_count": 11,
   "metadata": {},
   "outputs": [
    {
     "name": "stdout",
     "output_type": "stream",
     "text": [
      "Porcentaje de datos por Tipo de contrato:\n"
     ]
    },
    {
     "data": {
      "text/plain": [
       "Prestación de Servicios    0.828596\n",
       "Suministro                 0.065755\n",
       "Otro Tipo de Contrato      0.034829\n",
       "Compraventa                0.028339\n",
       "Obra                       0.023089\n",
       "Arrendamiento              0.008924\n",
       "Interventoría              0.004166\n",
       "Consultoría                0.003113\n",
       "Comodato                   0.002549\n",
       "Acuerdo Marco              0.000261\n",
       "Concesión                  0.000145\n",
       "Fiducia                    0.000093\n",
       "Crédito                    0.000088\n",
       "No definido                0.000038\n",
       "Agregación de Demanda      0.000015\n",
       "Name: Tipo de Contrato, dtype: float64"
      ]
     },
     "execution_count": 11,
     "metadata": {},
     "output_type": "execute_result"
    }
   ],
   "source": [
    "print(\"Porcentaje de datos por Tipo de contrato:\")\n",
    "df[\"Tipo de Contrato\"].value_counts()/len(df)"
   ]
  },
  {
   "cell_type": "code",
   "execution_count": 12,
   "metadata": {},
   "outputs": [],
   "source": [
    "objetos = pd.DataFrame(df[\"Objeto a Contratar\"].value_counts())"
   ]
  },
  {
   "cell_type": "code",
   "execution_count": 13,
   "metadata": {
    "scrolled": true
   },
   "outputs": [
    {
     "data": {
      "text/plain": [
       "{1: 'Servicios de Gestion, Servicios Profesionales de Empresa y Servicios Administrativos',\n",
       " 2: 'Servicios de Salud',\n",
       " 3: 'Servicios Educativos y de Formación',\n",
       " 4: 'Servicios Públicos y Servicios Relacionados con el Sector Público',\n",
       " 5: 'Servicios de Edificación, Construcción de Instalaciones y Mantenimiento',\n",
       " 6: 'Servicios Personales y Domésticos',\n",
       " 7: 'Servicios Basados en Ingeniería, Investigación y Tecnología',\n",
       " 8: 'Equipos de Oficina, Accesorios y Suministros',\n",
       " 9: 'Terrenos, Edificios, Estructuras y Vías',\n",
       " 10: 'Instrumentos Musicales, Juegos, Artes, Artesanías y Equipo educativo, Materiales, Accesorios y Suministros',\n",
       " 11: 'Servicios Editoriales, de Diseño, de Artes Graficas y Bellas Artes',\n",
       " 12: 'Equipo Médico, Accesorios y Suministros',\n",
       " 13: 'Servicios de Transporte, Almacenaje y Correo',\n",
       " 14: 'Servicios Medioambientales',\n",
       " 15: 'Servicios de Viajes, Alimentación, Alojamiento y Entretenimiento',\n",
       " 16: 'Difusión de Tecnologías de Información y Telecomunicaciones',\n",
       " 17: 'Servicios de Contratacion Agrícola, Pesquera, Forestal y de Fauna',\n",
       " 18: 'Servicios Políticos y de Asuntos Cívicos',\n",
       " 19: 'Servicios de Limpieza, Descontaminación y Tratamiento de Residuos',\n",
       " 20: 'Medicamentos y Productos Farmacéuticos',\n",
       " 21: 'Servicios Financieros y de Seguros',\n",
       " 22: 'Publicaciones Impresas, Publicaciones Electronicas y Accesorios',\n",
       " 23: 'Equipos y Suministros para Impresión, Fotografia y Audiovisuales',\n",
       " 24: 'Materiales y Productos de Papel',\n",
       " 25: 'Muebles, Mobiliario y Decoración',\n",
       " 26: 'Componentes y Suministros Electrónicos',\n",
       " 27: 'Equipos y Suministros de Laboratorio, de Medición, de Observación y de Pruebas',\n",
       " 28: 'Equipos, Suministros y Accesorios para Deportes y Recreación',\n",
       " 29: 'Componentes y Suministros para Estructuras, Edificación, Construcción y Obras Civiles',\n",
       " 30: 'Ropa, Maletas y Productos de Aseo Personal',\n",
       " 31: 'Componentes, Accesorios y Suministros de Sistemas Eléctricos e Iluminación',\n",
       " 32: 'Organizaciones y Clubes',\n",
       " 33: 'Artículos Domésticos, Suministros y Productos Electrónicos de Consumo',\n",
       " 34: 'Equipos y Suministros de Defensa, Orden Publico, Proteccion, Vigilancia y Seguridad',\n",
       " 35: 'Alimentos, Bebidas y Tabaco',\n",
       " 36: 'Equipos y Suministros para Limpieza',\n",
       " 37: 'Servicios de Defensa Nacional, Orden Publico, Seguridad y Vigilancia',\n",
       " 38: 'Vehículos Comerciales, Militares y Particulares, Accesorios y Componentes',\n",
       " 39: 'Componentes y Suministros de Manufactura',\n",
       " 40: 'Servicios de Producción Industrial y Manufactura',\n",
       " 41: 'Material Vivo Vegetal y Animal, Accesorios y Suministros',\n",
       " 42: 'Herramientas y Maquinaria General',\n",
       " 43: 'Componentes y Equipos para Distribución y Sistemas de Acondicionamiento',\n",
       " 44: 'Materiales Combustibles, Aditivos para Combustibles, Lubricantes y Anticorrosivos',\n",
       " 45: 'Material Químico incluyendo Bioquímicos y Materiales de Gas',\n",
       " 46: 'Maquinaria, Accesorios y Suministros para Manejo, Acondicionamiento y Almacenamiento de Materiales',\n",
       " 47: 'Material Mineral, Textil y  Vegetal y Animal No Comestible',\n",
       " 48: 'Maquinaria, Equipo y Suministros para la Industria de Servicios',\n",
       " 49: 'Maquinaria y Accesorios para Manufactura y Procesamiento Industrial',\n",
       " 50: 'Maquinaria y Accesorios para Construcción y Edificación',\n",
       " 51: 'Maquinaria y Accesorios para Generación y Distribución de Energía',\n",
       " 52: 'Servicios de Minería, Petróleo y Gas',\n",
       " 53: 'Maquinaria y Accesorios para Agricultura, Pesca, Silvicultura y Fauna',\n",
       " 54: 'Materiales de Resina, Colofonia, Caucho, Espuma, Película y Elastómericos',\n",
       " 55: 'Maquinaria y Accesorios de Minería y Perforación de Pozos',\n",
       " 56: 'Productos para Relojería, Joyería y Piedras Preciosas'}"
      ]
     },
     "execution_count": 13,
     "metadata": {},
     "output_type": "execute_result"
    }
   ],
   "source": [
    "dic_obj = dict()\n",
    "cods_obj = range(1,len(objetos)+1)\n",
    "for k in cods_obj:\n",
    "    dic_obj[k] = objetos.index[k-1]\n",
    "dic_obj"
   ]
  },
  {
   "cell_type": "code",
   "execution_count": 14,
   "metadata": {
    "scrolled": true
   },
   "outputs": [
    {
     "data": {
      "image/png": "[encoded data removed]",
      "text/plain": [
       "<Figure size 1080x504 with 1 Axes>"
      ]
     },
     "metadata": {
      "needs_background": "light"
     },
     "output_type": "display_data"
    }
   ],
   "source": [
    "fig = plt.figure(figsize=(15,7));\n",
    "pos = [3*i for i in range(1,len(objetos)+1)]\n",
    "plt.bar(pos,objetos[\"Objeto a Contratar\"]/len(df),\n",
    "         tick_label=cods_obj);\n",
    "plt.title(\"Porcentaje de distribucion de Objetos a Contratar\");\n",
    "plt.xlabel(\"Codigo de objeto de compra\");\n",
    "plt.ylabel(\"Porcentaje de valores\");"
   ]
  },
  {
   "cell_type": "code",
   "execution_count": 15,
   "metadata": {},
   "outputs": [
    {
     "data": {
      "text/plain": [
       "Estatuto General de Contratación    388731\n",
       "Régimen Especial                    267069\n",
       "Ley 80 de 1993                         180\n",
       "Name: Regimen de Contratacion, dtype: int64"
      ]
     },
     "execution_count": 15,
     "metadata": {},
     "output_type": "execute_result"
    }
   ],
   "source": [
    "df[\"Regimen de Contratacion\"].value_counts()"
   ]
  },
  {
   "cell_type": "code",
   "execution_count": 16,
   "metadata": {},
   "outputs": [
    {
     "name": "stdout",
     "output_type": "stream",
     "text": [
      "Porcentaje de registros sobre Origen de los recursos:\n"
     ]
    },
    {
     "data": {
      "text/plain": [
       "No definido                                                                                     0.818825\n",
       "Recursos propios                                                                                0.075468\n",
       "Sistema General de Participaciones - SGP                                                        0.052486\n",
       "Presupuesto Nacional/Territorial                                                                0.036768\n",
       "Presupuesto General de la Nación  PGN                                                          0.006500\n",
       "Recursos Propios (Alcaldías, Gobernaciones y Resguardos Indígenas)                              0.003567\n",
       "Recursos de crédito                                                                             0.002788\n",
       "Otros recursos                                                                                  0.002654\n",
       "Sistema General de Regalías - SGR                                                               0.000610\n",
       "Regalías                                                                                        0.000177\n",
       "Recursos privados/cooperación                                                                   0.000076\n",
       "Recursos en especie                                                                             0.000052\n",
       "Asignación Especial del Sistema General de Participación para Resguardos Indígenas - AESGPRI    0.000029\n",
       "Name: Origen de los Recursos, dtype: float64"
      ]
     },
     "execution_count": 16,
     "metadata": {},
     "output_type": "execute_result"
    }
   ],
   "source": [
    "print(\"Porcentaje de registros sobre Origen de los recursos:\")\n",
    "df[\"Origen de los Recursos\"].value_counts()/len(df)"
   ]
  },
  {
   "cell_type": "code",
   "execution_count": null,
   "metadata": {},
   "outputs": [],
   "source": []
  },
  {
   "cell_type": "markdown",
   "metadata": {},
   "source": [
    "## Identificación y preprocesamiento de variables\n",
    "- Las variables *Orden Entidad, Tipo de Proceso, Estado de Proceso, Regimen de Contratacion, Objeto a Contratar, Tipo de Contrato* y *Origen de los Recursos* son **variables categóricas** con información textual.\n",
    "\n",
    "- Las variables *Cuantia Contrato, Tiempo Adiciones en Dias, Tiempo Adiciones en Meses, Valor Total de Adiciones, Valor Sancion* son **variables numéricas** de la base de datos.\n",
    "\n",
    "- Las variables *Marc Adiciones* y *Marc Sancion* son **outputs de interés**. Puede que **Marc Adiciones** también sea input y la única variable de salida de los modelos sea *Marc Sancion*.\n",
    "\n",
    "- Se creará una sola columna que indique el tiempo en adiciones en días:\n",
    "    - Si *Rango Ejec del Contrato* en días (D) entonces se usa ese valor\n",
    "    - Si *Rango Ejec del Contrato* en días (M) entonces, asumiendo que cada día sea de 30 meses se calcula $30m + d$ donde $m$ es el tiempo adicionado en meses y $d$ el tiempo adicionado en días"
   ]
  },
  {
   "cell_type": "code",
   "execution_count": 17,
   "metadata": {},
   "outputs": [
    {
     "name": "stdout",
     "output_type": "stream",
     "text": [
      "Numero de Nans por columna:\n",
      "[('Orden Entidad', 0), ('Tipo de Proceso', 0), ('Estado del Proceso', 0), ('Regimen de Contratacion', 4), ('Objeto a Contratar', 0), ('Tipo de Contrato', 0), ('Origen de los Recursos', 0)]\n"
     ]
    }
   ],
   "source": [
    "# Usar OneHotEncoder\n",
    "cat_cols = [\"Orden Entidad\",\"Tipo de Proceso\",\"Estado del Proceso\",\n",
    "           \"Regimen de Contratacion\",\"Objeto a Contratar\",\"Tipo de Contrato\",\n",
    "           \"Origen de los Recursos\"]\n",
    "print(\"Numero de Nans por columna:\")\n",
    "print([(cat_cols[i], df[cat_cols[i]].isna().sum()) for i in range(len(cat_cols))])\n",
    "#enc = preprocessing.OneHotEncoder(handle_unknown=\"ignore\")\n",
    "#enc.fit(df[])"
   ]
  },
  {
   "cell_type": "code",
   "execution_count": 18,
   "metadata": {},
   "outputs": [
    {
     "data": {
      "text/html": [
       "<div>\n",
       "<style scoped>\n",
       "    .dataframe tbody tr th:only-of-type {\n",
       "        vertical-align: middle;\n",
       "    }\n",
       "\n",
       "    .dataframe tbody tr th {\n",
       "        vertical-align: top;\n",
       "    }\n",
       "\n",
       "    .dataframe thead th {\n",
       "        text-align: right;\n",
       "    }\n",
       "</style>\n",
       "<table border=\"1\" class=\"dataframe\">\n",
       "  <thead>\n",
       "    <tr style=\"text-align: right;\">\n",
       "      <th></th>\n",
       "      <th>Orden Entidad</th>\n",
       "      <th>Tipo de Proceso</th>\n",
       "      <th>Estado del Proceso</th>\n",
       "      <th>Regimen de Contratacion</th>\n",
       "      <th>Objeto a Contratar</th>\n",
       "      <th>Tipo de Contrato</th>\n",
       "      <th>Nombre Grupo</th>\n",
       "      <th>Tipo Identifi del Contratista</th>\n",
       "      <th>Rango de Ejec del Contrato</th>\n",
       "      <th>Cuantia Contrato</th>\n",
       "      <th>Origen de los Recursos</th>\n",
       "      <th>Marc Adiciones</th>\n",
       "      <th>Tiempo Adiciones en Dias</th>\n",
       "      <th>Tiempo Adiciones en Meses</th>\n",
       "      <th>Valor Total de Adiciones</th>\n",
       "      <th>Marc Sancion</th>\n",
       "      <th>Valor Sancion</th>\n",
       "      <th>Regimen de contratacion</th>\n",
       "    </tr>\n",
       "  </thead>\n",
       "  <tbody>\n",
       "    <tr>\n",
       "      <th>123225</th>\n",
       "      <td>DISTRITO CAPITAL</td>\n",
       "      <td>Iniciativa Privada sin recursos públicos</td>\n",
       "      <td>Finalizado el plazo para manifestaciones de in...</td>\n",
       "      <td>NaN</td>\n",
       "      <td>Terrenos, Edificios, Estructuras y Vías</td>\n",
       "      <td>No definido</td>\n",
       "      <td>[G] Terrenos, Edificios, Estructuras y vías</td>\n",
       "      <td>No Definido</td>\n",
       "      <td>N</td>\n",
       "      <td>0.0</td>\n",
       "      <td>No definido</td>\n",
       "      <td>0</td>\n",
       "      <td>0</td>\n",
       "      <td>0</td>\n",
       "      <td>0.0</td>\n",
       "      <td>0</td>\n",
       "      <td>0.0</td>\n",
       "      <td>nan</td>\n",
       "    </tr>\n",
       "    <tr>\n",
       "      <th>410080</th>\n",
       "      <td>DISTRITO CAPITAL</td>\n",
       "      <td>Iniciativa Privada sin recursos públicos</td>\n",
       "      <td>Publicación para manifestaciones de interés</td>\n",
       "      <td>NaN</td>\n",
       "      <td>Terrenos, Edificios, Estructuras y Vías</td>\n",
       "      <td>No definido</td>\n",
       "      <td>[G] Terrenos, Edificios, Estructuras y vías</td>\n",
       "      <td>No Definido</td>\n",
       "      <td>N</td>\n",
       "      <td>0.0</td>\n",
       "      <td>No definido</td>\n",
       "      <td>0</td>\n",
       "      <td>0</td>\n",
       "      <td>0</td>\n",
       "      <td>0.0</td>\n",
       "      <td>0</td>\n",
       "      <td>0.0</td>\n",
       "      <td>nan</td>\n",
       "    </tr>\n",
       "    <tr>\n",
       "      <th>472437</th>\n",
       "      <td>DISTRITO CAPITAL</td>\n",
       "      <td>Iniciativa Privada sin recursos públicos</td>\n",
       "      <td>Publicación para manifestaciones de interés</td>\n",
       "      <td>NaN</td>\n",
       "      <td>Terrenos, Edificios, Estructuras y Vías</td>\n",
       "      <td>No definido</td>\n",
       "      <td>[G] Terrenos, Edificios, Estructuras y vías</td>\n",
       "      <td>No Definido</td>\n",
       "      <td>N</td>\n",
       "      <td>0.0</td>\n",
       "      <td>No definido</td>\n",
       "      <td>0</td>\n",
       "      <td>0</td>\n",
       "      <td>0</td>\n",
       "      <td>0.0</td>\n",
       "      <td>0</td>\n",
       "      <td>0.0</td>\n",
       "      <td>nan</td>\n",
       "    </tr>\n",
       "    <tr>\n",
       "      <th>492844</th>\n",
       "      <td>DISTRITO CAPITAL</td>\n",
       "      <td>Iniciativa Privada sin recursos públicos</td>\n",
       "      <td>Finalizado el plazo para manifestaciones de in...</td>\n",
       "      <td>NaN</td>\n",
       "      <td>Terrenos, Edificios, Estructuras y Vías</td>\n",
       "      <td>No definido</td>\n",
       "      <td>[G] Terrenos, Edificios, Estructuras y vías</td>\n",
       "      <td>No Definido</td>\n",
       "      <td>N</td>\n",
       "      <td>0.0</td>\n",
       "      <td>No definido</td>\n",
       "      <td>0</td>\n",
       "      <td>0</td>\n",
       "      <td>0</td>\n",
       "      <td>0.0</td>\n",
       "      <td>0</td>\n",
       "      <td>0.0</td>\n",
       "      <td>nan</td>\n",
       "    </tr>\n",
       "  </tbody>\n",
       "</table>\n",
       "</div>"
      ],
      "text/plain": [
       "           Orden Entidad                           Tipo de Proceso  \\\n",
       "123225  DISTRITO CAPITAL  Iniciativa Privada sin recursos públicos   \n",
       "410080  DISTRITO CAPITAL  Iniciativa Privada sin recursos públicos   \n",
       "472437  DISTRITO CAPITAL  Iniciativa Privada sin recursos públicos   \n",
       "492844  DISTRITO CAPITAL  Iniciativa Privada sin recursos públicos   \n",
       "\n",
       "                                       Estado del Proceso  \\\n",
       "123225  Finalizado el plazo para manifestaciones de in...   \n",
       "410080        Publicación para manifestaciones de interés   \n",
       "472437        Publicación para manifestaciones de interés   \n",
       "492844  Finalizado el plazo para manifestaciones de in...   \n",
       "\n",
       "       Regimen de Contratacion                       Objeto a Contratar  \\\n",
       "123225                     NaN  Terrenos, Edificios, Estructuras y Vías   \n",
       "410080                     NaN  Terrenos, Edificios, Estructuras y Vías   \n",
       "472437                     NaN  Terrenos, Edificios, Estructuras y Vías   \n",
       "492844                     NaN  Terrenos, Edificios, Estructuras y Vías   \n",
       "\n",
       "       Tipo de Contrato                                 Nombre Grupo  \\\n",
       "123225      No definido  [G] Terrenos, Edificios, Estructuras y vías   \n",
       "410080      No definido  [G] Terrenos, Edificios, Estructuras y vías   \n",
       "472437      No definido  [G] Terrenos, Edificios, Estructuras y vías   \n",
       "492844      No definido  [G] Terrenos, Edificios, Estructuras y vías   \n",
       "\n",
       "       Tipo Identifi del Contratista Rango de Ejec del Contrato  \\\n",
       "123225                   No Definido                          N   \n",
       "410080                   No Definido                          N   \n",
       "472437                   No Definido                          N   \n",
       "492844                   No Definido                          N   \n",
       "\n",
       "        Cuantia Contrato Origen de los Recursos  Marc Adiciones  \\\n",
       "123225               0.0            No definido               0   \n",
       "410080               0.0            No definido               0   \n",
       "472437               0.0            No definido               0   \n",
       "492844               0.0            No definido               0   \n",
       "\n",
       "        Tiempo Adiciones en Dias  Tiempo Adiciones en Meses  \\\n",
       "123225                         0                          0   \n",
       "410080                         0                          0   \n",
       "472437                         0                          0   \n",
       "492844                         0                          0   \n",
       "\n",
       "        Valor Total de Adiciones  Marc Sancion  Valor Sancion  \\\n",
       "123225                       0.0             0            0.0   \n",
       "410080                       0.0             0            0.0   \n",
       "472437                       0.0             0            0.0   \n",
       "492844                       0.0             0            0.0   \n",
       "\n",
       "       Regimen de contratacion  \n",
       "123225                     nan  \n",
       "410080                     nan  \n",
       "472437                     nan  \n",
       "492844                     nan  "
      ]
     },
     "execution_count": 18,
     "metadata": {},
     "output_type": "execute_result"
    }
   ],
   "source": [
    "#null_rows = df.index[pd.isnull(df[\"Regimen de Contratacion\"])]\n",
    "#df.iloc[null_rows,:]\n",
    "df[pd.isnull(df[\"Regimen de Contratacion\"])]"
   ]
  },
  {
   "cell_type": "markdown",
   "metadata": {},
   "source": [
    "Se pueden descartar esas filas ya que son muy pocas y no tienen información relevante."
   ]
  },
  {
   "cell_type": "code",
   "execution_count": 21,
   "metadata": {},
   "outputs": [],
   "source": [
    "df = df[~pd.isnull(df[\"Regimen de Contratacion\"])]"
   ]
  },
  {
   "cell_type": "markdown",
   "metadata": {},
   "source": [
    "# Modelos\n",
    "Los  modelos de clasificación que se probarán son:\n",
    "1. K-Nearest Neighbors\n",
    "2. Modelos Bayesianos\n",
    "3. SVM\n",
    "\n",
    "Cada uno de estos modelos se probará utilizando como inputs y outputs las variables de la siguiente manera:\n",
    "1. **Inputs**: categóricas (textuales), Marc Adiciones y variables numéricas, **Output**: Marc Sancion\n",
    "2. **Inputs**: categóricas (textuales), variables numéricas, **Output**: Marc Sancion\n",
    "3. **Inputs**: categóricas (textuales), variables numéricas, **Output**: Marc Adiciones\n",
    "\n",
    "**Nota:** hay que manejar con cuidado el desbalance de las proporciones de los datos, de lo contrario los modelos quedan sesgados"
   ]
  },
  {
   "cell_type": "code",
   "execution_count": 22,
   "metadata": {},
   "outputs": [
    {
     "data": {
      "text/plain": [
       "Index(['Orden Entidad', 'Tipo de Proceso', 'Estado del Proceso',\n",
       "       'Regimen de Contratacion', 'Objeto a Contratar', 'Tipo de Contrato',\n",
       "       'Nombre Grupo', 'Tipo Identifi del Contratista',\n",
       "       'Rango de Ejec del Contrato', 'Cuantia Contrato',\n",
       "       'Origen de los Recursos', 'Marc Adiciones', 'Tiempo Adiciones en Dias',\n",
       "       'Tiempo Adiciones en Meses', 'Valor Total de Adiciones', 'Marc Sancion',\n",
       "       'Valor Sancion', 'Regimen de contratacion'],\n",
       "      dtype='object')"
      ]
     },
     "execution_count": 22,
     "metadata": {},
     "output_type": "execute_result"
    }
   ],
   "source": [
    "df.columns"
   ]
  },
  {
   "cell_type": "code",
   "execution_count": null,
   "metadata": {},
   "outputs": [],
   "source": [
    "def plotCM(ytrue, ypred, titulo, clases=None, normalize = False, ax = None):\n",
    "    \"\"\" Funcion para calcular y visualizar la matriz de confusion\"\"\"\n",
    "    \n",
    "    if clases == None:\n",
    "        clases = list(set(ytrue))\n",
    "        clases.sort() # etiquetas unicas ordenadas alfabeticamente\n",
    "    \n",
    "    CM = confusion_matrix(ytrue,ypred, labels=clases)\n",
    "    \n",
    "    #Normaliza la matriz de confusion dividiendo cada fila por el total de verdaderos\n",
    "    if normalize:\n",
    "        CM = 100*CM / CM.sum(axis=1).reshape(-1,1) #Aprovechando el Broadcasting!\n",
    " \n",
    "    df = pd.DataFrame(CM, index=clases, columns=clases)\n",
    "    df.index.name = 'True'; df.columns.name = 'Predicted'\n",
    "    \n",
    "    sns.heatmap( df, # Visualizando la matriz de confusion\n",
    "             annot=True, fmt='2.1f', cmap='ocean_r',cbar=False,square=True, annot_kws={'fontsize':16}, ax=ax )\n",
    "    plt.title(titulo)\n",
    "    plt.show()"
   ]
  },
  {
   "cell_type": "markdown",
   "metadata": {},
   "source": [
    "---\n",
    "# Análisis de correlaciones entre Inputs y Output\n",
    "## Ayudas\n",
    "- Test chi cuadrado\n",
    "- Cramers'V\n",
    "- Bonferroni Correction"
   ]
  },
  {
   "cell_type": "code",
   "execution_count": 42,
   "metadata": {},
   "outputs": [],
   "source": [
    "from sklearn.preprocessing import OneHotEncoder"
   ]
  },
  {
   "cell_type": "code",
   "execution_count": 43,
   "metadata": {},
   "outputs": [
    {
     "data": {
      "text/plain": [
       "OneHotEncoder()"
      ]
     },
     "execution_count": 43,
     "metadata": {},
     "output_type": "execute_result"
    }
   ],
   "source": [
    "# Columnas con texto categoricas\n",
    "# ['Orden Entidad','Tipo de Proceso','Estado del Proceso','Regimen de Contratacion','Objeto a Contratar','Tipo de Contrato','Origen de los Recursos']\n",
    "#Transformación de texto a codigos con OneHotencoder\n",
    "enc = OneHotEncoder()\n",
    "enc.fit(df[cat_cols])\n",
    "# enc.categories: arreglo con nombre de categorias porcolumna"
   ]
  },
  {
   "cell_type": "code",
   "execution_count": 44,
   "metadata": {},
   "outputs": [],
   "source": [
    "# Diccionario de diccionarios de codigos para cada columna categorica\n",
    "dic_cods = dict()\n",
    "for i in range(len(enc.categories_)):\n",
    "    d = dict()\n",
    "    for j in range(len(enc.categories_[i])):\n",
    "        d[enc.categories_[i][j]] = j\n",
    "    dic_cods[cat_cols[i]] = d"
   ]
  },
  {
   "cell_type": "code",
   "execution_count": 45,
   "metadata": {},
   "outputs": [],
   "source": [
    "from copy import deepcopy"
   ]
  },
  {
   "cell_type": "code",
   "execution_count": 56,
   "metadata": {},
   "outputs": [],
   "source": [
    "# Reemplazando texto por codigos\n",
    "df_cod = deepcopy(df)\n",
    "for name in cat_cols:\n",
    "    df_cod = df_cod.replace({name:dic_cods[name]})"
   ]
  },
  {
   "cell_type": "code",
   "execution_count": 58,
   "metadata": {},
   "outputs": [
    {
     "data": {
      "text/html": [
       "<div>\n",
       "<style scoped>\n",
       "    .dataframe tbody tr th:only-of-type {\n",
       "        vertical-align: middle;\n",
       "    }\n",
       "\n",
       "    .dataframe tbody tr th {\n",
       "        vertical-align: top;\n",
       "    }\n",
       "\n",
       "    .dataframe thead th {\n",
       "        text-align: right;\n",
       "    }\n",
       "</style>\n",
       "<table border=\"1\" class=\"dataframe\">\n",
       "  <thead>\n",
       "    <tr style=\"text-align: right;\">\n",
       "      <th></th>\n",
       "      <th>Orden Entidad</th>\n",
       "      <th>Tipo de Proceso</th>\n",
       "      <th>Estado del Proceso</th>\n",
       "      <th>Regimen de Contratacion</th>\n",
       "      <th>Objeto a Contratar</th>\n",
       "      <th>Tipo de Contrato</th>\n",
       "      <th>Nombre Grupo</th>\n",
       "      <th>Tipo Identifi del Contratista</th>\n",
       "      <th>Rango de Ejec del Contrato</th>\n",
       "      <th>Cuantia Contrato</th>\n",
       "      <th>Origen de los Recursos</th>\n",
       "      <th>Marc Adiciones</th>\n",
       "      <th>Tiempo Adiciones en Dias</th>\n",
       "      <th>Tiempo Adiciones en Meses</th>\n",
       "      <th>Valor Total de Adiciones</th>\n",
       "      <th>Marc Sancion</th>\n",
       "      <th>Valor Sancion</th>\n",
       "      <th>Regimen de contratacion</th>\n",
       "    </tr>\n",
       "  </thead>\n",
       "  <tbody>\n",
       "    <tr>\n",
       "      <th>0</th>\n",
       "      <td>0</td>\n",
       "      <td>9</td>\n",
       "      <td>2</td>\n",
       "      <td>2</td>\n",
       "      <td>54</td>\n",
       "      <td>11</td>\n",
       "      <td>[G] Terrenos, Edificios, Estructuras y vías</td>\n",
       "      <td>Nit de Persona Jurídica</td>\n",
       "      <td>D</td>\n",
       "      <td>4990600.0</td>\n",
       "      <td>11</td>\n",
       "      <td>0</td>\n",
       "      <td>0</td>\n",
       "      <td>0</td>\n",
       "      <td>0.0</td>\n",
       "      <td>0</td>\n",
       "      <td>0.0</td>\n",
       "      <td>Régimen Especial</td>\n",
       "    </tr>\n",
       "    <tr>\n",
       "      <th>1</th>\n",
       "      <td>0</td>\n",
       "      <td>9</td>\n",
       "      <td>2</td>\n",
       "      <td>2</td>\n",
       "      <td>43</td>\n",
       "      <td>13</td>\n",
       "      <td>[F] Servicios</td>\n",
       "      <td>Nit de Persona Jurídica</td>\n",
       "      <td>M</td>\n",
       "      <td>2518660.0</td>\n",
       "      <td>1</td>\n",
       "      <td>0</td>\n",
       "      <td>0</td>\n",
       "      <td>0</td>\n",
       "      <td>0.0</td>\n",
       "      <td>0</td>\n",
       "      <td>0.0</td>\n",
       "      <td>Régimen Especial</td>\n",
       "    </tr>\n",
       "    <tr>\n",
       "      <th>2</th>\n",
       "      <td>2</td>\n",
       "      <td>4</td>\n",
       "      <td>2</td>\n",
       "      <td>0</td>\n",
       "      <td>47</td>\n",
       "      <td>13</td>\n",
       "      <td>[F] Servicios</td>\n",
       "      <td>Cédula de Ciudadanía</td>\n",
       "      <td>M</td>\n",
       "      <td>62400000.0</td>\n",
       "      <td>1</td>\n",
       "      <td>0</td>\n",
       "      <td>0</td>\n",
       "      <td>0</td>\n",
       "      <td>0.0</td>\n",
       "      <td>0</td>\n",
       "      <td>0.0</td>\n",
       "      <td>Estatuto General de Contratación</td>\n",
       "    </tr>\n",
       "    <tr>\n",
       "      <th>3</th>\n",
       "      <td>4</td>\n",
       "      <td>9</td>\n",
       "      <td>2</td>\n",
       "      <td>2</td>\n",
       "      <td>51</td>\n",
       "      <td>13</td>\n",
       "      <td>[F] Servicios</td>\n",
       "      <td>Cédula de Ciudadanía</td>\n",
       "      <td>D</td>\n",
       "      <td>1060200.0</td>\n",
       "      <td>1</td>\n",
       "      <td>0</td>\n",
       "      <td>0</td>\n",
       "      <td>0</td>\n",
       "      <td>0.0</td>\n",
       "      <td>0</td>\n",
       "      <td>0.0</td>\n",
       "      <td>Régimen Especial</td>\n",
       "    </tr>\n",
       "    <tr>\n",
       "      <th>4</th>\n",
       "      <td>0</td>\n",
       "      <td>4</td>\n",
       "      <td>2</td>\n",
       "      <td>0</td>\n",
       "      <td>41</td>\n",
       "      <td>13</td>\n",
       "      <td>[F] Servicios</td>\n",
       "      <td>Nit de Persona Natural</td>\n",
       "      <td>D</td>\n",
       "      <td>2317005.0</td>\n",
       "      <td>1</td>\n",
       "      <td>0</td>\n",
       "      <td>0</td>\n",
       "      <td>0</td>\n",
       "      <td>0.0</td>\n",
       "      <td>0</td>\n",
       "      <td>0.0</td>\n",
       "      <td>Estatuto General de Contratación</td>\n",
       "    </tr>\n",
       "  </tbody>\n",
       "</table>\n",
       "</div>"
      ],
      "text/plain": [
       "   Orden Entidad  Tipo de Proceso  Estado del Proceso  \\\n",
       "0              0                9                   2   \n",
       "1              0                9                   2   \n",
       "2              2                4                   2   \n",
       "3              4                9                   2   \n",
       "4              0                4                   2   \n",
       "\n",
       "   Regimen de Contratacion  Objeto a Contratar  Tipo de Contrato  \\\n",
       "0                        2                  54                11   \n",
       "1                        2                  43                13   \n",
       "2                        0                  47                13   \n",
       "3                        2                  51                13   \n",
       "4                        0                  41                13   \n",
       "\n",
       "                                  Nombre Grupo Tipo Identifi del Contratista  \\\n",
       "0  [G] Terrenos, Edificios, Estructuras y vías       Nit de Persona Jurídica   \n",
       "1                                [F] Servicios       Nit de Persona Jurídica   \n",
       "2                                [F] Servicios          Cédula de Ciudadanía   \n",
       "3                                [F] Servicios          Cédula de Ciudadanía   \n",
       "4                                [F] Servicios        Nit de Persona Natural   \n",
       "\n",
       "  Rango de Ejec del Contrato  Cuantia Contrato  Origen de los Recursos  \\\n",
       "0                          D         4990600.0                      11   \n",
       "1                          M         2518660.0                       1   \n",
       "2                          M        62400000.0                       1   \n",
       "3                          D         1060200.0                       1   \n",
       "4                          D         2317005.0                       1   \n",
       "\n",
       "   Marc Adiciones  Tiempo Adiciones en Dias  Tiempo Adiciones en Meses  \\\n",
       "0               0                         0                          0   \n",
       "1               0                         0                          0   \n",
       "2               0                         0                          0   \n",
       "3               0                         0                          0   \n",
       "4               0                         0                          0   \n",
       "\n",
       "   Valor Total de Adiciones  Marc Sancion  Valor Sancion  \\\n",
       "0                       0.0             0            0.0   \n",
       "1                       0.0             0            0.0   \n",
       "2                       0.0             0            0.0   \n",
       "3                       0.0             0            0.0   \n",
       "4                       0.0             0            0.0   \n",
       "\n",
       "            Regimen de contratacion  \n",
       "0                  Régimen Especial  \n",
       "1                  Régimen Especial  \n",
       "2  Estatuto General de Contratación  \n",
       "3                  Régimen Especial  \n",
       "4  Estatuto General de Contratación  "
      ]
     },
     "execution_count": 58,
     "metadata": {},
     "output_type": "execute_result"
    }
   ],
   "source": [
    "# df_cod es el mismo dataset pero con las variables categoricas codificadas\n",
    "df_cod.head()"
   ]
  },
  {
   "cell_type": "markdown",
   "metadata": {},
   "source": [
    "# 1. Inputs textuales + Marc_sancion, output: Marc Sancion"
   ]
  },
  {
   "cell_type": "markdown",
   "metadata": {},
   "source": [
    "## 1.1 Análisis de correlación inputs categóricos y output Marc Sancion categorico\n",
    "La correlación entre dos variables categóricas se puede medir con las siguientes técnicas: **test chi cuadrado, Cramers's V**.\\\n",
    "Primero analicemos analicemos con el test de Chi cuadrado."
   ]
  },
  {
   "cell_type": "code",
   "execution_count": 80,
   "metadata": {},
   "outputs": [],
   "source": [
    "from scipy.stats import chi2_contingency\n",
    "from scipy.stats import chi2"
   ]
  },
  {
   "cell_type": "code",
   "execution_count": 97,
   "metadata": {},
   "outputs": [],
   "source": [
    "def chi2_test(var1,var2,prob=0.95):\n",
    "    \"\"\"\n",
    "    Determina si 2 variables categoricas tienen algún tipo de correlacion con test de chi cuadrado\n",
    "    args:\n",
    "        var1: variable 1\n",
    "        var2: variable 2\n",
    "        prob: nivel de confianza para test, por defecto 95%\n",
    "    returns:\n",
    "        metricas de test\n",
    "    \"\"\"\n",
    "    table = pd.crosstab(var1,var2)\n",
    "    # Estadistico cho2, p-valor, grados de libertad estimados y frecuencias estimadas\n",
    "    # basado en sumas marginales de la tabla\n",
    "    stat,p,dof,expected = chi2_contingency(table)\n",
    "    print(\"Degrees of freedom (Dof): \", dof)\n",
    "    #print(expected)\n",
    "    #prob = 0.95\n",
    "    # Percent point function, inverse distribution function\n",
    "    # Calcula probabilidad que la variable sea menor o igual que x dado un x\n",
    "    # interpret statistic\n",
    "    critical=chi2.ppf(prob,dof)\n",
    "    print(\"Probability = %.3f, critical = %.3f, stat = %.3f\" % (prob,critical,stat))\n",
    "    if abs(stat) >=critical:\n",
    "        print(\"Dependent (reject H0)\")\n",
    "    else:\n",
    "        print(\"Independent (fail to reject H0)\")\n",
    "    # interpet p-value\n",
    "    alpha = 1.0-prob\n",
    "    print(\"Significance = %.3f, p-value = %.3f\" % (alpha,p))\n",
    "    if p <=alpha:\n",
    "        print(\"Dependent (reject H0)\")\n",
    "    else:\n",
    "        print(\"Independent (fail to reject H0)\")"
   ]
  },
  {
   "cell_type": "markdown",
   "metadata": {},
   "source": [
    "### Entre Orden Entidad y Marc Sancion"
   ]
  },
  {
   "cell_type": "code",
   "execution_count": 94,
   "metadata": {},
   "outputs": [
    {
     "data": {
      "image/png": "[encoded data removed]",
      "text/plain": [
       "<Figure size 432x288 with 2 Axes>"
      ]
     },
     "metadata": {
      "needs_background": "light"
     },
     "output_type": "display_data"
    }
   ],
   "source": [
    "col1 = \"Orden Entidad\"\n",
    "col2 = \"Marc Sancion\"\n",
    "sns.heatmap(pd.crosstab(df[col1],df[col2],normalize=True),annot=True);\n",
    "plt.title(\"Crosstab normalizado entre \"+col1+ \" y \"+col2);"
   ]
  },
  {
   "cell_type": "code",
   "execution_count": 78,
   "metadata": {},
   "outputs": [
    {
     "data": {
      "text/html": [
       "<div>\n",
       "<style scoped>\n",
       "    .dataframe tbody tr th:only-of-type {\n",
       "        vertical-align: middle;\n",
       "    }\n",
       "\n",
       "    .dataframe tbody tr th {\n",
       "        vertical-align: top;\n",
       "    }\n",
       "\n",
       "    .dataframe thead th {\n",
       "        text-align: right;\n",
       "    }\n",
       "</style>\n",
       "<table border=\"1\" class=\"dataframe\">\n",
       "  <thead>\n",
       "    <tr style=\"text-align: right;\">\n",
       "      <th>Marc Sancion</th>\n",
       "      <th>0</th>\n",
       "      <th>1</th>\n",
       "    </tr>\n",
       "    <tr>\n",
       "      <th>Orden Entidad</th>\n",
       "      <th></th>\n",
       "      <th></th>\n",
       "    </tr>\n",
       "  </thead>\n",
       "  <tbody>\n",
       "    <tr>\n",
       "      <th>DISTRITO CAPITAL</th>\n",
       "      <td>384544</td>\n",
       "      <td>251</td>\n",
       "    </tr>\n",
       "    <tr>\n",
       "      <th>NACIONAL CENTRALIZADO</th>\n",
       "      <td>392</td>\n",
       "      <td>0</td>\n",
       "    </tr>\n",
       "    <tr>\n",
       "      <th>NACIONAL DESCENTRALIZADO</th>\n",
       "      <td>64398</td>\n",
       "      <td>10</td>\n",
       "    </tr>\n",
       "    <tr>\n",
       "      <th>TERRITORIAL DEPARTAMENTAL CENTRALIZADO</th>\n",
       "      <td>65154</td>\n",
       "      <td>0</td>\n",
       "    </tr>\n",
       "    <tr>\n",
       "      <th>TERRITORIAL DEPARTAMENTAL DESCENTRALIZADO</th>\n",
       "      <td>141228</td>\n",
       "      <td>3</td>\n",
       "    </tr>\n",
       "  </tbody>\n",
       "</table>\n",
       "</div>"
      ],
      "text/plain": [
       "Marc Sancion                                    0    1\n",
       "Orden Entidad                                         \n",
       "DISTRITO CAPITAL                           384544  251\n",
       "NACIONAL CENTRALIZADO                         392    0\n",
       "NACIONAL DESCENTRALIZADO                    64398   10\n",
       "TERRITORIAL DEPARTAMENTAL CENTRALIZADO      65154    0\n",
       "TERRITORIAL DEPARTAMENTAL DESCENTRALIZADO  141228    3"
      ]
     },
     "execution_count": 78,
     "metadata": {},
     "output_type": "execute_result"
    }
   ],
   "source": [
    "table = pd.crosstab(df[\"Orden Entidad\"],df[\"Marc Sancion\"])\n",
    "table"
   ]
  },
  {
   "cell_type": "code",
   "execution_count": 98,
   "metadata": {},
   "outputs": [
    {
     "name": "stdout",
     "output_type": "stream",
     "text": [
      "Degrees of freedom (Dof):  4\n",
      "Probability = 0.950, critical = 9.488, stat = 146.898\n",
      "Dependent (reject H0)\n",
      "Significance = 0.050, p-value = 0.000\n",
      "Dependent (reject H0)\n"
     ]
    }
   ],
   "source": [
    "chi2_test(df[\"Orden Entidad\"],df[\"Marc Sancion\"],prob=0.95)"
   ]
  },
  {
   "cell_type": "markdown",
   "metadata": {},
   "source": [
    "### Entre tipo de Proceso y Marc Sancion"
   ]
  },
  {
   "cell_type": "code",
   "execution_count": 95,
   "metadata": {},
   "outputs": [
    {
     "data": {
      "image/png": "[encoded data removed]",
      "text/plain": [
       "<Figure size 432x288 with 2 Axes>"
      ]
     },
     "metadata": {
      "needs_background": "light"
     },
     "output_type": "display_data"
    }
   ],
   "source": [
    "col1 = \"Tipo de Proceso\"\n",
    "col2 = \"Marc Sancion\"\n",
    "sns.heatmap(pd.crosstab(df[col1],df[col2],normalize=True),annot=True);\n",
    "plt.title(\"Crosstab normalizado entre \"+col1+ \" y \"+col2);"
   ]
  },
  {
   "cell_type": "code",
   "execution_count": 99,
   "metadata": {},
   "outputs": [
    {
     "name": "stdout",
     "output_type": "stream",
     "text": [
      "Degrees of freedom (Dof):  13\n",
      "Probability = 0.950, critical = 22.362, stat = 4173.681\n",
      "Dependent (reject H0)\n",
      "Significance = 0.050, p-value = 0.000\n",
      "Dependent (reject H0)\n"
     ]
    }
   ],
   "source": [
    "table = pd.crosstab(df[\"Tipo de Proceso\"],df[\"Marc Sancion\"])\n",
    "chi2_test(df[\"Tipo de Proceso\"],df[\"Marc Sancion\"],prob=0.95)"
   ]
  }
 ],
 "metadata": {
  "kernelspec": {
   "display_name": "Python 3",
   "language": "python",
   "name": "python3"
  },
  "language_info": {
   "codemirror_mode": {
    "name": "ipython",
    "version": 3
   },
   "file_extension": ".py",
   "mimetype": "text/x-python",
   "name": "python",
   "nbconvert_exporter": "python",
   "pygments_lexer": "ipython3",
   "version": "3.8.5"
  }
 },
 "nbformat": 4,
 "nbformat_minor": 4
}
