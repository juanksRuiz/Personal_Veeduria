{
 "cells": [
  {
   "cell_type": "markdown",
   "metadata": {},
   "source": [
    "# Modelos para detectar contratos con adiciones - SECOP I\n",
    "En este notebook se realiza la prueba de posibles modelos predictivos con los cuales se pretende detectar anomalías en la contratación pública de Bogotá. Se usa como insumo la base de datos SECOP_I_MASTER2.\n",
    "\n",
    "Base con la cual se proceden a realizar modelos de clasificación binarios para 3 diferentes variables objetivo que determinan si el contrato tuvo alguna adición del respectivo tipo o no; `Marc Adiciones`,`Adiciones en Valor` y `Adiciones en Valor`. Adicionalmente, se realizan modelos con y sin incluir los modelos con prestacion de servicios.\n",
    "\n",
    "1. **Modelos para Sancion (Marc Sancion)**\n",
    "2. **Modelos para Adiciones**\n",
    "    1. Balanceo de clases y selección doble de variables\n",
    "    2. Pruebas Regresión logística y Bosques Aleatorios\n",
    "    3. Comparación Modelos\n",
    "    4. Repetición de  los puntos anteriores SIN prestación de servicios\n",
    "    \n",
    "- Buscar útilidad de AIC Y BIC para modelos de clasificación y su calculo.https://stackoverflow.com/questions/48185090/how-to-get-the-log-likelihood-for-a-logistic-regression-model-in-sklearn\n",
    "- Probar elección de hiperparámetros con métrica fbeta."
   ]
  },
  {
   "cell_type": "code",
   "execution_count": 1,
   "metadata": {},
   "outputs": [],
   "source": [
    "import os\n",
    "import numpy as np\n",
    "import pandas as pd\n",
    "\n",
    "import matplotlib.pyplot as plt\n",
    "\n",
    "from sklearn.utils import resample\n",
    "from sklearn import preprocessing\n",
    "from sklearn.model_selection import train_test_split, cross_val_score, GridSearchCV\n",
    "from sklearn.feature_selection import RFE, SelectFromModel\n",
    "from sklearn.metrics import *\n",
    "from sklearn.linear_model import LogisticRegression\n",
    "from sklearn.ensemble import RandomForestClassifier, ExtraTreesClassifier\n",
    "\n",
    "import scipy.stats as stats\n",
    "from scipy import stats\n",
    "from scipy.stats import kruskal\n",
    "from scipy import stats\n",
    "\n",
    "import pycorrcat.pycorrcat as corrcat  #Calcula la V de cramer para variables categóricas.\n",
    "\n",
    "import statsmodels.api as sm\n",
    "\n",
    "import seaborn as sns\n",
    "# os.chdir('C:/Users/santiago/Documents/Proyecto AI Veeduría')\n",
    "os.chdir('C:/Users/juanc/OneDrive/Escritorio/LOCAL_Personal_Veeduria')\n"
   ]
  },
  {
   "cell_type": "markdown",
   "metadata": {},
   "source": [
    "# Funciones auxiliares"
   ]
  },
  {
   "cell_type": "code",
   "execution_count": 2,
   "metadata": {},
   "outputs": [],
   "source": [
    "# Gráficas\n",
    "def corr_Matrix(data):\n",
    "    '''\n",
    "    Gráfica la matríz de correlación entre todas las variables \n",
    "    de la base de datos usada.\n",
    "    '''\n",
    "    f,ax = plt.subplots(figsize = (15,14))\n",
    "    sns.heatmap(data.corr(),cmap = 'ocean_r', annot = True, cbar = False )\n",
    "    ax.set_title('Correlation matrix')\n",
    "    plt.show()\n",
    "\n",
    "\n",
    "def plot_ROC(model, X_test, y_test, scaler, model_name='Model'):\n",
    "    '''\n",
    "    Gráfica la curva ROC y calcula el AUC para un modelo entrenado dados unos datos de prueba.\n",
    "    Entradas:\n",
    "            model: modelo sklearn entrenado del que se usa el método predict_proba()\n",
    "            X_test: variables independientes de prueba.\n",
    "            Y_test: variable dependiente de prueba.\n",
    "            scaler: objeto preprocessing.StandardScaler() entrenado junto al modelo para escalar X_test.\n",
    "            model_name: string con el nombre del modelo que se pasa para usar como leyenda de la curva ROC\n",
    "    Salida:\n",
    "            Gráfica curva ROC e impresión del AUC.\n",
    "    '''\n",
    "    ns_probs = [0 for _ in range(len(y_test))]\n",
    "    lr_probs = model.predict_proba(scaler.transform(X_test))\n",
    "    lr_probs = lr_probs[:, 1]\n",
    "    \n",
    "    lr_auc = roc_auc_score(y_test, lr_probs)\n",
    "    print(\"Model: ROC AUC = {:1.3f}\".format(lr_auc))\n",
    "\n",
    "    ns_fpr, ns_tpr, _ = roc_curve(y_test, ns_probs)\n",
    "    lr_fpr, lr_tpr, _ = roc_curve(y_test, lr_probs)\n",
    "\n",
    "    plt.plot(ns_fpr, ns_tpr, linestyle = '--') \n",
    "    plt.plot(lr_fpr, lr_tpr, marker = '.', label = model_name)\n",
    "    plt.xlabel('False Positive Rate')\n",
    "    plt.ylabel('True Positive Rate')\n",
    "    plt.legend(loc=\"lower right\")\n",
    "    plt.title('ROC curve')\n",
    "    plt.show()\n",
    "    \n",
    "    \n",
    "def plot_CM(y_true, y_pred,norm=None):\n",
    "    '''\n",
    "    Tabla de matríz de confusión\n",
    "    '''\n",
    "    cm = confusion_matrix(y_true, y_pred,normalize=norm)\n",
    "    cm_df = pd.DataFrame(cm, index = ['No','Sí'], columns = ['No','Sí'])\n",
    "    cm_df.index.name = 'True'; cm_df.columns.name = 'Predicted'\n",
    "    return cm_df\n",
    "\n",
    "def balance(base, target):\n",
    "    '''\n",
    "    Función para balancear las bases de datos hacia el valor de la variables objetivo con menos observaciones.\n",
    "    Entradas:\n",
    "            base: base de pandas a balancear.\n",
    "            target: nombre de la variable objetivo respecto a la que se balanceará.\n",
    "    Salida:\n",
    "            df_downsample: base balanceada.\n",
    "    '''\n",
    "    df_majority = base[base[target] == 0]\n",
    "    df_minority = base[base[target] == 1]\n",
    "    \n",
    "    n = min(base[target].value_counts())\n",
    "    df_majority_downsampled = resample(df_majority, replace = False, n_samples = n, random_state = 123)\n",
    "    df_downsampled = pd.concat([df_majority_downsampled, df_minority])\n",
    "    \n",
    "    return df_downsampled\n",
    "def small_balanced_sample(X,y,N):\n",
    "    \"\"\"\n",
    "    Muestrea un subconjunto de la base de datos con n dilas por categoria del target\n",
    "    Entradas:\n",
    "        X: matriz de datos \n",
    "        y: arreglo de ariable respuesta\n",
    "        N: numero de muestras a muestrear para cada clase\n",
    "        \n",
    "    Salida:\n",
    "        X_samp, y_samp: matriz de datos muestreada y variable output muestrado\n",
    "    \"\"\"\n",
    "    # Concatenacion de X y output y en una sola tabla\n",
    "    base = pd.concat([X,pd.DataFrame(y)],axis=1).dropna()    \n",
    "    # Muestreo de N datos por columna\n",
    "    base_new = base.groupby(y.name).sample(n=N,random_state=1)\n",
    "    # Shuffle\n",
    "    base_new = base_new.sample(frac=1).reset_index(drop=True)\n",
    "    X_samp = base_new.iloc[:,:-1] # Todas las columnas excepto la ultima donde esta el target\n",
    "    y_samp = base_new[y.name]\n",
    "    return X_samp, y_samp"
   ]
  },
  {
   "cell_type": "code",
   "execution_count": 3,
   "metadata": {},
   "outputs": [],
   "source": [
    "# Funciones para ejecutar modelos\n",
    "def feature_selection(X, y,max_vars = None,umbral = None):\n",
    "    '''\n",
    "    Selección de variables estadísticamente significativas mediante random forest\n",
    "    Entradas: X, y: Variables independietes y dependientes como base y serie de pandas respectivamente.\n",
    "    Salida: X_varSelec: Pandas dataframe solo con las variables significativas.\n",
    "    '''\n",
    "    sel = SelectFromModel(RandomForestClassifier(n_estimators = 100),max_features = max_vars,threshold=umbral)\n",
    "    sel.fit(X, y)\n",
    "    \n",
    "    variables_significativas = np.where(sel.get_support() == True)\n",
    "    nombres_columnas = []\n",
    "    for idx, i in enumerate(variables_significativas):\n",
    "        nombres_columnas.append(X.columns[i])\n",
    "    nombres_columnas = list(nombres_columnas[0])\n",
    "    print(\"Variables estadísticamente significativas: \\n{}\".format(nombres_columnas))\n",
    "    \n",
    "    X_varSelec = sel.transform(X)\n",
    "    X_varSelec = pd.DataFrame(X_varSelec, columns = nombres_columnas)\n",
    "    \n",
    "    return X_varSelec\n",
    "\n",
    "\n",
    "def reg_log(X, y):\n",
    "    '''\n",
    "    Modelo de regresión logítica.\n",
    "    Función para la realización de modelos mediante regresión logística. Imprime accuracy de la validación cruzada\n",
    "    y datos de prueba , así como el recall en los datos de prueba.\n",
    "    Entradas: \n",
    "            X: base de pandas con variables independientes.\n",
    "            Y: serie de pandas con la variable objetivo.\n",
    "    Salidas:\n",
    "            rl: modelo de regresión logística entrenado.\n",
    "            X_test, y_test: Datos de prueba.\n",
    "            y_pred: valores de la variable respuesta estimados.\n",
    "            scaler: objeto para escalar valores entrenado.\n",
    "    '''\n",
    "    X_train, X_test, y_train, y_test = train_test_split(X, y, test_size = 0.3, random_state = 42, stratify = y)\n",
    "    scaler = preprocessing.StandardScaler().fit(X_train)\n",
    "    \n",
    "    rl = LogisticRegression(max_iter = 500)\n",
    "    vc = cross_val_score(rl, scaler.transform(X_train), y_train, cv = 10, scoring = \"accuracy\")\n",
    "    accuracy = vc.mean()\n",
    "    print(\"Accuracy para Regresión Logística con validación cruzada: {:1.4f} \".format(accuracy) )\n",
    "    \n",
    "    rl = LogisticRegression(max_iter = 500)\n",
    "    rl.fit(scaler.transform(X_train), y_train)\n",
    "\n",
    "    y_pred = rl.predict(scaler.transform(X_test))\n",
    "    print(\"El accuracy del test es: {:1.4f}\".format( accuracy_score(y_test, y_pred) ))\n",
    "    print(\"La sensitividad(recall) del test es: {:1.4f}\".format( recall_score(y_test, y_pred) ))\n",
    "    \n",
    "    return rl, X_test, y_test, y_pred, scaler\n",
    "\n",
    "\n",
    "def random_forest(X, y):\n",
    "    '''\n",
    "    Modelo random forest para clasificación.\n",
    "    Entradas: \n",
    "            X: base de pandas con variables independientes.\n",
    "            Y: serie de pandas con la variable objetivo.\n",
    "    Salidas:\n",
    "            arb: modelo de random forest entrenado.\n",
    "            X_test, y_test: Datos de prueba.\n",
    "            y_pred: valores de la variable respuesta estimados.\n",
    "            scaler: objeto para escalar valores entrenado.    \n",
    "    '''\n",
    "    X_train, X_test, y_train, y_test = train_test_split(X, y, test_size = 0.3, random_state = 42, stratify = y)\n",
    "    scaler = preprocessing.StandardScaler().fit(X_train)\n",
    "    \n",
    "    arb = RandomForestClassifier(random_state=42)\n",
    "    arb.fit(scaler.transform(X_train), y_train)\n",
    "    \n",
    "    y_pred_arb = arb.predict(scaler.transform(X_test))\n",
    "    print(\"Accuracy del test: {:1.4f}\".format( accuracy_score(y_test, y_pred_arb) ))\n",
    "    print(\"La sensitividad(recall) del test es: {:1.4f}\".format( recall_score(y_test, y_pred_arb) ))\n",
    "\n",
    "    return arb, X_test, y_test, y_pred_arb, scaler"
   ]
  },
  {
   "cell_type": "code",
   "execution_count": 4,
   "metadata": {},
   "outputs": [],
   "source": [
    "# tarda un poco en leer los datos\n",
    "df = pd.read_csv(\"SECOP_I_MASTER2.csv\")\n",
    "df = df.dropna()"
   ]
  },
  {
   "cell_type": "code",
   "execution_count": 5,
   "metadata": {},
   "outputs": [
    {
     "data": {
      "text/plain": [
       "['Marc Adiciones',\n",
       " 'Adicion en Valor',\n",
       " 'Adicion en Tiempo',\n",
       " 'Tiempo Adiciones (Dias)',\n",
       " 'Valor Total de Adiciones',\n",
       " 'Valor Contrato con Adiciones']"
      ]
     },
     "execution_count": 5,
     "metadata": {},
     "output_type": "execute_result"
    }
   ],
   "source": [
    "# Columnas sobre adiciones\n",
    "cols_ad = [n for n in df.columns if \"Adicion\" in n or \"adicion\" in n]\n",
    "cols_ad"
   ]
  },
  {
   "cell_type": "code",
   "execution_count": 6,
   "metadata": {
    "scrolled": true
   },
   "outputs": [
    {
     "name": "stdout",
     "output_type": "stream",
     "text": [
      "Dimension de los datos:  (603450, 49)\n"
     ]
    },
    {
     "data": {
      "text/plain": [
       "Index(['UID', 'Orden Entidad', 'Nombre de la Entidad', 'Código de la Entidad',\n",
       "       'Tipo de Proceso', 'Estado del Proceso',\n",
       "       'Causal de Otras Formas de Contratacion Directa',\n",
       "       'Regimen de Contratacion', 'Objeto a Contratar', 'Tipo de Contrato',\n",
       "       'cantidad de palabras objeto a contratar', 'Nombre Grupo',\n",
       "       'Nombre Familia', 'Nombre Clase', 'EsPostConflicto', 'Def Origen Recur',\n",
       "       'Num Origenes Recur', 'Descrip Origenes Recur', 'ID Ajudicacion',\n",
       "       'Tipo Identifi del Contratista',\n",
       "       'cantidad de palabras objeto del contrato a la Firma',\n",
       "       'mismo detalle objeto a contratar despues de firma',\n",
       "       'Identificacion del Contratista', 'Nom Raz Social Contratista',\n",
       "       'Dpto y Muni Contratista', 'Fecha de Cargue en el SECOP',\n",
       "       'Fecha de Firma del Contrato', 'Fecha Ini Ejec Contrato',\n",
       "       'Fecha Firma Contrato - Fecha Cargue Secop',\n",
       "       'Fecha Ini Ejec - Fecha Firma Contrato', 'Mes Firma Contrato',\n",
       "       'Dia del Mes Firma Contrato', 'Dia de la Semana Firma Contrato',\n",
       "       'Plazo en dias de Ejec del Contrato', 'Marc Adiciones',\n",
       "       'Adicion en Valor', 'Adicion en Tiempo', 'Tiempo Adiciones (Dias)',\n",
       "       'Fecha Fin Ejec Contrato', 'Cuantia Proceso', 'Cuantia Contrato',\n",
       "       'Valor Total de Adiciones', 'Valor Contrato con Adiciones',\n",
       "       'Nombre Sub Unidad Ejecutora', 'Moneda', 'Marc Sancion',\n",
       "       'Valor Sancion', 'Ultima Actualizacion',\n",
       "       'Ultima Actualizacion - Fecha Fin Ejec Contrato'],\n",
       "      dtype='object')"
      ]
     },
     "execution_count": 6,
     "metadata": {},
     "output_type": "execute_result"
    }
   ],
   "source": [
    "# Dimension y nombre de columnas\n",
    "print(\"Dimension de los datos: \",df.shape)\n",
    "df.columns"
   ]
  },
  {
   "cell_type": "markdown",
   "metadata": {},
   "source": [
    "# Identificación de variables"
   ]
  },
  {
   "cell_type": "code",
   "execution_count": 7,
   "metadata": {},
   "outputs": [],
   "source": [
    "#Variables a excluir al momento de entrenar modelos\n",
    "vars_a_excluir = [\"Orden Entidad\",\"Estado del Proceso\", \"Nombre Familia\",\n",
    "                  \"Nombre Clase\",\"Nombre Sub Unidad Ejecutora\",\"Moneda\",\"Cuantia Proceso\",\n",
    "                  \"Valor Contrato con Adiciones\",\"Objeto a Contratar\",\"Num Origenes Recur\",\n",
    "                 ]\n",
    "# Variables que no son utiles para modelos\n",
    "vars_a_excluir += [\"UID\",\"Nombre de la Entidad\",\"Código de la Entidad\",\"Descrip Origenes Recur\",\n",
    "                      \"ID Ajudicacion\",\"Tipo Identifi del Contratista\",\"Identificacion del Contratista\",\n",
    "                     \"Nom Raz Social Contratista\",\"Fecha de Cargue en el SECOP\",\"Fecha de Firma del Contrato\",\n",
    "                     \"Fecha Ini Ejec Contrato\",\"Fecha Ini Ejec Contrato\",\"Fecha Fin Ejec Contrato\"\n",
    "                     ,'Ultima Actualizacion']\n",
    "# vars_inluidas contiene los target\n",
    "vars_incluidas = [name for name in df.columns if name not in vars_a_excluir]\n",
    "# Marc Sancion como input es exluido\n",
    "vars_categoricas = [\"Tipo de Proceso\",\"Causal de Otras Formas de Contratacion Directa\",\"Regimen de Contratacion\",\n",
    "                    \"Tipo de Contrato\",\"Nombre Grupo\",\"EsPostConflicto\",\"Def Origen Recur\",\n",
    "                    \"mismo detalle objeto a contratar despues de firma\",\"Dpto y Muni Contratista\",\"Mes Firma Contrato\",\n",
    "                   \"Dia del Mes Firma Contrato\",\"Dia de la Semana Firma Contrato\",\"Marc Adiciones\",]"
   ]
  },
  {
   "cell_type": "markdown",
   "metadata": {},
   "source": [
    "### Dudas\n",
    "- Las variables en formato fecha fueron incluidas como inputs en el modelo?\n",
    "-  EsPostConflicto el desbalance es enorme, dejarla?\n",
    "-  Diccionario de variables que quedaron en SECOP_1_MASTER2\n",
    "- Departamento de Contratista hay unos pocos que vienen de municipios externos a Bogotá y Cundinamarca, dejarlos?\n",
    "- Tiempo Adiciones (Dias) tiene datos negativos"
   ]
  },
  {
   "cell_type": "code",
   "execution_count": 8,
   "metadata": {},
   "outputs": [
    {
     "name": "stdout",
     "output_type": "stream",
     "text": [
      "Para Marc Adiciones:\n",
      "0    451492\n",
      "1    151958\n",
      "Name: Marc Adiciones, dtype: int64 \n",
      " \n",
      "\n",
      "Para Adicion en Valor:\n",
      "0    461486\n",
      "1    141964\n",
      "Name: Adicion en Valor, dtype: int64 \n",
      " \n",
      "\n",
      "Para Adicion en Tiempo:\n",
      "0    460338\n",
      "1    143112\n",
      "Name: Adicion en Tiempo, dtype: int64 \n",
      " \n",
      "\n"
     ]
    }
   ],
   "source": [
    "print(\"Para Marc Adiciones:\")\n",
    "print(df[\"Marc Adiciones\"].value_counts(),\"\\n \\n\")\n",
    "print(\"Para Adicion en Valor:\")\n",
    "print(df[\"Adicion en Valor\"].value_counts(),\"\\n \\n\")\n",
    "print(\"Para Adicion en Tiempo:\")\n",
    "print(df[\"Adicion en Tiempo\"].value_counts(),\"\\n \\n\")"
   ]
  },
  {
   "cell_type": "markdown",
   "metadata": {},
   "source": [
    "Aunque el desbalance no es tan drástico como con `Marc Sancion` sí se mantiene un desbalance de 3 a 1 aproximadamente siendo la categroría 1 la menos presente para los 3 outputs. Por lo tanto, para cada output de adición se hará un downsampling de la clase 0 mientras que se mantiene intacta la cantidad de datos de la clase 1.\n",
    "\n",
    "Primero se balanceará los datos para que tengan unos resultante se seleccionarán entre 10000 y 15000 datos de cada clase para ejecutar los modelos manteniendo el balance y que se ejecuten rápido los modelos."
   ]
  },
  {
   "cell_type": "markdown",
   "metadata": {},
   "source": [
    "# 1. Modelos con output `Marc Adiciones`\n",
    "- Se exluye la informacion acerca de adiciones excepto el target 'Marc Adiciones'.\n",
    "- **Se excluye la información acerca de sanciones, es decir 'Marc Sancion y Valor Sancion'**"
   ]
  },
  {
   "cell_type": "code",
   "execution_count": 9,
   "metadata": {},
   "outputs": [],
   "source": [
    "# _MA: para Marc Adiciones\n",
    "df_downsampled_MA = balance(df,\"Marc Adiciones\")\n",
    "y_down_MA = df_downsampled_MA[\"Marc Adiciones\"]\n",
    "# Eliminamos las columnas innecesarias incluyendo la del target\n",
    "X_down_MA = df_downsampled_MA.drop(columns = vars_a_excluir + [\"Marc Adiciones\",\"Adicion en Valor\",\"Adicion en Tiempo\",\n",
    "                                                             \"Marc Sancion\",\"Valor Total de Adiciones\"])\n",
    "# Pasamos a dummies las columnas que sean categoricas\n",
    "X_down_MA_dum = pd.get_dummies(data = X_down_MA, columns=list(set(vars_categoricas) - {\"Marc Adiciones\",\"Marc Sancion\"}))"
   ]
  },
  {
   "cell_type": "code",
   "execution_count": 10,
   "metadata": {},
   "outputs": [
    {
     "name": "stdout",
     "output_type": "stream",
     "text": [
      "Variables iniciales para modelos:\n",
      "['Tipo de Proceso', 'Causal de Otras Formas de Contratacion Directa', 'Regimen de Contratacion', 'Tipo de Contrato', 'cantidad de palabras objeto a contratar', 'Nombre Grupo', 'EsPostConflicto', 'Def Origen Recur', 'cantidad de palabras objeto del contrato a la Firma', 'mismo detalle objeto a contratar despues de firma', 'Dpto y Muni Contratista', 'Fecha Firma Contrato - Fecha Cargue Secop', 'Fecha Ini Ejec - Fecha Firma Contrato', 'Mes Firma Contrato', 'Dia del Mes Firma Contrato', 'Dia de la Semana Firma Contrato', 'Plazo en dias de Ejec del Contrato', 'Tiempo Adiciones (Dias)', 'Cuantia Contrato', 'Valor Sancion', 'Ultima Actualizacion - Fecha Fin Ejec Contrato']\n",
      "Variables dummies iniciales\n"
     ]
    }
   ],
   "source": [
    "print(\"Variables iniciales para modelos:\")\n",
    "print(list(X_down_MA.columns))\n",
    "print(\"Variables dummies iniciales\")\n",
    "# No esta quitando Valor Sancion :(\n",
    "# Variables dummies\n",
    "# print(list(X_down_MA_dum.columns))"
   ]
  },
  {
   "cell_type": "markdown",
   "metadata": {},
   "source": [
    "## Seleccion de las variables mas importantes con Random Forest\n",
    "Para seleccionar las variables utilizamos todos los datos después de balanceo."
   ]
  },
  {
   "cell_type": "code",
   "execution_count": 11,
   "metadata": {},
   "outputs": [
    {
     "name": "stdout",
     "output_type": "stream",
     "text": [
      "Dimension de dataset con dummies:  (303916, 209)\n"
     ]
    }
   ],
   "source": [
    "print(\"Dimension de dataset con dummies: \",X_down_MA_dum.shape)"
   ]
  },
  {
   "cell_type": "code",
   "execution_count": 12,
   "metadata": {
    "scrolled": true
   },
   "outputs": [
    {
     "name": "stdout",
     "output_type": "stream",
     "text": [
      "Columnas iniciales dummies\n"
     ]
    },
    {
     "data": {
      "text/plain": [
       "array(['cantidad de palabras objeto a contratar',\n",
       "       'cantidad de palabras objeto del contrato a la Firma',\n",
       "       'Fecha Firma Contrato - Fecha Cargue Secop',\n",
       "       'Fecha Ini Ejec - Fecha Firma Contrato',\n",
       "       'Plazo en dias de Ejec del Contrato', 'Tiempo Adiciones (Dias)',\n",
       "       'Cuantia Contrato', 'Valor Sancion',\n",
       "       'Ultima Actualizacion - Fecha Fin Ejec Contrato',\n",
       "       'mismo detalle objeto a contratar despues de firma_0',\n",
       "       'mismo detalle objeto a contratar despues de firma_1',\n",
       "       'Mes Firma Contrato_Abril', 'Mes Firma Contrato_Agosto',\n",
       "       'Mes Firma Contrato_Diciembre', 'Mes Firma Contrato_Enero',\n",
       "       'Mes Firma Contrato_Febrero', 'Mes Firma Contrato_Julio',\n",
       "       'Mes Firma Contrato_Junio', 'Mes Firma Contrato_Marzo',\n",
       "       'Mes Firma Contrato_Mayo', 'Mes Firma Contrato_Noviembre',\n",
       "       'Mes Firma Contrato_Octubre', 'Mes Firma Contrato_Septiembre',\n",
       "       'Nombre Grupo_[A] Material Vivo Animal y Vegetal',\n",
       "       'Nombre Grupo_[B] Materias Primas',\n",
       "       'Nombre Grupo_[C] Maquinaria, Herramientas, Equipo Industrial y Vehículos',\n",
       "       'Nombre Grupo_[D] Componentes y Suministros',\n",
       "       'Nombre Grupo_[E] Productos de Uso Final',\n",
       "       'Nombre Grupo_[F] Servicios',\n",
       "       'Nombre Grupo_[G] Terrenos, Edificios, Estructuras y vías',\n",
       "       'Dia del Mes Firma Contrato_1', 'Dia del Mes Firma Contrato_2',\n",
       "       'Dia del Mes Firma Contrato_3', 'Dia del Mes Firma Contrato_4',\n",
       "       'Dia del Mes Firma Contrato_5', 'Dia del Mes Firma Contrato_6',\n",
       "       'Dia del Mes Firma Contrato_7', 'Dia del Mes Firma Contrato_8',\n",
       "       'Dia del Mes Firma Contrato_9', 'Dia del Mes Firma Contrato_10',\n",
       "       'Dia del Mes Firma Contrato_11', 'Dia del Mes Firma Contrato_12',\n",
       "       'Dia del Mes Firma Contrato_13', 'Dia del Mes Firma Contrato_14',\n",
       "       'Dia del Mes Firma Contrato_15', 'Dia del Mes Firma Contrato_16',\n",
       "       'Dia del Mes Firma Contrato_17', 'Dia del Mes Firma Contrato_18',\n",
       "       'Dia del Mes Firma Contrato_19', 'Dia del Mes Firma Contrato_20',\n",
       "       'Dia del Mes Firma Contrato_21', 'Dia del Mes Firma Contrato_22',\n",
       "       'Dia del Mes Firma Contrato_23', 'Dia del Mes Firma Contrato_24',\n",
       "       'Dia del Mes Firma Contrato_25', 'Dia del Mes Firma Contrato_26',\n",
       "       'Dia del Mes Firma Contrato_27', 'Dia del Mes Firma Contrato_28',\n",
       "       'Dia del Mes Firma Contrato_29', 'Dia del Mes Firma Contrato_30',\n",
       "       'Dia del Mes Firma Contrato_31', 'Def Origen Recur_0',\n",
       "       'Def Origen Recur_1', 'Dia de la Semana Firma Contrato_Domingo',\n",
       "       'Dia de la Semana Firma Contrato_Jueves',\n",
       "       'Dia de la Semana Firma Contrato_Lunes',\n",
       "       'Dia de la Semana Firma Contrato_Martes',\n",
       "       'Dia de la Semana Firma Contrato_Miércoles',\n",
       "       'Dia de la Semana Firma Contrato_Sábado',\n",
       "       'Dia de la Semana Firma Contrato_Viernes',\n",
       "       'Tipo de Contrato_Acuerdo Marco',\n",
       "       'Tipo de Contrato_Agregación de Demanda',\n",
       "       'Tipo de Contrato_Arrendamiento', 'Tipo de Contrato_Comodato',\n",
       "       'Tipo de Contrato_Compraventa', 'Tipo de Contrato_Concesión',\n",
       "       'Tipo de Contrato_Consultoría', 'Tipo de Contrato_Crédito',\n",
       "       'Tipo de Contrato_Fiducia', 'Tipo de Contrato_Interventoría',\n",
       "       'Tipo de Contrato_No definido', 'Tipo de Contrato_Obra',\n",
       "       'Tipo de Contrato_Otro Tipo de Contrato',\n",
       "       'Tipo de Contrato_Prestación de Servicios',\n",
       "       'Tipo de Contrato_Suministro',\n",
       "       'Causal de Otras Formas de Contratacion Directa_Arrendamiento o Adquisición de Inmuebles (Literal I)',\n",
       "       'Causal de Otras Formas de Contratacion Directa_Contratación de Bienes y Servicios en el Sector Defensa y en el DAS (Literal D)',\n",
       "       'Causal de Otras Formas de Contratacion Directa_Contratación de Empréstitos (Literal B)',\n",
       "       'Causal de Otras Formas de Contratacion Directa_Contratos Interadministrativos (Literal C)',\n",
       "       'Causal de Otras Formas de Contratacion Directa_Contratos de Encargo Fiduciario que Celebren Entidades Territoriales (Literal F)',\n",
       "       'Causal de Otras Formas de Contratacion Directa_Contratos para el Desarrollo de Actividades Científicas y Tecnológicas (Literal E)',\n",
       "       'Causal de Otras Formas de Contratacion Directa_Cuando no Exista Pluralidad de Oferentes en el Mercado (Literal G)',\n",
       "       'Causal de Otras Formas de Contratacion Directa_Ninguna',\n",
       "       'Causal de Otras Formas de Contratacion Directa_Prestación de Servicios Profesionales y de Apoyo a la Gestión (Literal H)',\n",
       "       'Causal de Otras Formas de Contratacion Directa_Urgencia Manifiesta (Literal A)',\n",
       "       'Regimen de Contratacion_Estatuto General de Contratación',\n",
       "       'Regimen de Contratacion_Ley 80 de 1993',\n",
       "       'Regimen de Contratacion_Régimen Especial',\n",
       "       'EsPostConflicto_No Definido', 'EsPostConflicto_Si',\n",
       "       'Tipo de Proceso_Asociación Público Privada',\n",
       "       'Tipo de Proceso_Concurso de Méritos Abierto',\n",
       "       'Tipo de Proceso_Concurso de Méritos con Lista Corta',\n",
       "       'Tipo de Proceso_Contratación Directa (Ley 1150 de 2007)',\n",
       "       'Tipo de Proceso_Contratación Mínima Cuantía',\n",
       "       'Tipo de Proceso_Contratos y convenios con más de dos partes',\n",
       "       'Tipo de Proceso_Licitación Pública',\n",
       "       'Tipo de Proceso_Licitación obra pública',\n",
       "       'Tipo de Proceso_Régimen Especial',\n",
       "       'Tipo de Proceso_Selección Abreviada de Menor Cuantía (Ley 1150 de 2007)',\n",
       "       'Tipo de Proceso_Selección Abreviada del literal h del numeral 2 del artículo 2 de la Ley 1150 de 2007',\n",
       "       'Tipo de Proceso_Selección Abreviada servicios de Salud',\n",
       "       'Tipo de Proceso_Subasta', 'Dpto y Muni Contratista_Alabama',\n",
       "       'Dpto y Muni Contratista_Alsacia',\n",
       "       'Dpto y Muni Contratista_Amazonas',\n",
       "       'Dpto y Muni Contratista_Amsterdam',\n",
       "       'Dpto y Muni Contratista_Andalucía',\n",
       "       'Dpto y Muni Contratista_Antioquia',\n",
       "       'Dpto y Muni Contratista_Apure', 'Dpto y Muni Contratista_Arauca',\n",
       "       'Dpto y Muni Contratista_Arizona',\n",
       "       'Dpto y Muni Contratista_Atlántico',\n",
       "       'Dpto y Muni Contratista_Australian Capital Territory',\n",
       "       'Dpto y Muni Contratista_Azerbaiyán',\n",
       "       'Dpto y Muni Contratista_Badahsâr',\n",
       "       'Dpto y Muni Contratista_Badgîs', 'Dpto y Muni Contratista_Balboa',\n",
       "       'Dpto y Muni Contratista_Barinas',\n",
       "       'Dpto y Muni Contratista_Bogotá D.C.',\n",
       "       'Dpto y Muni Contratista_Bolívar',\n",
       "       'Dpto y Muni Contratista_Boyacá',\n",
       "       'Dpto y Muni Contratista_Buenos Aires',\n",
       "       'Dpto y Muni Contratista_Caldas',\n",
       "       'Dpto y Muni Contratista_California',\n",
       "       'Dpto y Muni Contratista_Caquetá',\n",
       "       'Dpto y Muni Contratista_Casanare',\n",
       "       'Dpto y Muni Contratista_Castilla-La Mancha',\n",
       "       'Dpto y Muni Contratista_Cat Island',\n",
       "       'Dpto y Muni Contratista_Cataluña',\n",
       "       'Dpto y Muni Contratista_Cauca', 'Dpto y Muni Contratista_Cesar',\n",
       "       'Dpto y Muni Contratista_Chocó',\n",
       "       'Dpto y Muni Contratista_Colombia',\n",
       "       'Dpto y Muni Contratista_Comunidad de Madrid',\n",
       "       'Dpto y Muni Contratista_Cundinamarca',\n",
       "       'Dpto y Muni Contratista_Córdoba',\n",
       "       'Dpto y Muni Contratista_Delaware',\n",
       "       'Dpto y Muni Contratista_Distrito Federal',\n",
       "       'Dpto y Muni Contratista_Estado de México',\n",
       "       'Dpto y Muni Contratista_Floggia',\n",
       "       'Dpto y Muni Contratista_Florida',\n",
       "       'Dpto y Muni Contratista_Franche-Comté',\n",
       "       'Dpto y Muni Contratista_Guainía',\n",
       "       'Dpto y Muni Contratista_Guangdong',\n",
       "       'Dpto y Muni Contratista_Guaviare',\n",
       "       'Dpto y Muni Contratista_Heredia', 'Dpto y Muni Contratista_Huila',\n",
       "       'Dpto y Muni Contratista_Inglaterra',\n",
       "       'Dpto y Muni Contratista_Iowa',\n",
       "       'Dpto y Muni Contratista_Isla-de-Francia',\n",
       "       'Dpto y Muni Contratista_Kansas',\n",
       "       'Dpto y Muni Contratista_La Guajira',\n",
       "       'Dpto y Muni Contratista_La Rioja', 'Dpto y Muni Contratista_Lima',\n",
       "       'Dpto y Muni Contratista_Magdalena',\n",
       "       'Dpto y Muni Contratista_Manitoba',\n",
       "       'Dpto y Muni Contratista_Massachusetts',\n",
       "       'Dpto y Muni Contratista_Meta',\n",
       "       'Dpto y Muni Contratista_Minas Gerais',\n",
       "       'Dpto y Muni Contratista_Minnesota',\n",
       "       'Dpto y Muni Contratista_Montevideo',\n",
       "       'Dpto y Muni Contratista_Morelos',\n",
       "       'Dpto y Muni Contratista_Nairobi',\n",
       "       'Dpto y Muni Contratista_Nariño',\n",
       "       'Dpto y Muni Contratista_New Jersey',\n",
       "       'Dpto y Muni Contratista_New York',\n",
       "       'Dpto y Muni Contratista_No Definido',\n",
       "       'Dpto y Muni Contratista_Norte De Santander',\n",
       "       'Dpto y Muni Contratista_Nuevo León',\n",
       "       'Dpto y Muni Contratista_Otros Paises',\n",
       "       'Dpto y Muni Contratista_País Vasco-Euskadi',\n",
       "       'Dpto y Muni Contratista_Putumayo',\n",
       "       'Dpto y Muni Contratista_Qinghai',\n",
       "       'Dpto y Muni Contratista_Quebec',\n",
       "       'Dpto y Muni Contratista_Quindío',\n",
       "       'Dpto y Muni Contratista_Región Metropolitana',\n",
       "       'Dpto y Muni Contratista_Región de Coquimbo',\n",
       "       'Dpto y Muni Contratista_Región de Valparaíso',\n",
       "       'Dpto y Muni Contratista_Región de los Lagos',\n",
       "       'Dpto y Muni Contratista_Risaralda',\n",
       "       'Dpto y Muni Contratista_Salta',\n",
       "       'Dpto y Muni Contratista_San Andrés, Providencia y Santa Catalina',\n",
       "       'Dpto y Muni Contratista_San José',\n",
       "       'Dpto y Muni Contratista_Santander',\n",
       "       'Dpto y Muni Contratista_Sikkim',\n",
       "       'Dpto y Muni Contratista_South Dakota',\n",
       "       'Dpto y Muni Contratista_Taipei', 'Dpto y Muni Contratista_Tartu',\n",
       "       'Dpto y Muni Contratista_Thurgau',\n",
       "       'Dpto y Muni Contratista_Tolima',\n",
       "       'Dpto y Muni Contratista_Valle del Cauca',\n",
       "       'Dpto y Muni Contratista_Vaupés',\n",
       "       'Dpto y Muni Contratista_Vichada',\n",
       "       'Dpto y Muni Contratista_Victoria',\n",
       "       'Dpto y Muni Contratista_Viena',\n",
       "       'Dpto y Muni Contratista_Washington',\n",
       "       'Dpto y Muni Contratista_Zâbol', 'Dpto y Muni Contratista_Zûrich'],\n",
       "      dtype=object)"
      ]
     },
     "execution_count": 12,
     "metadata": {},
     "output_type": "execute_result"
    }
   ],
   "source": [
    "print(\"Columnas iniciales dummies\")\n",
    "np.array(X_down_MA_dum.columns)"
   ]
  },
  {
   "cell_type": "markdown",
   "metadata": {},
   "source": [
    "## Eliminación de variables adicionales"
   ]
  },
  {
   "cell_type": "code",
   "execution_count": 13,
   "metadata": {
    "scrolled": true
   },
   "outputs": [],
   "source": [
    "#cols = []\n",
    "\"\"\"\n",
    "for c in X_down_MA_dum.columns:\n",
    "    # Quitamos todas las que son con Dpto y Muni Contratista\n",
    "    cond_1 = \"Dpto y Muni Contratista\" not in c\n",
    "    # Quitamos todas las relacionadas con Dia del Mes Firma y Dia de la Semana Firma\n",
    "    cond_2 = \"Dia del Mes\" not in c\n",
    "    cond_3 = \"Dia de la Semana\" not in c\n",
    "    # Quitamos Mes Firma\n",
    "    cond_4 = \"Mes Firma\" not in c\n",
    "    # Quitamos las de mismo detalle objeto a contratar\n",
    "    cond_5 = \"mismo detalle objeto a contratar\" not in c\n",
    "    # Quitamos Tipo de Contrato\n",
    "    cond_6 = \"Tipo de Contrato\" not in c\n",
    "    # Quitamos causal de otras formas de contratacion\n",
    "    cond_7 = \"Causal de Otras Formas de Contratacion\" not in c\n",
    "    # Quitamos Tipo de Proceso\n",
    "    cond_8 = \"Tipo de Proceso\" not in c\n",
    "    # Quitamos Nombre Grupo\n",
    "    cond_9 = \"Nombre Grupo\" not in c\n",
    "    # Quitamos Def Origen\n",
    "    cond_10 = \"Def Origen\" not in c\n",
    "    # Quitamos Regimen de Contratacion\n",
    "    cond_11 = \"Regimen de Contratacion\" not in c\n",
    "    # Quitamos EsPostConflicto\n",
    "    cond_12 = \"EsPostConflicto\" not in c\n",
    "    if cond_1 and cond_2 and cond_3 and cond_4 and cond_5 and cond_6 and cond_7 and cond_8 and cond_9 and cond_10 and cond_11 and cond_12:\n",
    "        cols.append(c)\n",
    "\"\"\"\n",
    "# Quitamos una de las variables que cuenta palabras ya que las 2 están muy correlacionadas (corr > 0.95)\n",
    "#cols.remove('cantidad de palabras objeto a contratar')\n",
    "\n",
    "# Quitamos Valor Sancion\n",
    "#cols.remove(\"Valor Sancion\")\n",
    "\n",
    "# Quitamos Tiempo Adiciones (Dias)\n",
    "#cols.remove('Tiempo Adiciones (Dias)')\n",
    "X_down_MA_dum = X_down_MA_dum.drop([\"Tiempo Adiciones (Dias)\"],axis=1)\n",
    "\n",
    "# Quitamos Cuantia Contrato\n",
    "#cols.remove('Cuantia Contrato')\n",
    "\n",
    "# Quitamos 'cantidad de palabras objeto del contrato a la Firma'\n",
    "#cols.remove('cantidad de palabras objeto del contrato a la Firma')\n",
    "\n",
    "# Quitamos 'Ultima Actualizacion - Fecha Fin Ejec Contrato'\n",
    "#cols.remove('Ultima Actualizacion - Fecha Fin Ejec Contrato')\n",
    "X_down_MA_dum = X_down_MA_dum.drop(['Ultima Actualizacion - Fecha Fin Ejec Contrato'],axis=1)\n",
    "\n",
    "#X_down_MA_dum = X_down_MA_dum[cols]\n",
    "\n",
    "\n",
    "#print(\"Columnas dummies filtradas\")\n",
    "#print(np.array(X_down_MA_dum.columns))\n",
    "\n",
    "\n",
    "#X_down_MA_dum = X_down_MA_dum[cols]\n"
   ]
  },
  {
   "cell_type": "markdown",
   "metadata": {},
   "source": [
    "### Primera selección de variables\n",
    "Se selecciona las variables más importantes con Random Forest sobre el dataset de dummies"
   ]
  },
  {
   "cell_type": "code",
   "execution_count": 14,
   "metadata": {},
   "outputs": [
    {
     "data": {
      "text/plain": [
       "207"
      ]
     },
     "execution_count": 14,
     "metadata": {},
     "output_type": "execute_result"
    }
   ],
   "source": [
    "X_down_MA_dum.shape[1]"
   ]
  },
  {
   "cell_type": "code",
   "execution_count": 15,
   "metadata": {
    "scrolled": true
   },
   "outputs": [
    {
     "name": "stdout",
     "output_type": "stream",
     "text": [
      "Variables estadísticamente significativas: \n",
      "['cantidad de palabras objeto a contratar', 'cantidad de palabras objeto del contrato a la Firma', 'Fecha Firma Contrato - Fecha Cargue Secop', 'Fecha Ini Ejec - Fecha Firma Contrato', 'Plazo en dias de Ejec del Contrato', 'Cuantia Contrato', 'mismo detalle objeto a contratar despues de firma_0', 'mismo detalle objeto a contratar despues de firma_1', 'Mes Firma Contrato_Abril', 'Mes Firma Contrato_Agosto', 'Mes Firma Contrato_Diciembre', 'Mes Firma Contrato_Enero', 'Mes Firma Contrato_Febrero', 'Mes Firma Contrato_Julio', 'Mes Firma Contrato_Junio', 'Mes Firma Contrato_Marzo', 'Mes Firma Contrato_Mayo', 'Mes Firma Contrato_Noviembre', 'Mes Firma Contrato_Octubre', 'Mes Firma Contrato_Septiembre', 'Nombre Grupo_[F] Servicios', 'Dia del Mes Firma Contrato_1', 'Dia del Mes Firma Contrato_2', 'Dia del Mes Firma Contrato_4', 'Dia del Mes Firma Contrato_11', 'Def Origen Recur_0', 'Def Origen Recur_1', 'Dia de la Semana Firma Contrato_Jueves', 'Dia de la Semana Firma Contrato_Lunes', 'Dia de la Semana Firma Contrato_Martes', 'Dia de la Semana Firma Contrato_Miércoles', 'Dia de la Semana Firma Contrato_Viernes', 'Tipo de Contrato_Prestación de Servicios', 'Causal de Otras Formas de Contratacion Directa_Prestación de Servicios Profesionales y de Apoyo a la Gestión (Literal H)', 'Regimen de Contratacion_Estatuto General de Contratación', 'Regimen de Contratacion_Régimen Especial', 'Tipo de Proceso_Régimen Especial', 'Dpto y Muni Contratista_Bogotá D.C.', 'Dpto y Muni Contratista_Cundinamarca']\n"
     ]
    }
   ],
   "source": [
    "# Tarda un poco\n",
    "#num_vars, u = [10,-np.inf], # max_vars, umbral: parametros para controlar cantidad de variables\n",
    "X_fselec = feature_selection(X_down_MA_dum, y_down_MA)"
   ]
  },
  {
   "cell_type": "code",
   "execution_count": 16,
   "metadata": {},
   "outputs": [
    {
     "data": {
      "text/plain": [
       "(303916, 39)"
      ]
     },
     "execution_count": 16,
     "metadata": {},
     "output_type": "execute_result"
    }
   ],
   "source": [
    "X_fselec.shape"
   ]
  },
  {
   "cell_type": "markdown",
   "metadata": {},
   "source": [
    "### Segunda selección de variables"
   ]
  },
  {
   "cell_type": "code",
   "execution_count": 17,
   "metadata": {
    "scrolled": true
   },
   "outputs": [
    {
     "name": "stdout",
     "output_type": "stream",
     "text": [
      "Variables estadísticamente significativas: \n",
      "['cantidad de palabras objeto a contratar', 'cantidad de palabras objeto del contrato a la Firma', 'Fecha Firma Contrato - Fecha Cargue Secop', 'Fecha Ini Ejec - Fecha Firma Contrato', 'Plazo en dias de Ejec del Contrato', 'Cuantia Contrato']\n"
     ]
    }
   ],
   "source": [
    "# Tarda un poco\n",
    "#num_vars, u = [10,-np.inf], # max_vars, umbral: parametros para controlar cantidad de variables\n",
    "X_fselec_2 = feature_selection(X_fselec, y_down_MA)"
   ]
  },
  {
   "cell_type": "markdown",
   "metadata": {},
   "source": [
    "**Nota:** La segunda selección de variables deja solo las numéricas."
   ]
  },
  {
   "cell_type": "code",
   "execution_count": 18,
   "metadata": {},
   "outputs": [
    {
     "data": {
      "text/plain": [
       "(303916, 6)"
      ]
     },
     "execution_count": 18,
     "metadata": {},
     "output_type": "execute_result"
    }
   ],
   "source": [
    "X_fselec_2.shape"
   ]
  },
  {
   "cell_type": "markdown",
   "metadata": {},
   "source": [
    "## Modelos con cantidad reducida de filas"
   ]
  },
  {
   "cell_type": "code",
   "execution_count": 19,
   "metadata": {},
   "outputs": [
    {
     "name": "stdout",
     "output_type": "stream",
     "text": [
      "Datos iniciales por clase\n",
      "1    151958\n",
      "0    151958\n",
      "Name: Marc Adiciones, dtype: int64\n",
      "Nueva cantidad de datos por clase:\n",
      "1    15000\n",
      "0    15000\n",
      "Name: Marc Adiciones, dtype: int64\n",
      "Dimension de matriz X:  (30000, 207)\n"
     ]
    }
   ],
   "source": [
    "print(\"Datos iniciales por clase\")\n",
    "print(y_down_MA.value_counts())\n",
    "N = 15000 # 150000 por clase\n",
    "X_MA, y_MA = small_balanced_sample(X_down_MA_dum,y_down_MA,N)\n",
    "print(\"Nueva cantidad de datos por clase:\")\n",
    "print(y_MA.value_counts())\n",
    "print(\"Dimension de matriz X: \",X_MA.shape)"
   ]
  },
  {
   "cell_type": "markdown",
   "metadata": {},
   "source": [
    "## Graficas de variables numéricas"
   ]
  },
  {
   "cell_type": "code",
   "execution_count": 20,
   "metadata": {},
   "outputs": [],
   "source": [
    "mat = pd.concat([X_MA,y_MA],axis=1).dropna()"
   ]
  },
  {
   "cell_type": "code",
   "execution_count": 21,
   "metadata": {
    "scrolled": false
   },
   "outputs": [
    {
     "ename": "ValueError",
     "evalue": "Could not interpret input 'Ultima Actualizacion - Fecha Fin Ejec Contrato'",
     "output_type": "error",
     "traceback": [
      "\u001b[1;31m---------------------------------------------------------------------------\u001b[0m",
      "\u001b[1;31mValueError\u001b[0m                                Traceback (most recent call last)",
      "\u001b[1;32m<ipython-input-21-0445cc830fa3>\u001b[0m in \u001b[0;36m<module>\u001b[1;34m\u001b[0m\n\u001b[0;32m      7\u001b[0m \u001b[1;33m\u001b[0m\u001b[0m\n\u001b[0;32m      8\u001b[0m \u001b[0msns\u001b[0m\u001b[1;33m.\u001b[0m\u001b[0mboxplot\u001b[0m\u001b[1;33m(\u001b[0m\u001b[0my\u001b[0m\u001b[1;33m=\u001b[0m\u001b[1;34m\"Marc Adiciones\"\u001b[0m\u001b[1;33m,\u001b[0m \u001b[0mx\u001b[0m\u001b[1;33m=\u001b[0m\u001b[1;34m'Cuantia Contrato'\u001b[0m\u001b[1;33m,\u001b[0m \u001b[0mdata\u001b[0m\u001b[1;33m=\u001b[0m\u001b[0mmat\u001b[0m\u001b[1;33m,\u001b[0m \u001b[0morient\u001b[0m\u001b[1;33m=\u001b[0m\u001b[1;34m\"h\"\u001b[0m\u001b[1;33m,\u001b[0m \u001b[0max\u001b[0m\u001b[1;33m=\u001b[0m\u001b[0maxs\u001b[0m\u001b[1;33m[\u001b[0m\u001b[1;36m2\u001b[0m\u001b[1;33m,\u001b[0m\u001b[1;36m0\u001b[0m\u001b[1;33m]\u001b[0m\u001b[1;33m)\u001b[0m\u001b[1;33m\u001b[0m\u001b[1;33m\u001b[0m\u001b[0m\n\u001b[1;32m----> 9\u001b[1;33m \u001b[0msns\u001b[0m\u001b[1;33m.\u001b[0m\u001b[0mboxplot\u001b[0m\u001b[1;33m(\u001b[0m\u001b[0my\u001b[0m\u001b[1;33m=\u001b[0m\u001b[1;34m\"Marc Adiciones\"\u001b[0m\u001b[1;33m,\u001b[0m \u001b[0mx\u001b[0m\u001b[1;33m=\u001b[0m\u001b[1;34m'Ultima Actualizacion - Fecha Fin Ejec Contrato'\u001b[0m\u001b[1;33m,\u001b[0m \u001b[0mdata\u001b[0m\u001b[1;33m=\u001b[0m\u001b[0mmat\u001b[0m\u001b[1;33m,\u001b[0m \u001b[0morient\u001b[0m\u001b[1;33m=\u001b[0m\u001b[1;34m\"h\"\u001b[0m\u001b[1;33m,\u001b[0m \u001b[0max\u001b[0m\u001b[1;33m=\u001b[0m\u001b[0maxs\u001b[0m\u001b[1;33m[\u001b[0m\u001b[1;36m2\u001b[0m\u001b[1;33m,\u001b[0m\u001b[1;36m1\u001b[0m\u001b[1;33m]\u001b[0m\u001b[1;33m)\u001b[0m\u001b[1;33m\u001b[0m\u001b[1;33m\u001b[0m\u001b[0m\n\u001b[0m",
      "\u001b[1;32m~\\anaconda3\\lib\\site-packages\\seaborn\\_decorators.py\u001b[0m in \u001b[0;36minner_f\u001b[1;34m(*args, **kwargs)\u001b[0m\n\u001b[0;32m     44\u001b[0m             )\n\u001b[0;32m     45\u001b[0m         \u001b[0mkwargs\u001b[0m\u001b[1;33m.\u001b[0m\u001b[0mupdate\u001b[0m\u001b[1;33m(\u001b[0m\u001b[1;33m{\u001b[0m\u001b[0mk\u001b[0m\u001b[1;33m:\u001b[0m \u001b[0marg\u001b[0m \u001b[1;32mfor\u001b[0m \u001b[0mk\u001b[0m\u001b[1;33m,\u001b[0m \u001b[0marg\u001b[0m \u001b[1;32min\u001b[0m \u001b[0mzip\u001b[0m\u001b[1;33m(\u001b[0m\u001b[0msig\u001b[0m\u001b[1;33m.\u001b[0m\u001b[0mparameters\u001b[0m\u001b[1;33m,\u001b[0m \u001b[0margs\u001b[0m\u001b[1;33m)\u001b[0m\u001b[1;33m}\u001b[0m\u001b[1;33m)\u001b[0m\u001b[1;33m\u001b[0m\u001b[1;33m\u001b[0m\u001b[0m\n\u001b[1;32m---> 46\u001b[1;33m         \u001b[1;32mreturn\u001b[0m \u001b[0mf\u001b[0m\u001b[1;33m(\u001b[0m\u001b[1;33m**\u001b[0m\u001b[0mkwargs\u001b[0m\u001b[1;33m)\u001b[0m\u001b[1;33m\u001b[0m\u001b[1;33m\u001b[0m\u001b[0m\n\u001b[0m\u001b[0;32m     47\u001b[0m     \u001b[1;32mreturn\u001b[0m \u001b[0minner_f\u001b[0m\u001b[1;33m\u001b[0m\u001b[1;33m\u001b[0m\u001b[0m\n\u001b[0;32m     48\u001b[0m \u001b[1;33m\u001b[0m\u001b[0m\n",
      "\u001b[1;32m~\\anaconda3\\lib\\site-packages\\seaborn\\categorical.py\u001b[0m in \u001b[0;36mboxplot\u001b[1;34m(x, y, hue, data, order, hue_order, orient, color, palette, saturation, width, dodge, fliersize, linewidth, whis, ax, **kwargs)\u001b[0m\n\u001b[0;32m   2228\u001b[0m ):\n\u001b[0;32m   2229\u001b[0m \u001b[1;33m\u001b[0m\u001b[0m\n\u001b[1;32m-> 2230\u001b[1;33m     plotter = _BoxPlotter(x, y, hue, data, order, hue_order,\n\u001b[0m\u001b[0;32m   2231\u001b[0m                           \u001b[0morient\u001b[0m\u001b[1;33m,\u001b[0m \u001b[0mcolor\u001b[0m\u001b[1;33m,\u001b[0m \u001b[0mpalette\u001b[0m\u001b[1;33m,\u001b[0m \u001b[0msaturation\u001b[0m\u001b[1;33m,\u001b[0m\u001b[1;33m\u001b[0m\u001b[1;33m\u001b[0m\u001b[0m\n\u001b[0;32m   2232\u001b[0m                           width, dodge, fliersize, linewidth)\n",
      "\u001b[1;32m~\\anaconda3\\lib\\site-packages\\seaborn\\categorical.py\u001b[0m in \u001b[0;36m__init__\u001b[1;34m(self, x, y, hue, data, order, hue_order, orient, color, palette, saturation, width, dodge, fliersize, linewidth)\u001b[0m\n\u001b[0;32m    404\u001b[0m                  width, dodge, fliersize, linewidth):\n\u001b[0;32m    405\u001b[0m \u001b[1;33m\u001b[0m\u001b[0m\n\u001b[1;32m--> 406\u001b[1;33m         \u001b[0mself\u001b[0m\u001b[1;33m.\u001b[0m\u001b[0mestablish_variables\u001b[0m\u001b[1;33m(\u001b[0m\u001b[0mx\u001b[0m\u001b[1;33m,\u001b[0m \u001b[0my\u001b[0m\u001b[1;33m,\u001b[0m \u001b[0mhue\u001b[0m\u001b[1;33m,\u001b[0m \u001b[0mdata\u001b[0m\u001b[1;33m,\u001b[0m \u001b[0morient\u001b[0m\u001b[1;33m,\u001b[0m \u001b[0morder\u001b[0m\u001b[1;33m,\u001b[0m \u001b[0mhue_order\u001b[0m\u001b[1;33m)\u001b[0m\u001b[1;33m\u001b[0m\u001b[1;33m\u001b[0m\u001b[0m\n\u001b[0m\u001b[0;32m    407\u001b[0m         \u001b[0mself\u001b[0m\u001b[1;33m.\u001b[0m\u001b[0mestablish_colors\u001b[0m\u001b[1;33m(\u001b[0m\u001b[0mcolor\u001b[0m\u001b[1;33m,\u001b[0m \u001b[0mpalette\u001b[0m\u001b[1;33m,\u001b[0m \u001b[0msaturation\u001b[0m\u001b[1;33m)\u001b[0m\u001b[1;33m\u001b[0m\u001b[1;33m\u001b[0m\u001b[0m\n\u001b[0;32m    408\u001b[0m \u001b[1;33m\u001b[0m\u001b[0m\n",
      "\u001b[1;32m~\\anaconda3\\lib\\site-packages\\seaborn\\categorical.py\u001b[0m in \u001b[0;36mestablish_variables\u001b[1;34m(self, x, y, hue, data, orient, order, hue_order, units)\u001b[0m\n\u001b[0;32m    151\u001b[0m                 \u001b[1;32mif\u001b[0m \u001b[0misinstance\u001b[0m\u001b[1;33m(\u001b[0m\u001b[0mvar\u001b[0m\u001b[1;33m,\u001b[0m \u001b[0mstr\u001b[0m\u001b[1;33m)\u001b[0m\u001b[1;33m:\u001b[0m\u001b[1;33m\u001b[0m\u001b[1;33m\u001b[0m\u001b[0m\n\u001b[0;32m    152\u001b[0m                     \u001b[0merr\u001b[0m \u001b[1;33m=\u001b[0m \u001b[1;34m\"Could not interpret input '{}'\"\u001b[0m\u001b[1;33m.\u001b[0m\u001b[0mformat\u001b[0m\u001b[1;33m(\u001b[0m\u001b[0mvar\u001b[0m\u001b[1;33m)\u001b[0m\u001b[1;33m\u001b[0m\u001b[1;33m\u001b[0m\u001b[0m\n\u001b[1;32m--> 153\u001b[1;33m                     \u001b[1;32mraise\u001b[0m \u001b[0mValueError\u001b[0m\u001b[1;33m(\u001b[0m\u001b[0merr\u001b[0m\u001b[1;33m)\u001b[0m\u001b[1;33m\u001b[0m\u001b[1;33m\u001b[0m\u001b[0m\n\u001b[0m\u001b[0;32m    154\u001b[0m \u001b[1;33m\u001b[0m\u001b[0m\n\u001b[0;32m    155\u001b[0m             \u001b[1;31m# Figure out the plotting orientation\u001b[0m\u001b[1;33m\u001b[0m\u001b[1;33m\u001b[0m\u001b[1;33m\u001b[0m\u001b[0m\n",
      "\u001b[1;31mValueError\u001b[0m: Could not interpret input 'Ultima Actualizacion - Fecha Fin Ejec Contrato'"
     ]
    },
    {
     "data": {
      "image/png": "[encoded data removed]",
      "text/plain": [
       "<Figure size 1080x720 with 6 Axes>"
      ]
     },
     "metadata": {
      "needs_background": "light"
     },
     "output_type": "display_data"
    }
   ],
   "source": [
    "fig, axs = plt.subplots(3,2,figsize=(15,10))\n",
    "sns.boxplot(y=\"Marc Adiciones\", x='cantidad de palabras objeto del contrato a la Firma', data=mat, orient=\"h\", ax=axs[0,0])\n",
    "sns.boxplot(y=\"Marc Adiciones\", x='Fecha Firma Contrato - Fecha Cargue Secop', data=mat, orient=\"h\", ax=axs[0,1])\n",
    "\n",
    "sns.boxplot(y=\"Marc Adiciones\", x='Fecha Ini Ejec - Fecha Firma Contrato', data=mat, orient=\"h\", ax=axs[1,0])\n",
    "sns.boxplot(y=\"Marc Adiciones\", x='Plazo en dias de Ejec del Contrato', data=mat, orient=\"h\", ax=axs[1,1])\n",
    "\n",
    "sns.boxplot(y=\"Marc Adiciones\", x='Cuantia Contrato', data=mat, orient=\"h\", ax=axs[2,0])\n",
    "sns.boxplot(y=\"Marc Adiciones\", x='Ultima Actualizacion - Fecha Fin Ejec Contrato', data=mat, orient=\"h\", ax=axs[2,1])"
   ]
  },
  {
   "cell_type": "markdown",
   "metadata": {},
   "source": [
    "## Regresion Logistica"
   ]
  },
  {
   "cell_type": "markdown",
   "metadata": {},
   "source": [
    "### Con todas las variables"
   ]
  },
  {
   "cell_type": "code",
   "execution_count": 22,
   "metadata": {},
   "outputs": [],
   "source": [
    "X_train_MA, X_test_MA, y_train_MA, y_test_MA = train_test_split(X_MA, y_MA, test_size=0.33, random_state=42)"
   ]
  },
  {
   "cell_type": "code",
   "execution_count": 24,
   "metadata": {},
   "outputs": [
    {
     "name": "stdout",
     "output_type": "stream",
     "text": [
      "Accuracy para Regresión Logística con validación cruzada: 0.6356 \n"
     ]
    }
   ],
   "source": [
    "# Escalador de datos\n",
    "scaler = preprocessing.StandardScaler().fit(X_train_MA)\n",
    "# Validacion cruzada\n",
    "reglog = LogisticRegression(max_iter = 500)\n",
    "vc = cross_val_score(reglog, scaler.transform(X_train_MA), y_train_MA, cv = 5, scoring = \"accuracy\")\n",
    "accuracy = vc.mean()\n",
    "print(\"Accuracy para Regresión Logística con validación cruzada: {:1.4f} \".format(accuracy) )"
   ]
  },
  {
   "cell_type": "code",
   "execution_count": 25,
   "metadata": {},
   "outputs": [
    {
     "data": {
      "text/plain": [
       "LogisticRegression(max_iter=500)"
      ]
     },
     "execution_count": 25,
     "metadata": {},
     "output_type": "execute_result"
    }
   ],
   "source": [
    "reglog = LogisticRegression(max_iter=500)\n",
    "reglog.fit(scaler.transform(X_train_MA),y_train_MA)"
   ]
  },
  {
   "cell_type": "code",
   "execution_count": 26,
   "metadata": {},
   "outputs": [
    {
     "name": "stdout",
     "output_type": "stream",
     "text": [
      "El accuracy del test es: 0.6352\n",
      "La sensitividad(recall) del test es: 0.6908\n"
     ]
    }
   ],
   "source": [
    "y_pred = reglog.predict(scaler.transform(X_test_MA))\n",
    "print(\"El accuracy del test es: {:1.4f}\".format( accuracy_score(y_test_MA, y_pred) ))\n",
    "print(\"La sensitividad(recall) del test es: {:1.4f}\".format( recall_score(y_test_MA, y_pred) ))"
   ]
  },
  {
   "cell_type": "code",
   "execution_count": 27,
   "metadata": {},
   "outputs": [
    {
     "data": {
      "text/html": [
       "<div>\n",
       "<style scoped>\n",
       "    .dataframe tbody tr th:only-of-type {\n",
       "        vertical-align: middle;\n",
       "    }\n",
       "\n",
       "    .dataframe tbody tr th {\n",
       "        vertical-align: top;\n",
       "    }\n",
       "\n",
       "    .dataframe thead th {\n",
       "        text-align: right;\n",
       "    }\n",
       "</style>\n",
       "<table border=\"1\" class=\"dataframe\">\n",
       "  <thead>\n",
       "    <tr style=\"text-align: right;\">\n",
       "      <th>Predicted</th>\n",
       "      <th>No</th>\n",
       "      <th>Sí</th>\n",
       "    </tr>\n",
       "    <tr>\n",
       "      <th>True</th>\n",
       "      <th></th>\n",
       "      <th></th>\n",
       "    </tr>\n",
       "  </thead>\n",
       "  <tbody>\n",
       "    <tr>\n",
       "      <th>No</th>\n",
       "      <td>0.579214</td>\n",
       "      <td>0.420786</td>\n",
       "    </tr>\n",
       "    <tr>\n",
       "      <th>Sí</th>\n",
       "      <td>0.309226</td>\n",
       "      <td>0.690774</td>\n",
       "    </tr>\n",
       "  </tbody>\n",
       "</table>\n",
       "</div>"
      ],
      "text/plain": [
       "Predicted        No        Sí\n",
       "True                         \n",
       "No         0.579214  0.420786\n",
       "Sí         0.309226  0.690774"
      ]
     },
     "execution_count": 27,
     "metadata": {},
     "output_type": "execute_result"
    }
   ],
   "source": [
    "plot_CM(y_test_MA, y_pred,norm='true')"
   ]
  },
  {
   "cell_type": "code",
   "execution_count": 28,
   "metadata": {},
   "outputs": [
    {
     "name": "stdout",
     "output_type": "stream",
     "text": [
      "Model: ROC AUC = 0.684\n"
     ]
    },
    {
     "data": {
      "image/png": "[encoded data removed]",
      "text/plain": [
       "<Figure size 432x288 with 1 Axes>"
      ]
     },
     "metadata": {
      "needs_background": "light"
     },
     "output_type": "display_data"
    }
   ],
   "source": [
    "plot_ROC(reglog, X_test_MA, y_test_MA, scaler, model_name='Regresión logítica todas las variables, \\n'+str(N)+\" datos por clase\")"
   ]
  },
  {
   "cell_type": "markdown",
   "metadata": {},
   "source": [
    "### Con primera selección de variables"
   ]
  },
  {
   "cell_type": "code",
   "execution_count": 29,
   "metadata": {},
   "outputs": [],
   "source": [
    "# Primero reducimos la cantidad de filas \n",
    "N = 15000 # 150000 por clase\n",
    "X_fselec_MA, y_fselec_MA = small_balanced_sample(X_fselec,y_down_MA,N)"
   ]
  },
  {
   "cell_type": "code",
   "execution_count": 30,
   "metadata": {},
   "outputs": [
    {
     "name": "stdout",
     "output_type": "stream",
     "text": [
      "Accuracy para Regresión Logística con validación cruzada, 1era SELECCION DE VARIABLES: 0.4970 \n"
     ]
    }
   ],
   "source": [
    "# Escalador de datos\n",
    "scaler2 = preprocessing.StandardScaler().fit(X_fselec_MA)\n",
    "# Validacion cruzada\n",
    "reglog2 = LogisticRegression(max_iter = 500)\n",
    "vc = cross_val_score(reglog2, scaler2.transform(X_fselec_MA), y_fselec_MA, cv = 5, scoring = \"accuracy\")\n",
    "accuracy = vc.mean()\n",
    "print(\"Accuracy para Regresión Logística con validación cruzada, 1era SELECCION DE VARIABLES: {:1.4f} \".format(accuracy) )"
   ]
  },
  {
   "cell_type": "code",
   "execution_count": 31,
   "metadata": {},
   "outputs": [
    {
     "name": "stdout",
     "output_type": "stream",
     "text": [
      "Accuracy para Regresión Logística con validación cruzada: 0.4959 \n",
      "El accuracy del test es: 0.4962\n",
      "La sensitividad(recall) del test es: 0.5031\n"
     ]
    }
   ],
   "source": [
    "regLog2, X_test2_MA, y_test2_MA, y_pred2_MA, scaler2_MA = reg_log(X_fselec_MA, y_fselec_MA)"
   ]
  },
  {
   "cell_type": "code",
   "execution_count": 32,
   "metadata": {},
   "outputs": [
    {
     "data": {
      "text/html": [
       "<div>\n",
       "<style scoped>\n",
       "    .dataframe tbody tr th:only-of-type {\n",
       "        vertical-align: middle;\n",
       "    }\n",
       "\n",
       "    .dataframe tbody tr th {\n",
       "        vertical-align: top;\n",
       "    }\n",
       "\n",
       "    .dataframe thead th {\n",
       "        text-align: right;\n",
       "    }\n",
       "</style>\n",
       "<table border=\"1\" class=\"dataframe\">\n",
       "  <thead>\n",
       "    <tr style=\"text-align: right;\">\n",
       "      <th>Predicted</th>\n",
       "      <th>No</th>\n",
       "      <th>Sí</th>\n",
       "    </tr>\n",
       "    <tr>\n",
       "      <th>True</th>\n",
       "      <th></th>\n",
       "      <th></th>\n",
       "    </tr>\n",
       "  </thead>\n",
       "  <tbody>\n",
       "    <tr>\n",
       "      <th>No</th>\n",
       "      <td>0.489333</td>\n",
       "      <td>0.510667</td>\n",
       "    </tr>\n",
       "    <tr>\n",
       "      <th>Sí</th>\n",
       "      <td>0.496889</td>\n",
       "      <td>0.503111</td>\n",
       "    </tr>\n",
       "  </tbody>\n",
       "</table>\n",
       "</div>"
      ],
      "text/plain": [
       "Predicted        No        Sí\n",
       "True                         \n",
       "No         0.489333  0.510667\n",
       "Sí         0.496889  0.503111"
      ]
     },
     "execution_count": 32,
     "metadata": {},
     "output_type": "execute_result"
    }
   ],
   "source": [
    "plot_CM(y_test2_MA, y_pred2_MA,norm='true')"
   ]
  },
  {
   "cell_type": "code",
   "execution_count": 33,
   "metadata": {},
   "outputs": [
    {
     "name": "stdout",
     "output_type": "stream",
     "text": [
      "Model: ROC AUC = 0.493\n"
     ]
    },
    {
     "data": {
      "image/png": "[encoded data removed]",
      "text/plain": [
       "<Figure size 432x288 with 1 Axes>"
      ]
     },
     "metadata": {
      "needs_background": "light"
     },
     "output_type": "display_data"
    }
   ],
   "source": [
    "plot_ROC(regLog2, X_test2_MA, y_test2_MA, scaler2_MA, model_name='Regresión logística con  1era selección de variables')"
   ]
  },
  {
   "cell_type": "markdown",
   "metadata": {},
   "source": [
    "### Conclusión\n",
    "Para la regresión logística es mejor conservar todas las variables para que el accuracy sea de aproximadamente igual 70% de lo contrario la predicción es muy mala (accuracy de 50%, es decir, predicciones aleatorias)."
   ]
  },
  {
   "cell_type": "markdown",
   "metadata": {},
   "source": [
    "## Bosques Aleatorios"
   ]
  },
  {
   "cell_type": "markdown",
   "metadata": {},
   "source": [
    "### Con todas las variables"
   ]
  },
  {
   "cell_type": "code",
   "execution_count": 34,
   "metadata": {},
   "outputs": [
    {
     "name": "stdout",
     "output_type": "stream",
     "text": [
      "(20100, 207) (20100,)\n"
     ]
    }
   ],
   "source": [
    "print(X_train_MA.shape, y_train_MA.shape)"
   ]
  },
  {
   "cell_type": "code",
   "execution_count": 35,
   "metadata": {
    "scrolled": true
   },
   "outputs": [
    {
     "data": {
      "text/plain": [
       "array(['cantidad de palabras objeto a contratar',\n",
       "       'cantidad de palabras objeto del contrato a la Firma',\n",
       "       'Fecha Firma Contrato - Fecha Cargue Secop',\n",
       "       'Fecha Ini Ejec - Fecha Firma Contrato',\n",
       "       'Plazo en dias de Ejec del Contrato', 'Cuantia Contrato',\n",
       "       'Valor Sancion',\n",
       "       'mismo detalle objeto a contratar despues de firma_0',\n",
       "       'mismo detalle objeto a contratar despues de firma_1',\n",
       "       'Mes Firma Contrato_Abril', 'Mes Firma Contrato_Agosto',\n",
       "       'Mes Firma Contrato_Diciembre', 'Mes Firma Contrato_Enero',\n",
       "       'Mes Firma Contrato_Febrero', 'Mes Firma Contrato_Julio',\n",
       "       'Mes Firma Contrato_Junio', 'Mes Firma Contrato_Marzo',\n",
       "       'Mes Firma Contrato_Mayo', 'Mes Firma Contrato_Noviembre',\n",
       "       'Mes Firma Contrato_Octubre', 'Mes Firma Contrato_Septiembre',\n",
       "       'Nombre Grupo_[A] Material Vivo Animal y Vegetal',\n",
       "       'Nombre Grupo_[B] Materias Primas',\n",
       "       'Nombre Grupo_[C] Maquinaria, Herramientas, Equipo Industrial y Vehículos',\n",
       "       'Nombre Grupo_[D] Componentes y Suministros',\n",
       "       'Nombre Grupo_[E] Productos de Uso Final',\n",
       "       'Nombre Grupo_[F] Servicios',\n",
       "       'Nombre Grupo_[G] Terrenos, Edificios, Estructuras y vías',\n",
       "       'Dia del Mes Firma Contrato_1', 'Dia del Mes Firma Contrato_2',\n",
       "       'Dia del Mes Firma Contrato_3', 'Dia del Mes Firma Contrato_4',\n",
       "       'Dia del Mes Firma Contrato_5', 'Dia del Mes Firma Contrato_6',\n",
       "       'Dia del Mes Firma Contrato_7', 'Dia del Mes Firma Contrato_8',\n",
       "       'Dia del Mes Firma Contrato_9', 'Dia del Mes Firma Contrato_10',\n",
       "       'Dia del Mes Firma Contrato_11', 'Dia del Mes Firma Contrato_12',\n",
       "       'Dia del Mes Firma Contrato_13', 'Dia del Mes Firma Contrato_14',\n",
       "       'Dia del Mes Firma Contrato_15', 'Dia del Mes Firma Contrato_16',\n",
       "       'Dia del Mes Firma Contrato_17', 'Dia del Mes Firma Contrato_18',\n",
       "       'Dia del Mes Firma Contrato_19', 'Dia del Mes Firma Contrato_20',\n",
       "       'Dia del Mes Firma Contrato_21', 'Dia del Mes Firma Contrato_22',\n",
       "       'Dia del Mes Firma Contrato_23', 'Dia del Mes Firma Contrato_24',\n",
       "       'Dia del Mes Firma Contrato_25', 'Dia del Mes Firma Contrato_26',\n",
       "       'Dia del Mes Firma Contrato_27', 'Dia del Mes Firma Contrato_28',\n",
       "       'Dia del Mes Firma Contrato_29', 'Dia del Mes Firma Contrato_30',\n",
       "       'Dia del Mes Firma Contrato_31', 'Def Origen Recur_0',\n",
       "       'Def Origen Recur_1', 'Dia de la Semana Firma Contrato_Domingo',\n",
       "       'Dia de la Semana Firma Contrato_Jueves',\n",
       "       'Dia de la Semana Firma Contrato_Lunes',\n",
       "       'Dia de la Semana Firma Contrato_Martes',\n",
       "       'Dia de la Semana Firma Contrato_Miércoles',\n",
       "       'Dia de la Semana Firma Contrato_Sábado',\n",
       "       'Dia de la Semana Firma Contrato_Viernes',\n",
       "       'Tipo de Contrato_Acuerdo Marco',\n",
       "       'Tipo de Contrato_Agregación de Demanda',\n",
       "       'Tipo de Contrato_Arrendamiento', 'Tipo de Contrato_Comodato',\n",
       "       'Tipo de Contrato_Compraventa', 'Tipo de Contrato_Concesión',\n",
       "       'Tipo de Contrato_Consultoría', 'Tipo de Contrato_Crédito',\n",
       "       'Tipo de Contrato_Fiducia', 'Tipo de Contrato_Interventoría',\n",
       "       'Tipo de Contrato_No definido', 'Tipo de Contrato_Obra',\n",
       "       'Tipo de Contrato_Otro Tipo de Contrato',\n",
       "       'Tipo de Contrato_Prestación de Servicios',\n",
       "       'Tipo de Contrato_Suministro',\n",
       "       'Causal de Otras Formas de Contratacion Directa_Arrendamiento o Adquisición de Inmuebles (Literal I)',\n",
       "       'Causal de Otras Formas de Contratacion Directa_Contratación de Bienes y Servicios en el Sector Defensa y en el DAS (Literal D)',\n",
       "       'Causal de Otras Formas de Contratacion Directa_Contratación de Empréstitos (Literal B)',\n",
       "       'Causal de Otras Formas de Contratacion Directa_Contratos Interadministrativos (Literal C)',\n",
       "       'Causal de Otras Formas de Contratacion Directa_Contratos de Encargo Fiduciario que Celebren Entidades Territoriales (Literal F)',\n",
       "       'Causal de Otras Formas de Contratacion Directa_Contratos para el Desarrollo de Actividades Científicas y Tecnológicas (Literal E)',\n",
       "       'Causal de Otras Formas de Contratacion Directa_Cuando no Exista Pluralidad de Oferentes en el Mercado (Literal G)',\n",
       "       'Causal de Otras Formas de Contratacion Directa_Ninguna',\n",
       "       'Causal de Otras Formas de Contratacion Directa_Prestación de Servicios Profesionales y de Apoyo a la Gestión (Literal H)',\n",
       "       'Causal de Otras Formas de Contratacion Directa_Urgencia Manifiesta (Literal A)',\n",
       "       'Regimen de Contratacion_Estatuto General de Contratación',\n",
       "       'Regimen de Contratacion_Ley 80 de 1993',\n",
       "       'Regimen de Contratacion_Régimen Especial',\n",
       "       'EsPostConflicto_No Definido', 'EsPostConflicto_Si',\n",
       "       'Tipo de Proceso_Asociación Público Privada',\n",
       "       'Tipo de Proceso_Concurso de Méritos Abierto',\n",
       "       'Tipo de Proceso_Concurso de Méritos con Lista Corta',\n",
       "       'Tipo de Proceso_Contratación Directa (Ley 1150 de 2007)',\n",
       "       'Tipo de Proceso_Contratación Mínima Cuantía',\n",
       "       'Tipo de Proceso_Contratos y convenios con más de dos partes',\n",
       "       'Tipo de Proceso_Licitación Pública',\n",
       "       'Tipo de Proceso_Licitación obra pública',\n",
       "       'Tipo de Proceso_Régimen Especial',\n",
       "       'Tipo de Proceso_Selección Abreviada de Menor Cuantía (Ley 1150 de 2007)',\n",
       "       'Tipo de Proceso_Selección Abreviada del literal h del numeral 2 del artículo 2 de la Ley 1150 de 2007',\n",
       "       'Tipo de Proceso_Selección Abreviada servicios de Salud',\n",
       "       'Tipo de Proceso_Subasta', 'Dpto y Muni Contratista_Alabama',\n",
       "       'Dpto y Muni Contratista_Alsacia',\n",
       "       'Dpto y Muni Contratista_Amazonas',\n",
       "       'Dpto y Muni Contratista_Amsterdam',\n",
       "       'Dpto y Muni Contratista_Andalucía',\n",
       "       'Dpto y Muni Contratista_Antioquia',\n",
       "       'Dpto y Muni Contratista_Apure', 'Dpto y Muni Contratista_Arauca',\n",
       "       'Dpto y Muni Contratista_Arizona',\n",
       "       'Dpto y Muni Contratista_Atlántico',\n",
       "       'Dpto y Muni Contratista_Australian Capital Territory',\n",
       "       'Dpto y Muni Contratista_Azerbaiyán',\n",
       "       'Dpto y Muni Contratista_Badahsâr',\n",
       "       'Dpto y Muni Contratista_Badgîs', 'Dpto y Muni Contratista_Balboa',\n",
       "       'Dpto y Muni Contratista_Barinas',\n",
       "       'Dpto y Muni Contratista_Bogotá D.C.',\n",
       "       'Dpto y Muni Contratista_Bolívar',\n",
       "       'Dpto y Muni Contratista_Boyacá',\n",
       "       'Dpto y Muni Contratista_Buenos Aires',\n",
       "       'Dpto y Muni Contratista_Caldas',\n",
       "       'Dpto y Muni Contratista_California',\n",
       "       'Dpto y Muni Contratista_Caquetá',\n",
       "       'Dpto y Muni Contratista_Casanare',\n",
       "       'Dpto y Muni Contratista_Castilla-La Mancha',\n",
       "       'Dpto y Muni Contratista_Cat Island',\n",
       "       'Dpto y Muni Contratista_Cataluña',\n",
       "       'Dpto y Muni Contratista_Cauca', 'Dpto y Muni Contratista_Cesar',\n",
       "       'Dpto y Muni Contratista_Chocó',\n",
       "       'Dpto y Muni Contratista_Colombia',\n",
       "       'Dpto y Muni Contratista_Comunidad de Madrid',\n",
       "       'Dpto y Muni Contratista_Cundinamarca',\n",
       "       'Dpto y Muni Contratista_Córdoba',\n",
       "       'Dpto y Muni Contratista_Delaware',\n",
       "       'Dpto y Muni Contratista_Distrito Federal',\n",
       "       'Dpto y Muni Contratista_Estado de México',\n",
       "       'Dpto y Muni Contratista_Floggia',\n",
       "       'Dpto y Muni Contratista_Florida',\n",
       "       'Dpto y Muni Contratista_Franche-Comté',\n",
       "       'Dpto y Muni Contratista_Guainía',\n",
       "       'Dpto y Muni Contratista_Guangdong',\n",
       "       'Dpto y Muni Contratista_Guaviare',\n",
       "       'Dpto y Muni Contratista_Heredia', 'Dpto y Muni Contratista_Huila',\n",
       "       'Dpto y Muni Contratista_Inglaterra',\n",
       "       'Dpto y Muni Contratista_Iowa',\n",
       "       'Dpto y Muni Contratista_Isla-de-Francia',\n",
       "       'Dpto y Muni Contratista_Kansas',\n",
       "       'Dpto y Muni Contratista_La Guajira',\n",
       "       'Dpto y Muni Contratista_La Rioja', 'Dpto y Muni Contratista_Lima',\n",
       "       'Dpto y Muni Contratista_Magdalena',\n",
       "       'Dpto y Muni Contratista_Manitoba',\n",
       "       'Dpto y Muni Contratista_Massachusetts',\n",
       "       'Dpto y Muni Contratista_Meta',\n",
       "       'Dpto y Muni Contratista_Minas Gerais',\n",
       "       'Dpto y Muni Contratista_Minnesota',\n",
       "       'Dpto y Muni Contratista_Montevideo',\n",
       "       'Dpto y Muni Contratista_Morelos',\n",
       "       'Dpto y Muni Contratista_Nairobi',\n",
       "       'Dpto y Muni Contratista_Nariño',\n",
       "       'Dpto y Muni Contratista_New Jersey',\n",
       "       'Dpto y Muni Contratista_New York',\n",
       "       'Dpto y Muni Contratista_No Definido',\n",
       "       'Dpto y Muni Contratista_Norte De Santander',\n",
       "       'Dpto y Muni Contratista_Nuevo León',\n",
       "       'Dpto y Muni Contratista_Otros Paises',\n",
       "       'Dpto y Muni Contratista_País Vasco-Euskadi',\n",
       "       'Dpto y Muni Contratista_Putumayo',\n",
       "       'Dpto y Muni Contratista_Qinghai',\n",
       "       'Dpto y Muni Contratista_Quebec',\n",
       "       'Dpto y Muni Contratista_Quindío',\n",
       "       'Dpto y Muni Contratista_Región Metropolitana',\n",
       "       'Dpto y Muni Contratista_Región de Coquimbo',\n",
       "       'Dpto y Muni Contratista_Región de Valparaíso',\n",
       "       'Dpto y Muni Contratista_Región de los Lagos',\n",
       "       'Dpto y Muni Contratista_Risaralda',\n",
       "       'Dpto y Muni Contratista_Salta',\n",
       "       'Dpto y Muni Contratista_San Andrés, Providencia y Santa Catalina',\n",
       "       'Dpto y Muni Contratista_San José',\n",
       "       'Dpto y Muni Contratista_Santander',\n",
       "       'Dpto y Muni Contratista_Sikkim',\n",
       "       'Dpto y Muni Contratista_South Dakota',\n",
       "       'Dpto y Muni Contratista_Taipei', 'Dpto y Muni Contratista_Tartu',\n",
       "       'Dpto y Muni Contratista_Thurgau',\n",
       "       'Dpto y Muni Contratista_Tolima',\n",
       "       'Dpto y Muni Contratista_Valle del Cauca',\n",
       "       'Dpto y Muni Contratista_Vaupés',\n",
       "       'Dpto y Muni Contratista_Vichada',\n",
       "       'Dpto y Muni Contratista_Victoria',\n",
       "       'Dpto y Muni Contratista_Viena',\n",
       "       'Dpto y Muni Contratista_Washington',\n",
       "       'Dpto y Muni Contratista_Zâbol', 'Dpto y Muni Contratista_Zûrich'],\n",
       "      dtype=object)"
      ]
     },
     "execution_count": 35,
     "metadata": {},
     "output_type": "execute_result"
    }
   ],
   "source": [
    "np.array(X_train_MA.columns)"
   ]
  },
  {
   "cell_type": "code",
   "execution_count": 36,
   "metadata": {},
   "outputs": [
    {
     "name": "stdout",
     "output_type": "stream",
     "text": [
      "Accuracy para Bosque Aleatorio con validación cruzada: 0.7636 \n"
     ]
    }
   ],
   "source": [
    "# Escalador de datos\n",
    "scaler = preprocessing.StandardScaler().fit(X_train_MA)\n",
    "# Validacion cruzada\n",
    "arb = RandomForestClassifier(random_state=42)\n",
    "vc = cross_val_score(arb, scaler.transform(X_train_MA), y_train_MA, cv = 5, scoring = \"accuracy\")\n",
    "accuracy = vc.mean()\n",
    "print(\"Accuracy para Bosque Aleatorio con validación cruzada: {:1.4f} \".format(accuracy) )"
   ]
  },
  {
   "cell_type": "code",
   "execution_count": 37,
   "metadata": {},
   "outputs": [
    {
     "data": {
      "text/plain": [
       "array([0.77139303, 0.76169154, 0.76144279, 0.76243781, 0.76094527])"
      ]
     },
     "execution_count": 37,
     "metadata": {},
     "output_type": "execute_result"
    }
   ],
   "source": [
    "vc"
   ]
  },
  {
   "cell_type": "code",
   "execution_count": 38,
   "metadata": {},
   "outputs": [
    {
     "data": {
      "text/plain": [
       "207"
      ]
     },
     "execution_count": 38,
     "metadata": {},
     "output_type": "execute_result"
    }
   ],
   "source": [
    "X_MA.shape[1]"
   ]
  },
  {
   "cell_type": "code",
   "execution_count": 39,
   "metadata": {},
   "outputs": [
    {
     "name": "stdout",
     "output_type": "stream",
     "text": [
      "Accuracy del test: 0.7708\n",
      "La sensitividad(recall) del test es: 0.7858\n"
     ]
    }
   ],
   "source": [
    "forest, X_test, y_test, y_pred_forest, scaler = random_forest(X_MA, y_MA)"
   ]
  },
  {
   "cell_type": "code",
   "execution_count": 40,
   "metadata": {
    "scrolled": true
   },
   "outputs": [
    {
     "data": {
      "text/html": [
       "<div>\n",
       "<style scoped>\n",
       "    .dataframe tbody tr th:only-of-type {\n",
       "        vertical-align: middle;\n",
       "    }\n",
       "\n",
       "    .dataframe tbody tr th {\n",
       "        vertical-align: top;\n",
       "    }\n",
       "\n",
       "    .dataframe thead th {\n",
       "        text-align: right;\n",
       "    }\n",
       "</style>\n",
       "<table border=\"1\" class=\"dataframe\">\n",
       "  <thead>\n",
       "    <tr style=\"text-align: right;\">\n",
       "      <th>Predicted</th>\n",
       "      <th>No</th>\n",
       "      <th>Sí</th>\n",
       "    </tr>\n",
       "    <tr>\n",
       "      <th>True</th>\n",
       "      <th></th>\n",
       "      <th></th>\n",
       "    </tr>\n",
       "  </thead>\n",
       "  <tbody>\n",
       "    <tr>\n",
       "      <th>No</th>\n",
       "      <td>3401</td>\n",
       "      <td>1099</td>\n",
       "    </tr>\n",
       "    <tr>\n",
       "      <th>Sí</th>\n",
       "      <td>964</td>\n",
       "      <td>3536</td>\n",
       "    </tr>\n",
       "  </tbody>\n",
       "</table>\n",
       "</div>"
      ],
      "text/plain": [
       "Predicted    No    Sí\n",
       "True                 \n",
       "No         3401  1099\n",
       "Sí          964  3536"
      ]
     },
     "execution_count": 40,
     "metadata": {},
     "output_type": "execute_result"
    }
   ],
   "source": [
    "plot_CM(y_test, y_pred_forest)"
   ]
  },
  {
   "cell_type": "code",
   "execution_count": 41,
   "metadata": {},
   "outputs": [
    {
     "name": "stdout",
     "output_type": "stream",
     "text": [
      "Model: ROC AUC = 0.863\n"
     ]
    },
    {
     "data": {
      "image/png": "[encoded data removed]",
      "text/plain": [
       "<Figure size 432x288 with 1 Axes>"
      ]
     },
     "metadata": {
      "needs_background": "light"
     },
     "output_type": "display_data"
    }
   ],
   "source": [
    "plot_ROC(forest, X_test, y_test, scaler, model_name='Bosque aleatorio con todas las variables')"
   ]
  },
  {
   "cell_type": "markdown",
   "metadata": {},
   "source": [
    "### Con primera selección de variables"
   ]
  },
  {
   "cell_type": "code",
   "execution_count": 42,
   "metadata": {},
   "outputs": [
    {
     "name": "stdout",
     "output_type": "stream",
     "text": [
      "Accuracy del test: 0.5003\n",
      "La sensitividad(recall) del test es: 0.4889\n"
     ]
    }
   ],
   "source": [
    "# Con X_fselec_MA, y_fselec_MA\n",
    "N = 15000 # datos por clase\n",
    "X_fselec_MA, y_fselec_MA = small_balanced_sample(X_fselec,y_down_MA,N)\n",
    "# Resultados\n",
    "forest_s1, X_test_s1, y_test_s1, y_pred_forest_s1, scaler_s1 = random_forest(X_fselec_MA, y_fselec_MA)"
   ]
  },
  {
   "cell_type": "code",
   "execution_count": 43,
   "metadata": {},
   "outputs": [
    {
     "name": "stdout",
     "output_type": "stream",
     "text": [
      "(30000, 39)\n",
      "['cantidad de palabras objeto a contratar'\n",
      " 'cantidad de palabras objeto del contrato a la Firma'\n",
      " 'Fecha Firma Contrato - Fecha Cargue Secop'\n",
      " 'Fecha Ini Ejec - Fecha Firma Contrato'\n",
      " 'Plazo en dias de Ejec del Contrato' 'Cuantia Contrato'\n",
      " 'mismo detalle objeto a contratar despues de firma_0'\n",
      " 'mismo detalle objeto a contratar despues de firma_1'\n",
      " 'Mes Firma Contrato_Abril' 'Mes Firma Contrato_Agosto'\n",
      " 'Mes Firma Contrato_Diciembre' 'Mes Firma Contrato_Enero'\n",
      " 'Mes Firma Contrato_Febrero' 'Mes Firma Contrato_Julio'\n",
      " 'Mes Firma Contrato_Junio' 'Mes Firma Contrato_Marzo'\n",
      " 'Mes Firma Contrato_Mayo' 'Mes Firma Contrato_Noviembre'\n",
      " 'Mes Firma Contrato_Octubre' 'Mes Firma Contrato_Septiembre'\n",
      " 'Nombre Grupo_[F] Servicios' 'Dia del Mes Firma Contrato_1'\n",
      " 'Dia del Mes Firma Contrato_2' 'Dia del Mes Firma Contrato_4'\n",
      " 'Dia del Mes Firma Contrato_11' 'Def Origen Recur_0' 'Def Origen Recur_1'\n",
      " 'Dia de la Semana Firma Contrato_Jueves'\n",
      " 'Dia de la Semana Firma Contrato_Lunes'\n",
      " 'Dia de la Semana Firma Contrato_Martes'\n",
      " 'Dia de la Semana Firma Contrato_Miércoles'\n",
      " 'Dia de la Semana Firma Contrato_Viernes'\n",
      " 'Tipo de Contrato_Prestación de Servicios'\n",
      " 'Causal de Otras Formas de Contratacion Directa_Prestación de Servicios Profesionales y de Apoyo a la Gestión (Literal H)'\n",
      " 'Regimen de Contratacion_Estatuto General de Contratación'\n",
      " 'Regimen de Contratacion_Régimen Especial'\n",
      " 'Tipo de Proceso_Régimen Especial' 'Dpto y Muni Contratista_Bogotá D.C.'\n",
      " 'Dpto y Muni Contratista_Cundinamarca']\n"
     ]
    }
   ],
   "source": [
    "print(X_fselec_MA.shape)\n",
    "print(np.array(X_fselec_MA.columns))"
   ]
  },
  {
   "cell_type": "code",
   "execution_count": 44,
   "metadata": {},
   "outputs": [
    {
     "data": {
      "text/html": [
       "<div>\n",
       "<style scoped>\n",
       "    .dataframe tbody tr th:only-of-type {\n",
       "        vertical-align: middle;\n",
       "    }\n",
       "\n",
       "    .dataframe tbody tr th {\n",
       "        vertical-align: top;\n",
       "    }\n",
       "\n",
       "    .dataframe thead th {\n",
       "        text-align: right;\n",
       "    }\n",
       "</style>\n",
       "<table border=\"1\" class=\"dataframe\">\n",
       "  <thead>\n",
       "    <tr style=\"text-align: right;\">\n",
       "      <th>Predicted</th>\n",
       "      <th>No</th>\n",
       "      <th>Sí</th>\n",
       "    </tr>\n",
       "    <tr>\n",
       "      <th>True</th>\n",
       "      <th></th>\n",
       "      <th></th>\n",
       "    </tr>\n",
       "  </thead>\n",
       "  <tbody>\n",
       "    <tr>\n",
       "      <th>No</th>\n",
       "      <td>2303</td>\n",
       "      <td>2197</td>\n",
       "    </tr>\n",
       "    <tr>\n",
       "      <th>Sí</th>\n",
       "      <td>2300</td>\n",
       "      <td>2200</td>\n",
       "    </tr>\n",
       "  </tbody>\n",
       "</table>\n",
       "</div>"
      ],
      "text/plain": [
       "Predicted    No    Sí\n",
       "True                 \n",
       "No         2303  2197\n",
       "Sí         2300  2200"
      ]
     },
     "execution_count": 44,
     "metadata": {},
     "output_type": "execute_result"
    }
   ],
   "source": [
    "plot_CM(y_test_s1, y_pred_forest_s1)"
   ]
  },
  {
   "cell_type": "code",
   "execution_count": 45,
   "metadata": {},
   "outputs": [
    {
     "name": "stdout",
     "output_type": "stream",
     "text": [
      "Model: ROC AUC = 0.500\n"
     ]
    },
    {
     "data": {
      "image/png": "[encoded data removed]",
      "text/plain": [
       "<Figure size 432x288 with 1 Axes>"
      ]
     },
     "metadata": {
      "needs_background": "light"
     },
     "output_type": "display_data"
    }
   ],
   "source": [
    "plot_ROC(forest_s1, X_test_s1, y_test_s1, scaler_s1, model_name='Bosque aleatorio 1ra selección de variables')"
   ]
  },
  {
   "cell_type": "markdown",
   "metadata": {},
   "source": [
    "### Con segunda selección de variables"
   ]
  },
  {
   "cell_type": "code",
   "execution_count": 46,
   "metadata": {},
   "outputs": [
    {
     "name": "stdout",
     "output_type": "stream",
     "text": [
      "Accuracy del test: 0.4989\n",
      "La sensitividad(recall) del test es: 0.4827\n"
     ]
    }
   ],
   "source": [
    "# Con X_fselec_MA, y_fselec_MA\n",
    "N = 15000 # datos por clase\n",
    "X_fselec_2_MA, y_fselec_2_MA = small_balanced_sample(X_fselec_2,y_down_MA,N)\n",
    "# Resultados\n",
    "forest_s2, X_test_s2, y_test_s2, y_pred_forest_s2, scaler_s2 = random_forest(X_fselec_2_MA, y_fselec_2_MA)"
   ]
  },
  {
   "cell_type": "code",
   "execution_count": 47,
   "metadata": {},
   "outputs": [
    {
     "name": "stdout",
     "output_type": "stream",
     "text": [
      "(30000, 6)\n",
      "['cantidad de palabras objeto a contratar'\n",
      " 'cantidad de palabras objeto del contrato a la Firma'\n",
      " 'Fecha Firma Contrato - Fecha Cargue Secop'\n",
      " 'Fecha Ini Ejec - Fecha Firma Contrato'\n",
      " 'Plazo en dias de Ejec del Contrato' 'Cuantia Contrato']\n"
     ]
    }
   ],
   "source": [
    "print(X_fselec_2_MA.shape)\n",
    "print(np.array(X_fselec_2_MA.columns))"
   ]
  },
  {
   "cell_type": "code",
   "execution_count": 48,
   "metadata": {},
   "outputs": [
    {
     "data": {
      "text/html": [
       "<div>\n",
       "<style scoped>\n",
       "    .dataframe tbody tr th:only-of-type {\n",
       "        vertical-align: middle;\n",
       "    }\n",
       "\n",
       "    .dataframe tbody tr th {\n",
       "        vertical-align: top;\n",
       "    }\n",
       "\n",
       "    .dataframe thead th {\n",
       "        text-align: right;\n",
       "    }\n",
       "</style>\n",
       "<table border=\"1\" class=\"dataframe\">\n",
       "  <thead>\n",
       "    <tr style=\"text-align: right;\">\n",
       "      <th>Predicted</th>\n",
       "      <th>No</th>\n",
       "      <th>Sí</th>\n",
       "    </tr>\n",
       "    <tr>\n",
       "      <th>True</th>\n",
       "      <th></th>\n",
       "      <th></th>\n",
       "    </tr>\n",
       "  </thead>\n",
       "  <tbody>\n",
       "    <tr>\n",
       "      <th>No</th>\n",
       "      <td>2318</td>\n",
       "      <td>2182</td>\n",
       "    </tr>\n",
       "    <tr>\n",
       "      <th>Sí</th>\n",
       "      <td>2328</td>\n",
       "      <td>2172</td>\n",
       "    </tr>\n",
       "  </tbody>\n",
       "</table>\n",
       "</div>"
      ],
      "text/plain": [
       "Predicted    No    Sí\n",
       "True                 \n",
       "No         2318  2182\n",
       "Sí         2328  2172"
      ]
     },
     "execution_count": 48,
     "metadata": {},
     "output_type": "execute_result"
    }
   ],
   "source": [
    "plot_CM(y_test_s2, y_pred_forest_s2)"
   ]
  },
  {
   "cell_type": "code",
   "execution_count": 49,
   "metadata": {},
   "outputs": [
    {
     "name": "stdout",
     "output_type": "stream",
     "text": [
      "Model: ROC AUC = 0.499\n"
     ]
    },
    {
     "data": {
      "image/png": "[encoded data removed]",
      "text/plain": [
       "<Figure size 432x288 with 1 Axes>"
      ]
     },
     "metadata": {
      "needs_background": "light"
     },
     "output_type": "display_data"
    }
   ],
   "source": [
    "plot_ROC(forest_s2, X_test_s2, y_test_s2, scaler_s2, model_name='Bosque aleatorio 2da selección de variables')"
   ]
  },
  {
   "cell_type": "markdown",
   "metadata": {},
   "source": [
    "### Con selección específica de variables"
   ]
  },
  {
   "cell_type": "code",
   "execution_count": 216,
   "metadata": {},
   "outputs": [],
   "source": [
    "cols = ['cantidad de palabras objeto a contratar',\n",
    "       'Fecha Firma Contrato - Fecha Cargue Secop',\n",
    "       'Fecha Ini Ejec - Fecha Firma Contrato',\n",
    "       'Plazo en dias de Ejec del Contrato',\n",
    "       'mismo detalle objeto a contratar despues de firma_1']"
   ]
  },
  {
   "cell_type": "code",
   "execution_count": 217,
   "metadata": {},
   "outputs": [],
   "source": [
    "X_fselec_3_MA = X_down_MA_dum[cols]"
   ]
  },
  {
   "cell_type": "code",
   "execution_count": 218,
   "metadata": {},
   "outputs": [
    {
     "data": {
      "text/plain": [
       "(303916, 5)"
      ]
     },
     "execution_count": 218,
     "metadata": {},
     "output_type": "execute_result"
    }
   ],
   "source": [
    "X_fselec_3_MA.shape"
   ]
  },
  {
   "cell_type": "code",
   "execution_count": 219,
   "metadata": {},
   "outputs": [],
   "source": [
    "X_s3_MA, y_s3_MA = small_balanced_sample(X_fselec_3_MA,y_down_MA,15000)"
   ]
  },
  {
   "cell_type": "code",
   "execution_count": 220,
   "metadata": {},
   "outputs": [
    {
     "name": "stdout",
     "output_type": "stream",
     "text": [
      "Accuracy para Bosque Aleatorio con validación cruzada: 0.7176 \n"
     ]
    }
   ],
   "source": [
    "X_train_s3_MA, X_test_s3_MA, y_train_s3_MA, y_test_s3_MA = train_test_split(X_s3_MA, y_s3_MA,\n",
    "                                                                            test_size=0.33, random_state=42)\n",
    "# Escalador de datos\n",
    "scaler_s3 = preprocessing.StandardScaler().fit(X_train_s3_MA)\n",
    "# Validacion cruzada\n",
    "arb = RandomForestClassifier(random_state=42)\n",
    "vc = cross_val_score(arb, scaler_s3.transform(X_train_s3_MA), y_train_s3_MA, cv = 5, scoring = \"accuracy\")\n",
    "accuracy = vc.mean()\n",
    "print(\"Accuracy para Bosque Aleatorio con validación cruzada: {:1.4f} \".format(accuracy) )"
   ]
  },
  {
   "cell_type": "code",
   "execution_count": 221,
   "metadata": {},
   "outputs": [
    {
     "data": {
      "text/plain": [
       "array([0.69900498, 0.72263682, 0.70995025, 0.72985075, 0.72661692])"
      ]
     },
     "execution_count": 221,
     "metadata": {},
     "output_type": "execute_result"
    }
   ],
   "source": [
    "vc"
   ]
  },
  {
   "cell_type": "code",
   "execution_count": 222,
   "metadata": {},
   "outputs": [
    {
     "data": {
      "text/plain": [
       "(20100, 5)"
      ]
     },
     "execution_count": 222,
     "metadata": {},
     "output_type": "execute_result"
    }
   ],
   "source": [
    "X_train_s3_MA.shape"
   ]
  },
  {
   "cell_type": "code",
   "execution_count": 223,
   "metadata": {},
   "outputs": [
    {
     "name": "stdout",
     "output_type": "stream",
     "text": [
      "Accuracy del test: 0.7230\n",
      "La sensitividad(recall) del test es: 0.7404\n"
     ]
    }
   ],
   "source": [
    "# Con X_fselec_MA, y_fselec_MA\n",
    "N = 15000 # datos por clase\n",
    "X_fselec_3_MA, y_fselec_3_MA = small_balanced_sample(X_fselec_3_MA,y_down_MA,N)\n",
    "# Resultados\n",
    "forest_s3, X_test_s3, y_test_s3, y_pred_forest_s3, scaler_s3 = random_forest(X_fselec_3_MA, y_fselec_3_MA)"
   ]
  },
  {
   "cell_type": "code",
   "execution_count": 224,
   "metadata": {},
   "outputs": [
    {
     "data": {
      "text/html": [
       "<div>\n",
       "<style scoped>\n",
       "    .dataframe tbody tr th:only-of-type {\n",
       "        vertical-align: middle;\n",
       "    }\n",
       "\n",
       "    .dataframe tbody tr th {\n",
       "        vertical-align: top;\n",
       "    }\n",
       "\n",
       "    .dataframe thead th {\n",
       "        text-align: right;\n",
       "    }\n",
       "</style>\n",
       "<table border=\"1\" class=\"dataframe\">\n",
       "  <thead>\n",
       "    <tr style=\"text-align: right;\">\n",
       "      <th>Predicted</th>\n",
       "      <th>No</th>\n",
       "      <th>Sí</th>\n",
       "    </tr>\n",
       "    <tr>\n",
       "      <th>True</th>\n",
       "      <th></th>\n",
       "      <th></th>\n",
       "    </tr>\n",
       "  </thead>\n",
       "  <tbody>\n",
       "    <tr>\n",
       "      <th>No</th>\n",
       "      <td>3175</td>\n",
       "      <td>1325</td>\n",
       "    </tr>\n",
       "    <tr>\n",
       "      <th>Sí</th>\n",
       "      <td>1168</td>\n",
       "      <td>3332</td>\n",
       "    </tr>\n",
       "  </tbody>\n",
       "</table>\n",
       "</div>"
      ],
      "text/plain": [
       "Predicted    No    Sí\n",
       "True                 \n",
       "No         3175  1325\n",
       "Sí         1168  3332"
      ]
     },
     "execution_count": 224,
     "metadata": {},
     "output_type": "execute_result"
    }
   ],
   "source": [
    "plot_CM(y_test_s3, y_pred_forest_s3)"
   ]
  },
  {
   "cell_type": "code",
   "execution_count": 225,
   "metadata": {
    "scrolled": true
   },
   "outputs": [
    {
     "name": "stdout",
     "output_type": "stream",
     "text": [
      "Model: ROC AUC = 0.810\n"
     ]
    },
    {
     "data": {
      "image/png": "[encoded data removed]",
      "text/plain": [
       "<Figure size 432x288 with 1 Axes>"
      ]
     },
     "metadata": {
      "needs_background": "light"
     },
     "output_type": "display_data"
    }
   ],
   "source": [
    "plot_ROC(forest_s3, X_test_s3, y_test_s3, scaler_s3, model_name='Bosque aleatorio 3ra selección de variables')"
   ]
  },
  {
   "cell_type": "markdown",
   "metadata": {},
   "source": [
    "- Con 75 variables el cambio no es mucho: el accuracy promedio (CV) se mantiene alrededor de 0.76 al igual que con todas las variables. El ROC AUC score cambió de 0.859 a 0.861. Como es prácticamente lo mismo, se probará con unas 60 variables.\n",
    "-  Con 58 variables: 0.75 accuracy promedio (CV) y ROC AUC Score = 0.84\n",
    "- Quitar Mes Firma de contrato, dejar mismo detalle objeto a contratar\n",
    "- Es Post Conflicto se puede quitar, no cambio mucho ni el accracy ni el ROC AUC score\n",
    "- Causal de otras formas de contratacion tampoco funcionan\n",
    "- Ni Tipo de Proceso ni Tipo de Contrato afectan el rendimiento del modelo\n",
    "- Quitar Nombre Grupo Baja levemente  pero casi nada\n",
    "- Con Def Origen bajó un poc los resultados (más que al quitar Nombre Grupo) pero no es grave"
   ]
  },
  {
   "cell_type": "code",
   "execution_count": null,
   "metadata": {},
   "outputs": [],
   "source": []
  }
 ],
 "metadata": {
  "kernelspec": {
   "display_name": "Python 3",
   "language": "python",
   "name": "python3"
  },
  "language_info": {
   "codemirror_mode": {
    "name": "ipython",
    "version": 3
   },
   "file_extension": ".py",
   "mimetype": "text/x-python",
   "name": "python",
   "nbconvert_exporter": "python",
   "pygments_lexer": "ipython3",
   "version": "3.8.5"
  }
 },
 "nbformat": 4,
 "nbformat_minor": 4
}
