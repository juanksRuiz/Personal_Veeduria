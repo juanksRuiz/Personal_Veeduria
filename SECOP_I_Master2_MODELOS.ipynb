{
 "cells": [
  {
   "cell_type": "markdown",
   "metadata": {},
   "source": [
    "# Modelos para detectar contratos con adiciones - SECOP I\n",
    "En este notebook se realiza la prueba de posibles modelos predictivos con los cuales se pretende detectar anomalías en la contratación pública de Bogotá. Se usa como insumo la base de datos SECOP_I_MASTER2.\n",
    "\n",
    "Base con la cual se proceden a realizar modelos de clasificación binarios para 3 diferentes variables objetivo que determinan si el contrato tuvo alguna adición del respectivo tipo o no; `Marc Adiciones`,`Adicion en Valor` y `Adicion en Tiempo`. Adicionalmente, se realizan modelos con y sin incluir los modelos con prestacion de servicios.\n",
    "\n",
    "1. **Modelos para Sancion (Marc Sancion)**\n",
    "2. **Modelos para Adiciones**\n",
    "    1. Balanceo de clases y selección doble de variables\n",
    "    2. Pruebas Regresión logística y Bosques Aleatorios\n",
    "    3. Comparación Modelos\n",
    "    4. Repetición de  los puntos anteriores SIN prestación de servicios\n",
    "    \n",
    "- Buscar útilidad de AIC Y BIC para modelos de clasificación y su calculo.https://stackoverflow.com/questions/48185090/how-to-get-the-log-likelihood-for-a-logistic-regression-model-in-sklearn\n",
    "- Probar elección de hiperparámetros con métrica fbeta."
   ]
  },
  {
   "cell_type": "code",
   "execution_count": 1,
   "metadata": {},
   "outputs": [],
   "source": [
    "import os\n",
    "import numpy as np\n",
    "import pandas as pd\n",
    "\n",
    "import matplotlib.pyplot as plt\n",
    "\n",
    "from sklearn.utils import resample\n",
    "from sklearn import preprocessing\n",
    "from sklearn.model_selection import train_test_split, cross_val_score, GridSearchCV\n",
    "from sklearn.feature_selection import RFE, SelectFromModel\n",
    "from sklearn.metrics import *\n",
    "from sklearn.linear_model import LogisticRegression\n",
    "from sklearn.ensemble import RandomForestClassifier, ExtraTreesClassifier\n",
    "\n",
    "import scipy.stats as stats\n",
    "from scipy import stats\n",
    "from scipy.stats import kruskal\n",
    "from scipy import stats\n",
    "\n",
    "import pycorrcat.pycorrcat as corrcat  #Calcula la V de cramer para variables categóricas.\n",
    "\n",
    "import statsmodels.api as sm\n",
    "\n",
    "import seaborn as sns\n",
    "# os.chdir('C:/Users/santiago/Documents/Proyecto AI Veeduría')\n",
    "os.chdir('C:/Users/juanc/OneDrive/Escritorio/LOCAL_Personal_Veeduria')\n"
   ]
  },
  {
   "cell_type": "markdown",
   "metadata": {},
   "source": [
    "# Funciones auxiliares"
   ]
  },
  {
   "cell_type": "code",
   "execution_count": 2,
   "metadata": {},
   "outputs": [],
   "source": [
    "# Gráficas\n",
    "def corr_Matrix(data):\n",
    "    '''\n",
    "    Gráfica la matríz de correlación entre todas las variables \n",
    "    de la base de datos usada.\n",
    "    '''\n",
    "    f,ax = plt.subplots(figsize = (15,14))\n",
    "    sns.heatmap(data.corr(),cmap = 'ocean_r', annot = True, cbar = False )\n",
    "    ax.set_title('Correlation matrix')\n",
    "    plt.show()\n",
    "\n",
    "\n",
    "def plot_ROC(model, X_test, y_test, scaler, model_name='Model'):\n",
    "    '''\n",
    "    Gráfica la curva ROC y calcula el AUC para un modelo entrenado dados unos datos de prueba.\n",
    "    Entradas:\n",
    "            model: modelo sklearn entrenado del que se usa el método predict_proba()\n",
    "            X_test: variables independientes de prueba.\n",
    "            Y_test: variable dependiente de prueba.\n",
    "            scaler: objeto preprocessing.StandardScaler() entrenado junto al modelo para escalar X_test.\n",
    "            model_name: string con el nombre del modelo que se pasa para usar como leyenda de la curva ROC\n",
    "    Salida:\n",
    "            Gráfica curva ROC e impresión del AUC.\n",
    "    '''\n",
    "    ns_probs = [0 for _ in range(len(y_test))]\n",
    "    lr_probs = model.predict_proba(scaler.transform(X_test))\n",
    "    lr_probs = lr_probs[:, 1]\n",
    "    \n",
    "    lr_auc = roc_auc_score(y_test, lr_probs)\n",
    "    print(\"Model: ROC AUC = {:1.3f}\".format(lr_auc))\n",
    "\n",
    "    ns_fpr, ns_tpr, _ = roc_curve(y_test, ns_probs)\n",
    "    lr_fpr, lr_tpr, _ = roc_curve(y_test, lr_probs)\n",
    "\n",
    "    plt.plot(ns_fpr, ns_tpr, linestyle = '--') \n",
    "    plt.plot(lr_fpr, lr_tpr, marker = '.', label = model_name)\n",
    "    plt.xlabel('False Positive Rate')\n",
    "    plt.ylabel('True Positive Rate')\n",
    "    plt.legend(loc=\"lower right\")\n",
    "    plt.title('ROC curve')\n",
    "    plt.show()\n",
    "    \n",
    "    \n",
    "def plot_CM(y_true, y_pred,norm=None):\n",
    "    '''\n",
    "    Tabla de matríz de confusión\n",
    "    '''\n",
    "    cm = confusion_matrix(y_true, y_pred,normalize=norm)\n",
    "    cm_df = pd.DataFrame(cm, index = ['No','Sí'], columns = ['No','Sí'])\n",
    "    cm_df.index.name = 'True'; cm_df.columns.name = 'Predicted'\n",
    "    return cm_df\n",
    "\n",
    "def balance(base, target):\n",
    "    '''\n",
    "    Función para balancear las bases de datos hacia el valor de la variables objetivo con menos observaciones.\n",
    "    Entradas:\n",
    "            base: base de pandas a balancear.\n",
    "            target: nombre de la variable objetivo respecto a la que se balanceará.\n",
    "    Salida:\n",
    "            df_downsample: base balanceada.\n",
    "    '''\n",
    "    df_majority = base[base[target] == 0]\n",
    "    df_minority = base[base[target] == 1]\n",
    "    \n",
    "    n = min(base[target].value_counts())\n",
    "    df_majority_downsampled = resample(df_majority, replace = False, n_samples = n, random_state = 123)\n",
    "    df_downsampled = pd.concat([df_majority_downsampled, df_minority])\n",
    "    \n",
    "    return df_downsampled\n",
    "def small_balanced_sample(X,y,N):\n",
    "    \"\"\"\n",
    "    Muestrea un subconjunto de la base de datos con n dilas por categoria del target\n",
    "    Entradas:\n",
    "        X: matriz de datos \n",
    "        y: arreglo de ariable respuesta\n",
    "        N: numero de muestras a muestrear para cada clase\n",
    "        \n",
    "    Salida:\n",
    "        X_samp, y_samp: matriz de datos muestreada y variable output muestrado\n",
    "    \"\"\"\n",
    "    # Concatenacion de X y output y en una sola tabla\n",
    "    base = pd.concat([X,pd.DataFrame(y)],axis=1).dropna()    \n",
    "    # Muestreo de N datos por columna\n",
    "    base_new = base.groupby(y.name).sample(n=N,random_state=1)\n",
    "    # Shuffle\n",
    "    base_new = base_new.sample(frac=1).reset_index(drop=True)\n",
    "    X_samp = base_new.iloc[:,:-1] # Todas las columnas excepto la ultima donde esta el target\n",
    "    y_samp = base_new[y.name]\n",
    "    return X_samp, y_samp"
   ]
  },
  {
   "cell_type": "code",
   "execution_count": 3,
   "metadata": {},
   "outputs": [],
   "source": [
    "# Funciones para ejecutar modelos\n",
    "def feature_selection(X, y,max_vars = None,umbral = None):\n",
    "    '''\n",
    "    Selección de variables estadísticamente significativas mediante random forest\n",
    "    Entradas: X, y: Variables independietes y dependientes como base y serie de pandas respectivamente.\n",
    "    Salida: X_varSelec: Pandas dataframe solo con las variables significativas.\n",
    "    '''\n",
    "    sel = SelectFromModel(RandomForestClassifier(n_estimators = 100),max_features = max_vars,threshold=umbral)\n",
    "    sel.fit(X, y)\n",
    "    \n",
    "    variables_significativas = np.where(sel.get_support() == True)\n",
    "    nombres_columnas = []\n",
    "    for idx, i in enumerate(variables_significativas):\n",
    "        nombres_columnas.append(X.columns[i])\n",
    "    nombres_columnas = list(nombres_columnas[0])\n",
    "    print(\"Variables estadísticamente significativas: \\n{}\".format(nombres_columnas))\n",
    "    \n",
    "    X_varSelec = sel.transform(X)\n",
    "    X_varSelec = pd.DataFrame(X_varSelec, columns = nombres_columnas)\n",
    "    \n",
    "    return X_varSelec\n",
    "\n",
    "\n",
    "def reg_log(X, y):\n",
    "    '''\n",
    "    Modelo de regresión logítica.\n",
    "    Función para la realización de modelos mediante regresión logística. Imprime accuracy de la validación cruzada\n",
    "    y datos de prueba , así como el recall en los datos de prueba.\n",
    "    Entradas: \n",
    "            X: base de pandas con variables independientes.\n",
    "            Y: serie de pandas con la variable objetivo.\n",
    "    Salidas:\n",
    "            rl: modelo de regresión logística entrenado.\n",
    "            X_test, y_test: Datos de prueba.\n",
    "            y_pred: valores de la variable respuesta estimados.\n",
    "            scaler: objeto para escalar valores entrenado.\n",
    "    '''\n",
    "    X_train, X_test, y_train, y_test = train_test_split(X, y, test_size = 0.3, random_state = 42, stratify = y)\n",
    "    scaler = preprocessing.StandardScaler().fit(X_train)\n",
    "    \n",
    "    rl = LogisticRegression(max_iter = 500)\n",
    "    vc = cross_val_score(rl, scaler.transform(X_train), y_train, cv = 10, scoring = \"accuracy\")\n",
    "    accuracy = vc.mean()\n",
    "    print(\"Accuracy para Regresión Logística con validación cruzada: {:1.4f} \".format(accuracy) )\n",
    "    \n",
    "    rl = LogisticRegression(max_iter = 500)\n",
    "    rl.fit(scaler.transform(X_train), y_train)\n",
    "\n",
    "    y_pred = rl.predict(scaler.transform(X_test))\n",
    "    print(\"El accuracy del test es: {:1.4f}\".format( accuracy_score(y_test, y_pred) ))\n",
    "    print(\"La sensitividad(recall) del test es: {:1.4f}\".format( recall_score(y_test, y_pred) ))\n",
    "    \n",
    "    return rl, X_test, y_test, y_pred, scaler\n",
    "\n",
    "\n",
    "def random_forest(X, y):\n",
    "    '''\n",
    "    Modelo random forest para clasificación.\n",
    "    Entradas: \n",
    "            X: base de pandas con variables independientes.\n",
    "            Y: serie de pandas con la variable objetivo.\n",
    "    Salidas:\n",
    "            arb: modelo de random forest entrenado.\n",
    "            X_test, y_test: Datos de prueba.\n",
    "            y_pred: valores de la variable respuesta estimados.\n",
    "            scaler: objeto para escalar valores entrenado.    \n",
    "    '''\n",
    "    X_train, X_test, y_train, y_test = train_test_split(X, y, test_size = 0.3, random_state = 42, stratify = y)\n",
    "    scaler = preprocessing.StandardScaler().fit(X_train)\n",
    "    \n",
    "    arb = RandomForestClassifier(random_state=42)\n",
    "    arb.fit(scaler.transform(X_train), y_train)\n",
    "    \n",
    "    y_pred_arb = arb.predict(scaler.transform(X_test))\n",
    "    print(\"Accuracy del test: {:1.4f}\".format( accuracy_score(y_test, y_pred_arb) ))\n",
    "    print(\"La sensitividad(recall) del test es: {:1.4f}\".format( recall_score(y_test, y_pred_arb) ))\n",
    "\n",
    "    return arb, X_test, y_test, y_pred_arb, scaler"
   ]
  },
  {
   "cell_type": "code",
   "execution_count": 4,
   "metadata": {},
   "outputs": [],
   "source": [
    "# tarda un poco en leer los datos\n",
    "df = pd.read_csv(\"SECOP_I_MASTER2.csv\")\n",
    "df = df.dropna()"
   ]
  },
  {
   "cell_type": "code",
   "execution_count": 5,
   "metadata": {},
   "outputs": [
    {
     "data": {
      "text/plain": [
       "['Marc Adiciones',\n",
       " 'Adicion en Valor',\n",
       " 'Adicion en Tiempo',\n",
       " 'Tiempo Adiciones (Dias)',\n",
       " 'Valor Total de Adiciones',\n",
       " 'Valor Contrato con Adiciones']"
      ]
     },
     "execution_count": 5,
     "metadata": {},
     "output_type": "execute_result"
    }
   ],
   "source": [
    "# Columnas sobre adiciones\n",
    "cols_ad = [n for n in df.columns if \"Adicion\" in n or \"adicion\" in n]\n",
    "cols_ad"
   ]
  },
  {
   "cell_type": "code",
   "execution_count": 6,
   "metadata": {
    "scrolled": true
   },
   "outputs": [
    {
     "name": "stdout",
     "output_type": "stream",
     "text": [
      "Dimension de los datos:  (603450, 49)\n"
     ]
    },
    {
     "data": {
      "text/plain": [
       "Index(['UID', 'Orden Entidad', 'Nombre de la Entidad', 'Código de la Entidad',\n",
       "       'Tipo de Proceso', 'Estado del Proceso',\n",
       "       'Causal de Otras Formas de Contratacion Directa',\n",
       "       'Regimen de Contratacion', 'Objeto a Contratar', 'Tipo de Contrato',\n",
       "       'cantidad de palabras objeto a contratar', 'Nombre Grupo',\n",
       "       'Nombre Familia', 'Nombre Clase', 'EsPostConflicto', 'Def Origen Recur',\n",
       "       'Num Origenes Recur', 'Descrip Origenes Recur', 'ID Ajudicacion',\n",
       "       'Tipo Identifi del Contratista',\n",
       "       'cantidad de palabras objeto del contrato a la Firma',\n",
       "       'mismo detalle objeto a contratar despues de firma',\n",
       "       'Identificacion del Contratista', 'Nom Raz Social Contratista',\n",
       "       'Dpto y Muni Contratista', 'Fecha de Cargue en el SECOP',\n",
       "       'Fecha de Firma del Contrato', 'Fecha Ini Ejec Contrato',\n",
       "       'Fecha Firma Contrato - Fecha Cargue Secop',\n",
       "       'Fecha Ini Ejec - Fecha Firma Contrato', 'Mes Firma Contrato',\n",
       "       'Dia del Mes Firma Contrato', 'Dia de la Semana Firma Contrato',\n",
       "       'Plazo en dias de Ejec del Contrato', 'Marc Adiciones',\n",
       "       'Adicion en Valor', 'Adicion en Tiempo', 'Tiempo Adiciones (Dias)',\n",
       "       'Fecha Fin Ejec Contrato', 'Cuantia Proceso', 'Cuantia Contrato',\n",
       "       'Valor Total de Adiciones', 'Valor Contrato con Adiciones',\n",
       "       'Nombre Sub Unidad Ejecutora', 'Moneda', 'Marc Sancion',\n",
       "       'Valor Sancion', 'Ultima Actualizacion',\n",
       "       'Ultima Actualizacion - Fecha Fin Ejec Contrato'],\n",
       "      dtype='object')"
      ]
     },
     "execution_count": 6,
     "metadata": {},
     "output_type": "execute_result"
    }
   ],
   "source": [
    "# Dimension y nombre de columnas\n",
    "print(\"Dimension de los datos: \",df.shape)\n",
    "df.columns"
   ]
  },
  {
   "cell_type": "markdown",
   "metadata": {},
   "source": [
    "# Identificación de variables"
   ]
  },
  {
   "cell_type": "code",
   "execution_count": 7,
   "metadata": {},
   "outputs": [],
   "source": [
    "#Variables a excluir al momento de entrenar modelos\n",
    "vars_a_excluir = [\"Orden Entidad\",\"Estado del Proceso\", \"Nombre Familia\",\n",
    "                  \"Nombre Clase\",\"Nombre Sub Unidad Ejecutora\",\"Moneda\",\"Cuantia Proceso\",\n",
    "                  \"Valor Contrato con Adiciones\",\"Objeto a Contratar\",\"Num Origenes Recur\",\n",
    "                 ]\n",
    "# Variables que no son utiles para modelos\n",
    "vars_a_excluir += [\"UID\",\"Nombre de la Entidad\",\"Código de la Entidad\",\"Descrip Origenes Recur\",\n",
    "                      \"ID Ajudicacion\",\"Tipo Identifi del Contratista\",\"Identificacion del Contratista\",\n",
    "                     \"Nom Raz Social Contratista\",\"Fecha de Cargue en el SECOP\",\"Fecha de Firma del Contrato\",\n",
    "                     \"Fecha Ini Ejec Contrato\",\"Fecha Ini Ejec Contrato\",\"Fecha Fin Ejec Contrato\"\n",
    "                     ,'Ultima Actualizacion']\n",
    "# vars_inluidas contiene los target\n",
    "vars_incluidas = [name for name in df.columns if name not in vars_a_excluir]\n",
    "# Marc Sancion como input es exluido\n",
    "vars_categoricas = [\"Tipo de Proceso\",\"Causal de Otras Formas de Contratacion Directa\",\"Regimen de Contratacion\",\n",
    "                    \"Tipo de Contrato\",\"Nombre Grupo\",\"EsPostConflicto\",\"Def Origen Recur\",\n",
    "                    \"mismo detalle objeto a contratar despues de firma\",\"Dpto y Muni Contratista\",\"Mes Firma Contrato\",\n",
    "                   \"Dia del Mes Firma Contrato\",\"Dia de la Semana Firma Contrato\",\"Marc Adiciones\",]"
   ]
  },
  {
   "cell_type": "markdown",
   "metadata": {},
   "source": [
    "### Dudas\n",
    "- Las variables en formato fecha fueron incluidas como inputs en el modelo?\n",
    "-  EsPostConflicto el desbalance es enorme, dejarla?\n",
    "-  Diccionario de variables que quedaron en SECOP_1_MASTER2\n",
    "- Departamento de Contratista hay unos pocos que vienen de municipios externos a Bogotá y Cundinamarca, dejarlos?\n",
    "- Tiempo Adiciones (Dias) tiene datos negativos"
   ]
  },
  {
   "cell_type": "code",
   "execution_count": 8,
   "metadata": {},
   "outputs": [
    {
     "name": "stdout",
     "output_type": "stream",
     "text": [
      "Para Marc Adiciones:\n",
      "0    451492\n",
      "1    151958\n",
      "Name: Marc Adiciones, dtype: int64 \n",
      " \n",
      "\n",
      "Para Adicion en Valor:\n",
      "0    461486\n",
      "1    141964\n",
      "Name: Adicion en Valor, dtype: int64 \n",
      " \n",
      "\n",
      "Para Adicion en Tiempo:\n",
      "0    460338\n",
      "1    143112\n",
      "Name: Adicion en Tiempo, dtype: int64 \n",
      " \n",
      "\n"
     ]
    }
   ],
   "source": [
    "print(\"Para Marc Adiciones:\")\n",
    "print(df[\"Marc Adiciones\"].value_counts(),\"\\n \\n\")\n",
    "print(\"Para Adicion en Valor:\")\n",
    "print(df[\"Adicion en Valor\"].value_counts(),\"\\n \\n\")\n",
    "print(\"Para Adicion en Tiempo:\")\n",
    "print(df[\"Adicion en Tiempo\"].value_counts(),\"\\n \\n\")"
   ]
  },
  {
   "cell_type": "markdown",
   "metadata": {},
   "source": [
    "Aunque el desbalance no es tan drástico como con `Marc Sancion` sí se mantiene un desbalance de 3 a 1 aproximadamente siendo la categroría 1 la menos presente para los 3 outputs. Por lo tanto, para cada output de adición se hará un downsampling de la clase 0 mientras que se mantiene intacta la cantidad de datos de la clase 1.\n",
    "\n",
    "Primero se balanceará los datos para que tengan unos resultante se seleccionarán entre 10000 y 15000 datos de cada clase para ejecutar los modelos manteniendo el balance y que se ejecuten rápido los modelos."
   ]
  },
  {
   "cell_type": "markdown",
   "metadata": {},
   "source": [
    "# 1. Modelos con output `Marc Adiciones`\n",
    "- Se exluye la informacion acerca de adiciones excepto el target 'Marc Adiciones'.\n",
    "- **Se excluye la información acerca de sanciones, es decir 'Marc Sancion y Valor Sancion'**"
   ]
  },
  {
   "cell_type": "code",
   "execution_count": 9,
   "metadata": {},
   "outputs": [],
   "source": [
    "# _MA: para Marc Adiciones\n",
    "df_downsampled_MA = balance(df,\"Marc Adiciones\")\n",
    "y_down_MA = df_downsampled_MA[\"Marc Adiciones\"]\n",
    "# Eliminamos las columnas innecesarias incluyendo la del target\n",
    "X_down_MA = df_downsampled_MA.drop(columns = vars_a_excluir + [\"Marc Adiciones\",\"Adicion en Valor\",\"Adicion en Tiempo\",\n",
    "                                                             \"Marc Sancion\",\"Valor Total de Adiciones\"])\n",
    "# Pasamos a dummies las columnas que sean categoricas\n",
    "X_down_MA_dum = pd.get_dummies(data = X_down_MA, columns=list(set(vars_categoricas) - {\"Marc Adiciones\",\"Marc Sancion\"}))"
   ]
  },
  {
   "cell_type": "code",
   "execution_count": 10,
   "metadata": {},
   "outputs": [
    {
     "name": "stdout",
     "output_type": "stream",
     "text": [
      "Variables iniciales para modelos:\n",
      "['Tipo de Proceso', 'Causal de Otras Formas de Contratacion Directa', 'Regimen de Contratacion', 'Tipo de Contrato', 'cantidad de palabras objeto a contratar', 'Nombre Grupo', 'EsPostConflicto', 'Def Origen Recur', 'cantidad de palabras objeto del contrato a la Firma', 'mismo detalle objeto a contratar despues de firma', 'Dpto y Muni Contratista', 'Fecha Firma Contrato - Fecha Cargue Secop', 'Fecha Ini Ejec - Fecha Firma Contrato', 'Mes Firma Contrato', 'Dia del Mes Firma Contrato', 'Dia de la Semana Firma Contrato', 'Plazo en dias de Ejec del Contrato', 'Tiempo Adiciones (Dias)', 'Cuantia Contrato', 'Valor Sancion', 'Ultima Actualizacion - Fecha Fin Ejec Contrato']\n",
      "Variables dummies iniciales\n"
     ]
    }
   ],
   "source": [
    "print(\"Variables iniciales para modelos:\")\n",
    "print(list(X_down_MA.columns))\n",
    "print(\"Variables dummies iniciales\")\n",
    "# No esta quitando Valor Sancion :(\n",
    "# Variables dummies\n",
    "# print(list(X_down_MA_dum.columns))"
   ]
  },
  {
   "cell_type": "markdown",
   "metadata": {},
   "source": [
    "## Seleccion de las variables mas importantes con Random Forest\n",
    "Para seleccionar las variables utilizamos todos los datos después de balanceo."
   ]
  },
  {
   "cell_type": "code",
   "execution_count": 11,
   "metadata": {},
   "outputs": [
    {
     "name": "stdout",
     "output_type": "stream",
     "text": [
      "Dimension de dataset con dummies:  (303916, 209)\n"
     ]
    }
   ],
   "source": [
    "print(\"Dimension de dataset con dummies: \",X_down_MA_dum.shape)"
   ]
  },
  {
   "cell_type": "code",
   "execution_count": 12,
   "metadata": {
    "scrolled": true
   },
   "outputs": [
    {
     "name": "stdout",
     "output_type": "stream",
     "text": [
      "Columnas iniciales dummies\n"
     ]
    },
    {
     "data": {
      "text/plain": [
       "array(['cantidad de palabras objeto a contratar',\n",
       "       'cantidad de palabras objeto del contrato a la Firma',\n",
       "       'Fecha Firma Contrato - Fecha Cargue Secop',\n",
       "       'Fecha Ini Ejec - Fecha Firma Contrato',\n",
       "       'Plazo en dias de Ejec del Contrato', 'Tiempo Adiciones (Dias)',\n",
       "       'Cuantia Contrato', 'Valor Sancion',\n",
       "       'Ultima Actualizacion - Fecha Fin Ejec Contrato',\n",
       "       'Dia de la Semana Firma Contrato_Domingo',\n",
       "       'Dia de la Semana Firma Contrato_Jueves',\n",
       "       'Dia de la Semana Firma Contrato_Lunes',\n",
       "       'Dia de la Semana Firma Contrato_Martes',\n",
       "       'Dia de la Semana Firma Contrato_Miércoles',\n",
       "       'Dia de la Semana Firma Contrato_Sábado',\n",
       "       'Dia de la Semana Firma Contrato_Viernes',\n",
       "       'Causal de Otras Formas de Contratacion Directa_Arrendamiento o Adquisición de Inmuebles (Literal I)',\n",
       "       'Causal de Otras Formas de Contratacion Directa_Contratación de Bienes y Servicios en el Sector Defensa y en el DAS (Literal D)',\n",
       "       'Causal de Otras Formas de Contratacion Directa_Contratación de Empréstitos (Literal B)',\n",
       "       'Causal de Otras Formas de Contratacion Directa_Contratos Interadministrativos (Literal C)',\n",
       "       'Causal de Otras Formas de Contratacion Directa_Contratos de Encargo Fiduciario que Celebren Entidades Territoriales (Literal F)',\n",
       "       'Causal de Otras Formas de Contratacion Directa_Contratos para el Desarrollo de Actividades Científicas y Tecnológicas (Literal E)',\n",
       "       'Causal de Otras Formas de Contratacion Directa_Cuando no Exista Pluralidad de Oferentes en el Mercado (Literal G)',\n",
       "       'Causal de Otras Formas de Contratacion Directa_Ninguna',\n",
       "       'Causal de Otras Formas de Contratacion Directa_Prestación de Servicios Profesionales y de Apoyo a la Gestión (Literal H)',\n",
       "       'Causal de Otras Formas de Contratacion Directa_Urgencia Manifiesta (Literal A)',\n",
       "       'Dpto y Muni Contratista_Alabama',\n",
       "       'Dpto y Muni Contratista_Alsacia',\n",
       "       'Dpto y Muni Contratista_Amazonas',\n",
       "       'Dpto y Muni Contratista_Amsterdam',\n",
       "       'Dpto y Muni Contratista_Andalucía',\n",
       "       'Dpto y Muni Contratista_Antioquia',\n",
       "       'Dpto y Muni Contratista_Apure', 'Dpto y Muni Contratista_Arauca',\n",
       "       'Dpto y Muni Contratista_Arizona',\n",
       "       'Dpto y Muni Contratista_Atlántico',\n",
       "       'Dpto y Muni Contratista_Australian Capital Territory',\n",
       "       'Dpto y Muni Contratista_Azerbaiyán',\n",
       "       'Dpto y Muni Contratista_Badahsâr',\n",
       "       'Dpto y Muni Contratista_Badgîs', 'Dpto y Muni Contratista_Balboa',\n",
       "       'Dpto y Muni Contratista_Barinas',\n",
       "       'Dpto y Muni Contratista_Bogotá D.C.',\n",
       "       'Dpto y Muni Contratista_Bolívar',\n",
       "       'Dpto y Muni Contratista_Boyacá',\n",
       "       'Dpto y Muni Contratista_Buenos Aires',\n",
       "       'Dpto y Muni Contratista_Caldas',\n",
       "       'Dpto y Muni Contratista_California',\n",
       "       'Dpto y Muni Contratista_Caquetá',\n",
       "       'Dpto y Muni Contratista_Casanare',\n",
       "       'Dpto y Muni Contratista_Castilla-La Mancha',\n",
       "       'Dpto y Muni Contratista_Cat Island',\n",
       "       'Dpto y Muni Contratista_Cataluña',\n",
       "       'Dpto y Muni Contratista_Cauca', 'Dpto y Muni Contratista_Cesar',\n",
       "       'Dpto y Muni Contratista_Chocó',\n",
       "       'Dpto y Muni Contratista_Colombia',\n",
       "       'Dpto y Muni Contratista_Comunidad de Madrid',\n",
       "       'Dpto y Muni Contratista_Cundinamarca',\n",
       "       'Dpto y Muni Contratista_Córdoba',\n",
       "       'Dpto y Muni Contratista_Delaware',\n",
       "       'Dpto y Muni Contratista_Distrito Federal',\n",
       "       'Dpto y Muni Contratista_Estado de México',\n",
       "       'Dpto y Muni Contratista_Floggia',\n",
       "       'Dpto y Muni Contratista_Florida',\n",
       "       'Dpto y Muni Contratista_Franche-Comté',\n",
       "       'Dpto y Muni Contratista_Guainía',\n",
       "       'Dpto y Muni Contratista_Guangdong',\n",
       "       'Dpto y Muni Contratista_Guaviare',\n",
       "       'Dpto y Muni Contratista_Heredia', 'Dpto y Muni Contratista_Huila',\n",
       "       'Dpto y Muni Contratista_Inglaterra',\n",
       "       'Dpto y Muni Contratista_Iowa',\n",
       "       'Dpto y Muni Contratista_Isla-de-Francia',\n",
       "       'Dpto y Muni Contratista_Kansas',\n",
       "       'Dpto y Muni Contratista_La Guajira',\n",
       "       'Dpto y Muni Contratista_La Rioja', 'Dpto y Muni Contratista_Lima',\n",
       "       'Dpto y Muni Contratista_Magdalena',\n",
       "       'Dpto y Muni Contratista_Manitoba',\n",
       "       'Dpto y Muni Contratista_Massachusetts',\n",
       "       'Dpto y Muni Contratista_Meta',\n",
       "       'Dpto y Muni Contratista_Minas Gerais',\n",
       "       'Dpto y Muni Contratista_Minnesota',\n",
       "       'Dpto y Muni Contratista_Montevideo',\n",
       "       'Dpto y Muni Contratista_Morelos',\n",
       "       'Dpto y Muni Contratista_Nairobi',\n",
       "       'Dpto y Muni Contratista_Nariño',\n",
       "       'Dpto y Muni Contratista_New Jersey',\n",
       "       'Dpto y Muni Contratista_New York',\n",
       "       'Dpto y Muni Contratista_No Definido',\n",
       "       'Dpto y Muni Contratista_Norte De Santander',\n",
       "       'Dpto y Muni Contratista_Nuevo León',\n",
       "       'Dpto y Muni Contratista_Otros Paises',\n",
       "       'Dpto y Muni Contratista_País Vasco-Euskadi',\n",
       "       'Dpto y Muni Contratista_Putumayo',\n",
       "       'Dpto y Muni Contratista_Qinghai',\n",
       "       'Dpto y Muni Contratista_Quebec',\n",
       "       'Dpto y Muni Contratista_Quindío',\n",
       "       'Dpto y Muni Contratista_Región Metropolitana',\n",
       "       'Dpto y Muni Contratista_Región de Coquimbo',\n",
       "       'Dpto y Muni Contratista_Región de Valparaíso',\n",
       "       'Dpto y Muni Contratista_Región de los Lagos',\n",
       "       'Dpto y Muni Contratista_Risaralda',\n",
       "       'Dpto y Muni Contratista_Salta',\n",
       "       'Dpto y Muni Contratista_San Andrés, Providencia y Santa Catalina',\n",
       "       'Dpto y Muni Contratista_San José',\n",
       "       'Dpto y Muni Contratista_Santander',\n",
       "       'Dpto y Muni Contratista_Sikkim',\n",
       "       'Dpto y Muni Contratista_South Dakota',\n",
       "       'Dpto y Muni Contratista_Taipei', 'Dpto y Muni Contratista_Tartu',\n",
       "       'Dpto y Muni Contratista_Thurgau',\n",
       "       'Dpto y Muni Contratista_Tolima',\n",
       "       'Dpto y Muni Contratista_Valle del Cauca',\n",
       "       'Dpto y Muni Contratista_Vaupés',\n",
       "       'Dpto y Muni Contratista_Vichada',\n",
       "       'Dpto y Muni Contratista_Victoria',\n",
       "       'Dpto y Muni Contratista_Viena',\n",
       "       'Dpto y Muni Contratista_Washington',\n",
       "       'Dpto y Muni Contratista_Zâbol', 'Dpto y Muni Contratista_Zûrich',\n",
       "       'Mes Firma Contrato_Abril', 'Mes Firma Contrato_Agosto',\n",
       "       'Mes Firma Contrato_Diciembre', 'Mes Firma Contrato_Enero',\n",
       "       'Mes Firma Contrato_Febrero', 'Mes Firma Contrato_Julio',\n",
       "       'Mes Firma Contrato_Junio', 'Mes Firma Contrato_Marzo',\n",
       "       'Mes Firma Contrato_Mayo', 'Mes Firma Contrato_Noviembre',\n",
       "       'Mes Firma Contrato_Octubre', 'Mes Firma Contrato_Septiembre',\n",
       "       'Def Origen Recur_0', 'Def Origen Recur_1',\n",
       "       'mismo detalle objeto a contratar despues de firma_0',\n",
       "       'mismo detalle objeto a contratar despues de firma_1',\n",
       "       'Tipo de Contrato_Acuerdo Marco',\n",
       "       'Tipo de Contrato_Agregación de Demanda',\n",
       "       'Tipo de Contrato_Arrendamiento', 'Tipo de Contrato_Comodato',\n",
       "       'Tipo de Contrato_Compraventa', 'Tipo de Contrato_Concesión',\n",
       "       'Tipo de Contrato_Consultoría', 'Tipo de Contrato_Crédito',\n",
       "       'Tipo de Contrato_Fiducia', 'Tipo de Contrato_Interventoría',\n",
       "       'Tipo de Contrato_No definido', 'Tipo de Contrato_Obra',\n",
       "       'Tipo de Contrato_Otro Tipo de Contrato',\n",
       "       'Tipo de Contrato_Prestación de Servicios',\n",
       "       'Tipo de Contrato_Suministro',\n",
       "       'Nombre Grupo_[A] Material Vivo Animal y Vegetal',\n",
       "       'Nombre Grupo_[B] Materias Primas',\n",
       "       'Nombre Grupo_[C] Maquinaria, Herramientas, Equipo Industrial y Vehículos',\n",
       "       'Nombre Grupo_[D] Componentes y Suministros',\n",
       "       'Nombre Grupo_[E] Productos de Uso Final',\n",
       "       'Nombre Grupo_[F] Servicios',\n",
       "       'Nombre Grupo_[G] Terrenos, Edificios, Estructuras y vías',\n",
       "       'Regimen de Contratacion_Estatuto General de Contratación',\n",
       "       'Regimen de Contratacion_Ley 80 de 1993',\n",
       "       'Regimen de Contratacion_Régimen Especial',\n",
       "       'Dia del Mes Firma Contrato_1', 'Dia del Mes Firma Contrato_2',\n",
       "       'Dia del Mes Firma Contrato_3', 'Dia del Mes Firma Contrato_4',\n",
       "       'Dia del Mes Firma Contrato_5', 'Dia del Mes Firma Contrato_6',\n",
       "       'Dia del Mes Firma Contrato_7', 'Dia del Mes Firma Contrato_8',\n",
       "       'Dia del Mes Firma Contrato_9', 'Dia del Mes Firma Contrato_10',\n",
       "       'Dia del Mes Firma Contrato_11', 'Dia del Mes Firma Contrato_12',\n",
       "       'Dia del Mes Firma Contrato_13', 'Dia del Mes Firma Contrato_14',\n",
       "       'Dia del Mes Firma Contrato_15', 'Dia del Mes Firma Contrato_16',\n",
       "       'Dia del Mes Firma Contrato_17', 'Dia del Mes Firma Contrato_18',\n",
       "       'Dia del Mes Firma Contrato_19', 'Dia del Mes Firma Contrato_20',\n",
       "       'Dia del Mes Firma Contrato_21', 'Dia del Mes Firma Contrato_22',\n",
       "       'Dia del Mes Firma Contrato_23', 'Dia del Mes Firma Contrato_24',\n",
       "       'Dia del Mes Firma Contrato_25', 'Dia del Mes Firma Contrato_26',\n",
       "       'Dia del Mes Firma Contrato_27', 'Dia del Mes Firma Contrato_28',\n",
       "       'Dia del Mes Firma Contrato_29', 'Dia del Mes Firma Contrato_30',\n",
       "       'Dia del Mes Firma Contrato_31', 'EsPostConflicto_No Definido',\n",
       "       'EsPostConflicto_Si', 'Tipo de Proceso_Asociación Público Privada',\n",
       "       'Tipo de Proceso_Concurso de Méritos Abierto',\n",
       "       'Tipo de Proceso_Concurso de Méritos con Lista Corta',\n",
       "       'Tipo de Proceso_Contratación Directa (Ley 1150 de 2007)',\n",
       "       'Tipo de Proceso_Contratación Mínima Cuantía',\n",
       "       'Tipo de Proceso_Contratos y convenios con más de dos partes',\n",
       "       'Tipo de Proceso_Licitación Pública',\n",
       "       'Tipo de Proceso_Licitación obra pública',\n",
       "       'Tipo de Proceso_Régimen Especial',\n",
       "       'Tipo de Proceso_Selección Abreviada de Menor Cuantía (Ley 1150 de 2007)',\n",
       "       'Tipo de Proceso_Selección Abreviada del literal h del numeral 2 del artículo 2 de la Ley 1150 de 2007',\n",
       "       'Tipo de Proceso_Selección Abreviada servicios de Salud',\n",
       "       'Tipo de Proceso_Subasta'], dtype=object)"
      ]
     },
     "execution_count": 12,
     "metadata": {},
     "output_type": "execute_result"
    }
   ],
   "source": [
    "print(\"Columnas iniciales dummies\")\n",
    "np.array(X_down_MA_dum.columns)"
   ]
  },
  {
   "cell_type": "markdown",
   "metadata": {},
   "source": [
    "## Eliminación de variables adicionales"
   ]
  },
  {
   "cell_type": "code",
   "execution_count": 13,
   "metadata": {
    "scrolled": true
   },
   "outputs": [],
   "source": [
    "# Quitamos Tiempo Adiciones (Dias)\n",
    "X_down_MA_dum = X_down_MA_dum.drop([\"Tiempo Adiciones (Dias)\"],axis=1)\n",
    "\n",
    "# Quitamos 'Ultima Actualizacion - Fecha Fin Ejec Contrato'\n",
    "X_down_MA_dum = X_down_MA_dum.drop(['Ultima Actualizacion - Fecha Fin Ejec Contrato'],axis=1)"
   ]
  },
  {
   "cell_type": "markdown",
   "metadata": {},
   "source": [
    "### Primera selección de variables\n",
    "Se selecciona las variables más importantes con Random Forest sobre el dataset de dummies"
   ]
  },
  {
   "cell_type": "code",
   "execution_count": 14,
   "metadata": {},
   "outputs": [
    {
     "data": {
      "text/plain": [
       "207"
      ]
     },
     "execution_count": 14,
     "metadata": {},
     "output_type": "execute_result"
    }
   ],
   "source": [
    "X_down_MA_dum.shape[1]"
   ]
  },
  {
   "cell_type": "code",
   "execution_count": 15,
   "metadata": {
    "scrolled": true
   },
   "outputs": [
    {
     "name": "stdout",
     "output_type": "stream",
     "text": [
      "Variables estadísticamente significativas: \n",
      "['cantidad de palabras objeto a contratar', 'cantidad de palabras objeto del contrato a la Firma', 'Fecha Firma Contrato - Fecha Cargue Secop', 'Fecha Ini Ejec - Fecha Firma Contrato', 'Plazo en dias de Ejec del Contrato', 'Cuantia Contrato', 'Dia de la Semana Firma Contrato_Jueves', 'Dia de la Semana Firma Contrato_Lunes', 'Dia de la Semana Firma Contrato_Martes', 'Dia de la Semana Firma Contrato_Miércoles', 'Dia de la Semana Firma Contrato_Viernes', 'Dpto y Muni Contratista_Bogotá D.C.', 'Dpto y Muni Contratista_Cundinamarca', 'Mes Firma Contrato_Abril', 'Mes Firma Contrato_Agosto', 'Mes Firma Contrato_Diciembre', 'Mes Firma Contrato_Enero', 'Mes Firma Contrato_Febrero', 'Mes Firma Contrato_Julio', 'Mes Firma Contrato_Junio', 'Mes Firma Contrato_Marzo', 'Mes Firma Contrato_Mayo', 'Mes Firma Contrato_Noviembre', 'Mes Firma Contrato_Octubre', 'Mes Firma Contrato_Septiembre', 'Def Origen Recur_0', 'Def Origen Recur_1', 'mismo detalle objeto a contratar despues de firma_0', 'mismo detalle objeto a contratar despues de firma_1', 'Tipo de Contrato_Prestación de Servicios', 'Nombre Grupo_[F] Servicios', 'Regimen de Contratacion_Régimen Especial', 'Dia del Mes Firma Contrato_1', 'Dia del Mes Firma Contrato_2', 'Dia del Mes Firma Contrato_4', 'Dia del Mes Firma Contrato_11', 'Tipo de Proceso_Régimen Especial']\n"
     ]
    }
   ],
   "source": [
    "# Tarda un poco\n",
    "#num_vars, u = [10,-np.inf], # max_vars, umbral: parametros para controlar cantidad de variables\n",
    "X_fselec = feature_selection(X_down_MA_dum, y_down_MA)"
   ]
  },
  {
   "cell_type": "code",
   "execution_count": 16,
   "metadata": {},
   "outputs": [
    {
     "data": {
      "text/plain": [
       "(303916, 37)"
      ]
     },
     "execution_count": 16,
     "metadata": {},
     "output_type": "execute_result"
    }
   ],
   "source": [
    "X_fselec.shape"
   ]
  },
  {
   "cell_type": "markdown",
   "metadata": {},
   "source": [
    "### Segunda selección de variables"
   ]
  },
  {
   "cell_type": "code",
   "execution_count": 17,
   "metadata": {
    "scrolled": true
   },
   "outputs": [
    {
     "name": "stdout",
     "output_type": "stream",
     "text": [
      "Variables estadísticamente significativas: \n",
      "['cantidad de palabras objeto a contratar', 'cantidad de palabras objeto del contrato a la Firma', 'Fecha Firma Contrato - Fecha Cargue Secop', 'Fecha Ini Ejec - Fecha Firma Contrato', 'Plazo en dias de Ejec del Contrato', 'Cuantia Contrato']\n"
     ]
    }
   ],
   "source": [
    "# Tarda un poco\n",
    "#num_vars, u = [10,-np.inf], # max_vars, umbral: parametros para controlar cantidad de variables\n",
    "X_fselec_2 = feature_selection(X_fselec, y_down_MA)"
   ]
  },
  {
   "cell_type": "markdown",
   "metadata": {},
   "source": [
    "**Nota:** La segunda selección de variables deja solo las numéricas."
   ]
  },
  {
   "cell_type": "code",
   "execution_count": 18,
   "metadata": {},
   "outputs": [
    {
     "data": {
      "text/plain": [
       "(303916, 6)"
      ]
     },
     "execution_count": 18,
     "metadata": {},
     "output_type": "execute_result"
    }
   ],
   "source": [
    "X_fselec_2.shape"
   ]
  },
  {
   "cell_type": "markdown",
   "metadata": {},
   "source": [
    "## Modelos con cantidad reducida de filas"
   ]
  },
  {
   "cell_type": "code",
   "execution_count": 19,
   "metadata": {},
   "outputs": [
    {
     "name": "stdout",
     "output_type": "stream",
     "text": [
      "Datos iniciales por clase\n",
      "1    151958\n",
      "0    151958\n",
      "Name: Marc Adiciones, dtype: int64\n",
      "Nueva cantidad de datos por clase:\n",
      "1    15000\n",
      "0    15000\n",
      "Name: Marc Adiciones, dtype: int64\n",
      "Dimension de matriz X:  (30000, 207)\n"
     ]
    }
   ],
   "source": [
    "print(\"Datos iniciales por clase\")\n",
    "print(y_down_MA.value_counts())\n",
    "N = 15000 # 150000 por clase\n",
    "X_MA, y_MA = small_balanced_sample(X_down_MA_dum,y_down_MA,N)\n",
    "print(\"Nueva cantidad de datos por clase:\")\n",
    "print(y_MA.value_counts())\n",
    "print(\"Dimension de matriz X: \",X_MA.shape)"
   ]
  },
  {
   "cell_type": "markdown",
   "metadata": {},
   "source": [
    "## Graficas de variables numéricas"
   ]
  },
  {
   "cell_type": "code",
   "execution_count": 20,
   "metadata": {},
   "outputs": [],
   "source": [
    "mat = pd.concat([X_MA,y_MA],axis=1).dropna()"
   ]
  },
  {
   "cell_type": "code",
   "execution_count": 22,
   "metadata": {
    "scrolled": false
   },
   "outputs": [],
   "source": [
    "#fig, axs = plt.subplots(3,2,figsize=(15,10))\n",
    "#sns.boxplot(y=\"Marc Adiciones\", x='cantidad de palabras objeto del contrato a la Firma', data=mat, orient=\"h\", ax=axs[0,0])\n",
    "#sns.boxplot(y=\"Marc Adiciones\", x='Fecha Firma Contrato - Fecha Cargue Secop', data=mat, orient=\"h\", ax=axs[0,1])\n",
    "\n",
    "#sns.boxplot(y=\"Marc Adiciones\", x='Fecha Ini Ejec - Fecha Firma Contrato', data=mat, orient=\"h\", ax=axs[1,0])\n",
    "#sns.boxplot(y=\"Marc Adiciones\", x='Plazo en dias de Ejec del Contrato', data=mat, orient=\"h\", ax=axs[1,1])\n",
    "\n",
    "#sns.boxplot(y=\"Marc Adiciones\", x='Cuantia Contrato', data=mat, orient=\"h\", ax=axs[2,0])\n",
    "#sns.boxplot(y=\"Marc Adiciones\", x='Ultima Actualizacion - Fecha Fin Ejec Contrato', data=mat, orient=\"h\", ax=axs[2,1])"
   ]
  },
  {
   "cell_type": "markdown",
   "metadata": {},
   "source": [
    "## Regresion Logistica"
   ]
  },
  {
   "cell_type": "markdown",
   "metadata": {},
   "source": [
    "### Con todas las variables"
   ]
  },
  {
   "cell_type": "code",
   "execution_count": 23,
   "metadata": {},
   "outputs": [],
   "source": [
    "X_train_MA, X_test_MA, y_train_MA, y_test_MA = train_test_split(X_MA, y_MA, test_size=0.33, random_state=42)"
   ]
  },
  {
   "cell_type": "code",
   "execution_count": 24,
   "metadata": {},
   "outputs": [
    {
     "name": "stdout",
     "output_type": "stream",
     "text": [
      "Accuracy para Regresión Logística con validación cruzada: 0.6291 \n"
     ]
    }
   ],
   "source": [
    "# Escalador de datos\n",
    "scaler = preprocessing.StandardScaler().fit(X_train_MA)\n",
    "# Validacion cruzada\n",
    "reglog = LogisticRegression(max_iter = 500)\n",
    "vc = cross_val_score(reglog, scaler.transform(X_train_MA), y_train_MA, cv = 5, scoring = \"accuracy\")\n",
    "accuracy = vc.mean()\n",
    "print(\"Accuracy para Regresión Logística con validación cruzada: {:1.4f} \".format(accuracy) )"
   ]
  },
  {
   "cell_type": "code",
   "execution_count": 25,
   "metadata": {},
   "outputs": [
    {
     "data": {
      "text/plain": [
       "LogisticRegression(max_iter=500)"
      ]
     },
     "execution_count": 25,
     "metadata": {},
     "output_type": "execute_result"
    }
   ],
   "source": [
    "reglog = LogisticRegression(max_iter=500)\n",
    "reglog.fit(scaler.transform(X_train_MA),y_train_MA)"
   ]
  },
  {
   "cell_type": "code",
   "execution_count": 26,
   "metadata": {},
   "outputs": [
    {
     "name": "stdout",
     "output_type": "stream",
     "text": [
      "El accuracy del test es: 0.6384\n",
      "La sensitividad(recall) del test es: 0.6937\n"
     ]
    }
   ],
   "source": [
    "y_pred = reglog.predict(scaler.transform(X_test_MA))\n",
    "print(\"El accuracy del test es: {:1.4f}\".format( accuracy_score(y_test_MA, y_pred) ))\n",
    "print(\"La sensitividad(recall) del test es: {:1.4f}\".format( recall_score(y_test_MA, y_pred) ))"
   ]
  },
  {
   "cell_type": "code",
   "execution_count": 27,
   "metadata": {},
   "outputs": [
    {
     "data": {
      "text/html": [
       "<div>\n",
       "<style scoped>\n",
       "    .dataframe tbody tr th:only-of-type {\n",
       "        vertical-align: middle;\n",
       "    }\n",
       "\n",
       "    .dataframe tbody tr th {\n",
       "        vertical-align: top;\n",
       "    }\n",
       "\n",
       "    .dataframe thead th {\n",
       "        text-align: right;\n",
       "    }\n",
       "</style>\n",
       "<table border=\"1\" class=\"dataframe\">\n",
       "  <thead>\n",
       "    <tr style=\"text-align: right;\">\n",
       "      <th>Predicted</th>\n",
       "      <th>No</th>\n",
       "      <th>Sí</th>\n",
       "    </tr>\n",
       "    <tr>\n",
       "      <th>True</th>\n",
       "      <th></th>\n",
       "      <th></th>\n",
       "    </tr>\n",
       "  </thead>\n",
       "  <tbody>\n",
       "    <tr>\n",
       "      <th>No</th>\n",
       "      <td>0.583317</td>\n",
       "      <td>0.416683</td>\n",
       "    </tr>\n",
       "    <tr>\n",
       "      <th>Sí</th>\n",
       "      <td>0.306259</td>\n",
       "      <td>0.693741</td>\n",
       "    </tr>\n",
       "  </tbody>\n",
       "</table>\n",
       "</div>"
      ],
      "text/plain": [
       "Predicted        No        Sí\n",
       "True                         \n",
       "No         0.583317  0.416683\n",
       "Sí         0.306259  0.693741"
      ]
     },
     "execution_count": 27,
     "metadata": {},
     "output_type": "execute_result"
    }
   ],
   "source": [
    "plot_CM(y_test_MA, y_pred,norm='true')"
   ]
  },
  {
   "cell_type": "code",
   "execution_count": 28,
   "metadata": {},
   "outputs": [
    {
     "name": "stdout",
     "output_type": "stream",
     "text": [
      "Model: ROC AUC = 0.689\n"
     ]
    },
    {
     "data": {
      "image/png": "[encoded data removed]",
      "text/plain": [
       "<Figure size 432x288 with 1 Axes>"
      ]
     },
     "metadata": {
      "needs_background": "light"
     },
     "output_type": "display_data"
    }
   ],
   "source": [
    "plot_ROC(reglog, X_test_MA, y_test_MA, scaler, model_name='Regresión logítica todas las variables, \\n'+str(N)+\" datos por clase\")"
   ]
  },
  {
   "cell_type": "markdown",
   "metadata": {},
   "source": [
    "### Con primera selección de variables"
   ]
  },
  {
   "cell_type": "code",
   "execution_count": 29,
   "metadata": {},
   "outputs": [],
   "source": [
    "# Primero reducimos la cantidad de filas \n",
    "N = 15000 # 150000 por clase\n",
    "X_fselec_MA, y_fselec_MA = small_balanced_sample(X_fselec,y_down_MA,N)"
   ]
  },
  {
   "cell_type": "code",
   "execution_count": 30,
   "metadata": {},
   "outputs": [
    {
     "name": "stdout",
     "output_type": "stream",
     "text": [
      "Accuracy para Regresión Logística con validación cruzada, 1era SELECCION DE VARIABLES: 0.4979 \n"
     ]
    }
   ],
   "source": [
    "# Escalador de datos\n",
    "scaler2 = preprocessing.StandardScaler().fit(X_fselec_MA)\n",
    "# Validacion cruzada\n",
    "reglog2 = LogisticRegression(max_iter = 500)\n",
    "vc = cross_val_score(reglog2, scaler2.transform(X_fselec_MA), y_fselec_MA, cv = 5, scoring = \"accuracy\")\n",
    "accuracy = vc.mean()\n",
    "print(\"Accuracy para Regresión Logística con validación cruzada, 1era SELECCION DE VARIABLES: {:1.4f} \".format(accuracy) )"
   ]
  },
  {
   "cell_type": "code",
   "execution_count": 31,
   "metadata": {},
   "outputs": [
    {
     "name": "stdout",
     "output_type": "stream",
     "text": [
      "Accuracy para Regresión Logística con validación cruzada: 0.4937 \n",
      "El accuracy del test es: 0.5016\n",
      "La sensitividad(recall) del test es: 0.4727\n"
     ]
    }
   ],
   "source": [
    "regLog2, X_test2_MA, y_test2_MA, y_pred2_MA, scaler2_MA = reg_log(X_fselec_MA, y_fselec_MA)"
   ]
  },
  {
   "cell_type": "code",
   "execution_count": 32,
   "metadata": {},
   "outputs": [
    {
     "data": {
      "text/html": [
       "<div>\n",
       "<style scoped>\n",
       "    .dataframe tbody tr th:only-of-type {\n",
       "        vertical-align: middle;\n",
       "    }\n",
       "\n",
       "    .dataframe tbody tr th {\n",
       "        vertical-align: top;\n",
       "    }\n",
       "\n",
       "    .dataframe thead th {\n",
       "        text-align: right;\n",
       "    }\n",
       "</style>\n",
       "<table border=\"1\" class=\"dataframe\">\n",
       "  <thead>\n",
       "    <tr style=\"text-align: right;\">\n",
       "      <th>Predicted</th>\n",
       "      <th>No</th>\n",
       "      <th>Sí</th>\n",
       "    </tr>\n",
       "    <tr>\n",
       "      <th>True</th>\n",
       "      <th></th>\n",
       "      <th></th>\n",
       "    </tr>\n",
       "  </thead>\n",
       "  <tbody>\n",
       "    <tr>\n",
       "      <th>No</th>\n",
       "      <td>0.530444</td>\n",
       "      <td>0.469556</td>\n",
       "    </tr>\n",
       "    <tr>\n",
       "      <th>Sí</th>\n",
       "      <td>0.527333</td>\n",
       "      <td>0.472667</td>\n",
       "    </tr>\n",
       "  </tbody>\n",
       "</table>\n",
       "</div>"
      ],
      "text/plain": [
       "Predicted        No        Sí\n",
       "True                         \n",
       "No         0.530444  0.469556\n",
       "Sí         0.527333  0.472667"
      ]
     },
     "execution_count": 32,
     "metadata": {},
     "output_type": "execute_result"
    }
   ],
   "source": [
    "plot_CM(y_test2_MA, y_pred2_MA,norm='true')"
   ]
  },
  {
   "cell_type": "code",
   "execution_count": 33,
   "metadata": {
    "scrolled": false
   },
   "outputs": [
    {
     "name": "stdout",
     "output_type": "stream",
     "text": [
      "Model: ROC AUC = 0.499\n"
     ]
    },
    {
     "data": {
      "image/png": "[encoded data removed]",
      "text/plain": [
       "<Figure size 432x288 with 1 Axes>"
      ]
     },
     "metadata": {
      "needs_background": "light"
     },
     "output_type": "display_data"
    }
   ],
   "source": [
    "plot_ROC(regLog2, X_test2_MA, y_test2_MA, scaler2_MA, model_name='Regresión logística con  1era selección de variables')"
   ]
  },
  {
   "cell_type": "markdown",
   "metadata": {},
   "source": [
    "### Conclusión\n",
    "Para la regresión logística es mejor conservar todas las variables para que el accuracy sea de aproximadamente igual 70% de lo contrario la predicción es muy mala (accuracy de 50%, es decir, predicciones aleatorias)."
   ]
  },
  {
   "cell_type": "markdown",
   "metadata": {},
   "source": [
    "## Bosques Aleatorios"
   ]
  },
  {
   "cell_type": "markdown",
   "metadata": {},
   "source": [
    "### Con todas las variables"
   ]
  },
  {
   "cell_type": "code",
   "execution_count": 34,
   "metadata": {},
   "outputs": [
    {
     "name": "stdout",
     "output_type": "stream",
     "text": [
      "(20100, 207) (20100,)\n"
     ]
    }
   ],
   "source": [
    "print(X_train_MA.shape, y_train_MA.shape)"
   ]
  },
  {
   "cell_type": "code",
   "execution_count": 35,
   "metadata": {
    "scrolled": true
   },
   "outputs": [
    {
     "data": {
      "text/plain": [
       "array(['cantidad de palabras objeto a contratar',\n",
       "       'cantidad de palabras objeto del contrato a la Firma',\n",
       "       'Fecha Firma Contrato - Fecha Cargue Secop',\n",
       "       'Fecha Ini Ejec - Fecha Firma Contrato',\n",
       "       'Plazo en dias de Ejec del Contrato', 'Cuantia Contrato',\n",
       "       'Valor Sancion', 'Dia de la Semana Firma Contrato_Domingo',\n",
       "       'Dia de la Semana Firma Contrato_Jueves',\n",
       "       'Dia de la Semana Firma Contrato_Lunes',\n",
       "       'Dia de la Semana Firma Contrato_Martes',\n",
       "       'Dia de la Semana Firma Contrato_Miércoles',\n",
       "       'Dia de la Semana Firma Contrato_Sábado',\n",
       "       'Dia de la Semana Firma Contrato_Viernes',\n",
       "       'Causal de Otras Formas de Contratacion Directa_Arrendamiento o Adquisición de Inmuebles (Literal I)',\n",
       "       'Causal de Otras Formas de Contratacion Directa_Contratación de Bienes y Servicios en el Sector Defensa y en el DAS (Literal D)',\n",
       "       'Causal de Otras Formas de Contratacion Directa_Contratación de Empréstitos (Literal B)',\n",
       "       'Causal de Otras Formas de Contratacion Directa_Contratos Interadministrativos (Literal C)',\n",
       "       'Causal de Otras Formas de Contratacion Directa_Contratos de Encargo Fiduciario que Celebren Entidades Territoriales (Literal F)',\n",
       "       'Causal de Otras Formas de Contratacion Directa_Contratos para el Desarrollo de Actividades Científicas y Tecnológicas (Literal E)',\n",
       "       'Causal de Otras Formas de Contratacion Directa_Cuando no Exista Pluralidad de Oferentes en el Mercado (Literal G)',\n",
       "       'Causal de Otras Formas de Contratacion Directa_Ninguna',\n",
       "       'Causal de Otras Formas de Contratacion Directa_Prestación de Servicios Profesionales y de Apoyo a la Gestión (Literal H)',\n",
       "       'Causal de Otras Formas de Contratacion Directa_Urgencia Manifiesta (Literal A)',\n",
       "       'Dpto y Muni Contratista_Alabama',\n",
       "       'Dpto y Muni Contratista_Alsacia',\n",
       "       'Dpto y Muni Contratista_Amazonas',\n",
       "       'Dpto y Muni Contratista_Amsterdam',\n",
       "       'Dpto y Muni Contratista_Andalucía',\n",
       "       'Dpto y Muni Contratista_Antioquia',\n",
       "       'Dpto y Muni Contratista_Apure', 'Dpto y Muni Contratista_Arauca',\n",
       "       'Dpto y Muni Contratista_Arizona',\n",
       "       'Dpto y Muni Contratista_Atlántico',\n",
       "       'Dpto y Muni Contratista_Australian Capital Territory',\n",
       "       'Dpto y Muni Contratista_Azerbaiyán',\n",
       "       'Dpto y Muni Contratista_Badahsâr',\n",
       "       'Dpto y Muni Contratista_Badgîs', 'Dpto y Muni Contratista_Balboa',\n",
       "       'Dpto y Muni Contratista_Barinas',\n",
       "       'Dpto y Muni Contratista_Bogotá D.C.',\n",
       "       'Dpto y Muni Contratista_Bolívar',\n",
       "       'Dpto y Muni Contratista_Boyacá',\n",
       "       'Dpto y Muni Contratista_Buenos Aires',\n",
       "       'Dpto y Muni Contratista_Caldas',\n",
       "       'Dpto y Muni Contratista_California',\n",
       "       'Dpto y Muni Contratista_Caquetá',\n",
       "       'Dpto y Muni Contratista_Casanare',\n",
       "       'Dpto y Muni Contratista_Castilla-La Mancha',\n",
       "       'Dpto y Muni Contratista_Cat Island',\n",
       "       'Dpto y Muni Contratista_Cataluña',\n",
       "       'Dpto y Muni Contratista_Cauca', 'Dpto y Muni Contratista_Cesar',\n",
       "       'Dpto y Muni Contratista_Chocó',\n",
       "       'Dpto y Muni Contratista_Colombia',\n",
       "       'Dpto y Muni Contratista_Comunidad de Madrid',\n",
       "       'Dpto y Muni Contratista_Cundinamarca',\n",
       "       'Dpto y Muni Contratista_Córdoba',\n",
       "       'Dpto y Muni Contratista_Delaware',\n",
       "       'Dpto y Muni Contratista_Distrito Federal',\n",
       "       'Dpto y Muni Contratista_Estado de México',\n",
       "       'Dpto y Muni Contratista_Floggia',\n",
       "       'Dpto y Muni Contratista_Florida',\n",
       "       'Dpto y Muni Contratista_Franche-Comté',\n",
       "       'Dpto y Muni Contratista_Guainía',\n",
       "       'Dpto y Muni Contratista_Guangdong',\n",
       "       'Dpto y Muni Contratista_Guaviare',\n",
       "       'Dpto y Muni Contratista_Heredia', 'Dpto y Muni Contratista_Huila',\n",
       "       'Dpto y Muni Contratista_Inglaterra',\n",
       "       'Dpto y Muni Contratista_Iowa',\n",
       "       'Dpto y Muni Contratista_Isla-de-Francia',\n",
       "       'Dpto y Muni Contratista_Kansas',\n",
       "       'Dpto y Muni Contratista_La Guajira',\n",
       "       'Dpto y Muni Contratista_La Rioja', 'Dpto y Muni Contratista_Lima',\n",
       "       'Dpto y Muni Contratista_Magdalena',\n",
       "       'Dpto y Muni Contratista_Manitoba',\n",
       "       'Dpto y Muni Contratista_Massachusetts',\n",
       "       'Dpto y Muni Contratista_Meta',\n",
       "       'Dpto y Muni Contratista_Minas Gerais',\n",
       "       'Dpto y Muni Contratista_Minnesota',\n",
       "       'Dpto y Muni Contratista_Montevideo',\n",
       "       'Dpto y Muni Contratista_Morelos',\n",
       "       'Dpto y Muni Contratista_Nairobi',\n",
       "       'Dpto y Muni Contratista_Nariño',\n",
       "       'Dpto y Muni Contratista_New Jersey',\n",
       "       'Dpto y Muni Contratista_New York',\n",
       "       'Dpto y Muni Contratista_No Definido',\n",
       "       'Dpto y Muni Contratista_Norte De Santander',\n",
       "       'Dpto y Muni Contratista_Nuevo León',\n",
       "       'Dpto y Muni Contratista_Otros Paises',\n",
       "       'Dpto y Muni Contratista_País Vasco-Euskadi',\n",
       "       'Dpto y Muni Contratista_Putumayo',\n",
       "       'Dpto y Muni Contratista_Qinghai',\n",
       "       'Dpto y Muni Contratista_Quebec',\n",
       "       'Dpto y Muni Contratista_Quindío',\n",
       "       'Dpto y Muni Contratista_Región Metropolitana',\n",
       "       'Dpto y Muni Contratista_Región de Coquimbo',\n",
       "       'Dpto y Muni Contratista_Región de Valparaíso',\n",
       "       'Dpto y Muni Contratista_Región de los Lagos',\n",
       "       'Dpto y Muni Contratista_Risaralda',\n",
       "       'Dpto y Muni Contratista_Salta',\n",
       "       'Dpto y Muni Contratista_San Andrés, Providencia y Santa Catalina',\n",
       "       'Dpto y Muni Contratista_San José',\n",
       "       'Dpto y Muni Contratista_Santander',\n",
       "       'Dpto y Muni Contratista_Sikkim',\n",
       "       'Dpto y Muni Contratista_South Dakota',\n",
       "       'Dpto y Muni Contratista_Taipei', 'Dpto y Muni Contratista_Tartu',\n",
       "       'Dpto y Muni Contratista_Thurgau',\n",
       "       'Dpto y Muni Contratista_Tolima',\n",
       "       'Dpto y Muni Contratista_Valle del Cauca',\n",
       "       'Dpto y Muni Contratista_Vaupés',\n",
       "       'Dpto y Muni Contratista_Vichada',\n",
       "       'Dpto y Muni Contratista_Victoria',\n",
       "       'Dpto y Muni Contratista_Viena',\n",
       "       'Dpto y Muni Contratista_Washington',\n",
       "       'Dpto y Muni Contratista_Zâbol', 'Dpto y Muni Contratista_Zûrich',\n",
       "       'Mes Firma Contrato_Abril', 'Mes Firma Contrato_Agosto',\n",
       "       'Mes Firma Contrato_Diciembre', 'Mes Firma Contrato_Enero',\n",
       "       'Mes Firma Contrato_Febrero', 'Mes Firma Contrato_Julio',\n",
       "       'Mes Firma Contrato_Junio', 'Mes Firma Contrato_Marzo',\n",
       "       'Mes Firma Contrato_Mayo', 'Mes Firma Contrato_Noviembre',\n",
       "       'Mes Firma Contrato_Octubre', 'Mes Firma Contrato_Septiembre',\n",
       "       'Def Origen Recur_0', 'Def Origen Recur_1',\n",
       "       'mismo detalle objeto a contratar despues de firma_0',\n",
       "       'mismo detalle objeto a contratar despues de firma_1',\n",
       "       'Tipo de Contrato_Acuerdo Marco',\n",
       "       'Tipo de Contrato_Agregación de Demanda',\n",
       "       'Tipo de Contrato_Arrendamiento', 'Tipo de Contrato_Comodato',\n",
       "       'Tipo de Contrato_Compraventa', 'Tipo de Contrato_Concesión',\n",
       "       'Tipo de Contrato_Consultoría', 'Tipo de Contrato_Crédito',\n",
       "       'Tipo de Contrato_Fiducia', 'Tipo de Contrato_Interventoría',\n",
       "       'Tipo de Contrato_No definido', 'Tipo de Contrato_Obra',\n",
       "       'Tipo de Contrato_Otro Tipo de Contrato',\n",
       "       'Tipo de Contrato_Prestación de Servicios',\n",
       "       'Tipo de Contrato_Suministro',\n",
       "       'Nombre Grupo_[A] Material Vivo Animal y Vegetal',\n",
       "       'Nombre Grupo_[B] Materias Primas',\n",
       "       'Nombre Grupo_[C] Maquinaria, Herramientas, Equipo Industrial y Vehículos',\n",
       "       'Nombre Grupo_[D] Componentes y Suministros',\n",
       "       'Nombre Grupo_[E] Productos de Uso Final',\n",
       "       'Nombre Grupo_[F] Servicios',\n",
       "       'Nombre Grupo_[G] Terrenos, Edificios, Estructuras y vías',\n",
       "       'Regimen de Contratacion_Estatuto General de Contratación',\n",
       "       'Regimen de Contratacion_Ley 80 de 1993',\n",
       "       'Regimen de Contratacion_Régimen Especial',\n",
       "       'Dia del Mes Firma Contrato_1', 'Dia del Mes Firma Contrato_2',\n",
       "       'Dia del Mes Firma Contrato_3', 'Dia del Mes Firma Contrato_4',\n",
       "       'Dia del Mes Firma Contrato_5', 'Dia del Mes Firma Contrato_6',\n",
       "       'Dia del Mes Firma Contrato_7', 'Dia del Mes Firma Contrato_8',\n",
       "       'Dia del Mes Firma Contrato_9', 'Dia del Mes Firma Contrato_10',\n",
       "       'Dia del Mes Firma Contrato_11', 'Dia del Mes Firma Contrato_12',\n",
       "       'Dia del Mes Firma Contrato_13', 'Dia del Mes Firma Contrato_14',\n",
       "       'Dia del Mes Firma Contrato_15', 'Dia del Mes Firma Contrato_16',\n",
       "       'Dia del Mes Firma Contrato_17', 'Dia del Mes Firma Contrato_18',\n",
       "       'Dia del Mes Firma Contrato_19', 'Dia del Mes Firma Contrato_20',\n",
       "       'Dia del Mes Firma Contrato_21', 'Dia del Mes Firma Contrato_22',\n",
       "       'Dia del Mes Firma Contrato_23', 'Dia del Mes Firma Contrato_24',\n",
       "       'Dia del Mes Firma Contrato_25', 'Dia del Mes Firma Contrato_26',\n",
       "       'Dia del Mes Firma Contrato_27', 'Dia del Mes Firma Contrato_28',\n",
       "       'Dia del Mes Firma Contrato_29', 'Dia del Mes Firma Contrato_30',\n",
       "       'Dia del Mes Firma Contrato_31', 'EsPostConflicto_No Definido',\n",
       "       'EsPostConflicto_Si', 'Tipo de Proceso_Asociación Público Privada',\n",
       "       'Tipo de Proceso_Concurso de Méritos Abierto',\n",
       "       'Tipo de Proceso_Concurso de Méritos con Lista Corta',\n",
       "       'Tipo de Proceso_Contratación Directa (Ley 1150 de 2007)',\n",
       "       'Tipo de Proceso_Contratación Mínima Cuantía',\n",
       "       'Tipo de Proceso_Contratos y convenios con más de dos partes',\n",
       "       'Tipo de Proceso_Licitación Pública',\n",
       "       'Tipo de Proceso_Licitación obra pública',\n",
       "       'Tipo de Proceso_Régimen Especial',\n",
       "       'Tipo de Proceso_Selección Abreviada de Menor Cuantía (Ley 1150 de 2007)',\n",
       "       'Tipo de Proceso_Selección Abreviada del literal h del numeral 2 del artículo 2 de la Ley 1150 de 2007',\n",
       "       'Tipo de Proceso_Selección Abreviada servicios de Salud',\n",
       "       'Tipo de Proceso_Subasta'], dtype=object)"
      ]
     },
     "execution_count": 35,
     "metadata": {},
     "output_type": "execute_result"
    }
   ],
   "source": [
    "np.array(X_train_MA.columns)"
   ]
  },
  {
   "cell_type": "code",
   "execution_count": 36,
   "metadata": {},
   "outputs": [
    {
     "name": "stdout",
     "output_type": "stream",
     "text": [
      "Accuracy para Bosque Aleatorio con validación cruzada: 0.7641 \n"
     ]
    }
   ],
   "source": [
    "# Escalador de datos\n",
    "scaler = preprocessing.StandardScaler().fit(X_train_MA)\n",
    "# Validacion cruzada\n",
    "arb = RandomForestClassifier(random_state=42)\n",
    "vc = cross_val_score(arb, scaler.transform(X_train_MA), y_train_MA, cv = 5, scoring = \"accuracy\")\n",
    "accuracy = vc.mean()\n",
    "print(\"Accuracy para Bosque Aleatorio con validación cruzada: {:1.4f} \".format(accuracy) )"
   ]
  },
  {
   "cell_type": "code",
   "execution_count": 37,
   "metadata": {},
   "outputs": [
    {
     "data": {
      "text/plain": [
       "array([0.76268657, 0.76716418, 0.75472637, 0.76791045, 0.76791045])"
      ]
     },
     "execution_count": 37,
     "metadata": {},
     "output_type": "execute_result"
    }
   ],
   "source": [
    "vc"
   ]
  },
  {
   "cell_type": "code",
   "execution_count": 38,
   "metadata": {},
   "outputs": [
    {
     "data": {
      "text/plain": [
       "207"
      ]
     },
     "execution_count": 38,
     "metadata": {},
     "output_type": "execute_result"
    }
   ],
   "source": [
    "X_MA.shape[1]"
   ]
  },
  {
   "cell_type": "code",
   "execution_count": 39,
   "metadata": {},
   "outputs": [
    {
     "name": "stdout",
     "output_type": "stream",
     "text": [
      "Accuracy del test: 0.7716\n",
      "La sensitividad(recall) del test es: 0.7864\n"
     ]
    }
   ],
   "source": [
    "forest, X_test, y_test, y_pred_forest, scaler = random_forest(X_MA, y_MA)"
   ]
  },
  {
   "cell_type": "code",
   "execution_count": 40,
   "metadata": {
    "scrolled": true
   },
   "outputs": [
    {
     "data": {
      "text/html": [
       "<div>\n",
       "<style scoped>\n",
       "    .dataframe tbody tr th:only-of-type {\n",
       "        vertical-align: middle;\n",
       "    }\n",
       "\n",
       "    .dataframe tbody tr th {\n",
       "        vertical-align: top;\n",
       "    }\n",
       "\n",
       "    .dataframe thead th {\n",
       "        text-align: right;\n",
       "    }\n",
       "</style>\n",
       "<table border=\"1\" class=\"dataframe\">\n",
       "  <thead>\n",
       "    <tr style=\"text-align: right;\">\n",
       "      <th>Predicted</th>\n",
       "      <th>No</th>\n",
       "      <th>Sí</th>\n",
       "    </tr>\n",
       "    <tr>\n",
       "      <th>True</th>\n",
       "      <th></th>\n",
       "      <th></th>\n",
       "    </tr>\n",
       "  </thead>\n",
       "  <tbody>\n",
       "    <tr>\n",
       "      <th>No</th>\n",
       "      <td>3405</td>\n",
       "      <td>1095</td>\n",
       "    </tr>\n",
       "    <tr>\n",
       "      <th>Sí</th>\n",
       "      <td>961</td>\n",
       "      <td>3539</td>\n",
       "    </tr>\n",
       "  </tbody>\n",
       "</table>\n",
       "</div>"
      ],
      "text/plain": [
       "Predicted    No    Sí\n",
       "True                 \n",
       "No         3405  1095\n",
       "Sí          961  3539"
      ]
     },
     "execution_count": 40,
     "metadata": {},
     "output_type": "execute_result"
    }
   ],
   "source": [
    "plot_CM(y_test, y_pred_forest)"
   ]
  },
  {
   "cell_type": "code",
   "execution_count": 41,
   "metadata": {},
   "outputs": [
    {
     "name": "stdout",
     "output_type": "stream",
     "text": [
      "Model: ROC AUC = 0.862\n"
     ]
    },
    {
     "data": {
      "image/png": "[encoded data removed]",
      "text/plain": [
       "<Figure size 432x288 with 1 Axes>"
      ]
     },
     "metadata": {
      "needs_background": "light"
     },
     "output_type": "display_data"
    }
   ],
   "source": [
    "plot_ROC(forest, X_test, y_test, scaler, model_name='Bosque aleatorio con todas las variables')"
   ]
  },
  {
   "cell_type": "markdown",
   "metadata": {},
   "source": [
    "### Con primera selección de variables"
   ]
  },
  {
   "cell_type": "code",
   "execution_count": 42,
   "metadata": {},
   "outputs": [
    {
     "name": "stdout",
     "output_type": "stream",
     "text": [
      "Accuracy del test: 0.4854\n",
      "La sensitividad(recall) del test es: 0.4769\n"
     ]
    }
   ],
   "source": [
    "# Con X_fselec_MA, y_fselec_MA\n",
    "N = 15000 # datos por clase\n",
    "X_fselec_MA, y_fselec_MA = small_balanced_sample(X_fselec,y_down_MA,N)\n",
    "# Resultados\n",
    "forest_s1, X_test_s1, y_test_s1, y_pred_forest_s1, scaler_s1 = random_forest(X_fselec_MA, y_fselec_MA)"
   ]
  },
  {
   "cell_type": "code",
   "execution_count": 43,
   "metadata": {
    "scrolled": true
   },
   "outputs": [
    {
     "name": "stdout",
     "output_type": "stream",
     "text": [
      "(30000, 37)\n",
      "['cantidad de palabras objeto a contratar'\n",
      " 'cantidad de palabras objeto del contrato a la Firma'\n",
      " 'Fecha Firma Contrato - Fecha Cargue Secop'\n",
      " 'Fecha Ini Ejec - Fecha Firma Contrato'\n",
      " 'Plazo en dias de Ejec del Contrato' 'Cuantia Contrato'\n",
      " 'Dia de la Semana Firma Contrato_Jueves'\n",
      " 'Dia de la Semana Firma Contrato_Lunes'\n",
      " 'Dia de la Semana Firma Contrato_Martes'\n",
      " 'Dia de la Semana Firma Contrato_Miércoles'\n",
      " 'Dia de la Semana Firma Contrato_Viernes'\n",
      " 'Dpto y Muni Contratista_Bogotá D.C.'\n",
      " 'Dpto y Muni Contratista_Cundinamarca' 'Mes Firma Contrato_Abril'\n",
      " 'Mes Firma Contrato_Agosto' 'Mes Firma Contrato_Diciembre'\n",
      " 'Mes Firma Contrato_Enero' 'Mes Firma Contrato_Febrero'\n",
      " 'Mes Firma Contrato_Julio' 'Mes Firma Contrato_Junio'\n",
      " 'Mes Firma Contrato_Marzo' 'Mes Firma Contrato_Mayo'\n",
      " 'Mes Firma Contrato_Noviembre' 'Mes Firma Contrato_Octubre'\n",
      " 'Mes Firma Contrato_Septiembre' 'Def Origen Recur_0' 'Def Origen Recur_1'\n",
      " 'mismo detalle objeto a contratar despues de firma_0'\n",
      " 'mismo detalle objeto a contratar despues de firma_1'\n",
      " 'Tipo de Contrato_Prestación de Servicios' 'Nombre Grupo_[F] Servicios'\n",
      " 'Regimen de Contratacion_Régimen Especial' 'Dia del Mes Firma Contrato_1'\n",
      " 'Dia del Mes Firma Contrato_2' 'Dia del Mes Firma Contrato_4'\n",
      " 'Dia del Mes Firma Contrato_11' 'Tipo de Proceso_Régimen Especial']\n"
     ]
    }
   ],
   "source": [
    "print(X_fselec_MA.shape)\n",
    "print(np.array(X_fselec_MA.columns))"
   ]
  },
  {
   "cell_type": "code",
   "execution_count": 44,
   "metadata": {},
   "outputs": [
    {
     "data": {
      "text/html": [
       "<div>\n",
       "<style scoped>\n",
       "    .dataframe tbody tr th:only-of-type {\n",
       "        vertical-align: middle;\n",
       "    }\n",
       "\n",
       "    .dataframe tbody tr th {\n",
       "        vertical-align: top;\n",
       "    }\n",
       "\n",
       "    .dataframe thead th {\n",
       "        text-align: right;\n",
       "    }\n",
       "</style>\n",
       "<table border=\"1\" class=\"dataframe\">\n",
       "  <thead>\n",
       "    <tr style=\"text-align: right;\">\n",
       "      <th>Predicted</th>\n",
       "      <th>No</th>\n",
       "      <th>Sí</th>\n",
       "    </tr>\n",
       "    <tr>\n",
       "      <th>True</th>\n",
       "      <th></th>\n",
       "      <th></th>\n",
       "    </tr>\n",
       "  </thead>\n",
       "  <tbody>\n",
       "    <tr>\n",
       "      <th>No</th>\n",
       "      <td>2223</td>\n",
       "      <td>2277</td>\n",
       "    </tr>\n",
       "    <tr>\n",
       "      <th>Sí</th>\n",
       "      <td>2354</td>\n",
       "      <td>2146</td>\n",
       "    </tr>\n",
       "  </tbody>\n",
       "</table>\n",
       "</div>"
      ],
      "text/plain": [
       "Predicted    No    Sí\n",
       "True                 \n",
       "No         2223  2277\n",
       "Sí         2354  2146"
      ]
     },
     "execution_count": 44,
     "metadata": {},
     "output_type": "execute_result"
    }
   ],
   "source": [
    "plot_CM(y_test_s1, y_pred_forest_s1)"
   ]
  },
  {
   "cell_type": "code",
   "execution_count": 45,
   "metadata": {
    "scrolled": true
   },
   "outputs": [
    {
     "name": "stdout",
     "output_type": "stream",
     "text": [
      "Model: ROC AUC = 0.484\n"
     ]
    },
    {
     "data": {
      "image/png": "[encoded data removed]",
      "text/plain": [
       "<Figure size 432x288 with 1 Axes>"
      ]
     },
     "metadata": {
      "needs_background": "light"
     },
     "output_type": "display_data"
    }
   ],
   "source": [
    "plot_ROC(forest_s1, X_test_s1, y_test_s1, scaler_s1, model_name='Bosque aleatorio 1ra selección de variables')"
   ]
  },
  {
   "cell_type": "markdown",
   "metadata": {},
   "source": [
    "### Con segunda selección de variables"
   ]
  },
  {
   "cell_type": "code",
   "execution_count": 46,
   "metadata": {},
   "outputs": [
    {
     "name": "stdout",
     "output_type": "stream",
     "text": [
      "Accuracy del test: 0.4962\n",
      "La sensitividad(recall) del test es: 0.4789\n"
     ]
    }
   ],
   "source": [
    "# Con X_fselec_MA, y_fselec_MA\n",
    "N = 15000 # datos por clase\n",
    "X_fselec_2_MA, y_fselec_2_MA = small_balanced_sample(X_fselec_2,y_down_MA,N)\n",
    "# Resultados\n",
    "forest_s2, X_test_s2, y_test_s2, y_pred_forest_s2, scaler_s2 = random_forest(X_fselec_2_MA, y_fselec_2_MA)"
   ]
  },
  {
   "cell_type": "code",
   "execution_count": 47,
   "metadata": {},
   "outputs": [
    {
     "name": "stdout",
     "output_type": "stream",
     "text": [
      "(30000, 6)\n",
      "['cantidad de palabras objeto a contratar'\n",
      " 'cantidad de palabras objeto del contrato a la Firma'\n",
      " 'Fecha Firma Contrato - Fecha Cargue Secop'\n",
      " 'Fecha Ini Ejec - Fecha Firma Contrato'\n",
      " 'Plazo en dias de Ejec del Contrato' 'Cuantia Contrato']\n"
     ]
    }
   ],
   "source": [
    "print(X_fselec_2_MA.shape)\n",
    "print(np.array(X_fselec_2_MA.columns))"
   ]
  },
  {
   "cell_type": "code",
   "execution_count": 48,
   "metadata": {},
   "outputs": [
    {
     "data": {
      "text/html": [
       "<div>\n",
       "<style scoped>\n",
       "    .dataframe tbody tr th:only-of-type {\n",
       "        vertical-align: middle;\n",
       "    }\n",
       "\n",
       "    .dataframe tbody tr th {\n",
       "        vertical-align: top;\n",
       "    }\n",
       "\n",
       "    .dataframe thead th {\n",
       "        text-align: right;\n",
       "    }\n",
       "</style>\n",
       "<table border=\"1\" class=\"dataframe\">\n",
       "  <thead>\n",
       "    <tr style=\"text-align: right;\">\n",
       "      <th>Predicted</th>\n",
       "      <th>No</th>\n",
       "      <th>Sí</th>\n",
       "    </tr>\n",
       "    <tr>\n",
       "      <th>True</th>\n",
       "      <th></th>\n",
       "      <th></th>\n",
       "    </tr>\n",
       "  </thead>\n",
       "  <tbody>\n",
       "    <tr>\n",
       "      <th>No</th>\n",
       "      <td>2311</td>\n",
       "      <td>2189</td>\n",
       "    </tr>\n",
       "    <tr>\n",
       "      <th>Sí</th>\n",
       "      <td>2345</td>\n",
       "      <td>2155</td>\n",
       "    </tr>\n",
       "  </tbody>\n",
       "</table>\n",
       "</div>"
      ],
      "text/plain": [
       "Predicted    No    Sí\n",
       "True                 \n",
       "No         2311  2189\n",
       "Sí         2345  2155"
      ]
     },
     "execution_count": 48,
     "metadata": {},
     "output_type": "execute_result"
    }
   ],
   "source": [
    "plot_CM(y_test_s2, y_pred_forest_s2)"
   ]
  },
  {
   "cell_type": "code",
   "execution_count": 49,
   "metadata": {},
   "outputs": [
    {
     "name": "stdout",
     "output_type": "stream",
     "text": [
      "Model: ROC AUC = 0.498\n"
     ]
    },
    {
     "data": {
      "image/png": "[encoded data removed]",
      "text/plain": [
       "<Figure size 432x288 with 1 Axes>"
      ]
     },
     "metadata": {
      "needs_background": "light"
     },
     "output_type": "display_data"
    }
   ],
   "source": [
    "plot_ROC(forest_s2, X_test_s2, y_test_s2, scaler_s2, model_name='Bosque aleatorio 2da selección de variables')"
   ]
  },
  {
   "cell_type": "markdown",
   "metadata": {},
   "source": [
    "### Con selección específica de variables\n",
    "Se eliminaron grupos de variables de tal forma que se redujera considerablemente la cantidad de predictores para los modelos sin que disminuya mucho las métricas de rendimiento del modelo pasando de 209 predictores (contando dummies y continuas) a tan sólo 5: `cantidad de palabras objeto a contratar`, `Fecha Firma Contrato - Fecha Cargue Secop`, `Plazo en dias de Ejec del Contrato`, `Cuantia Contrato` y `mismo detalle objeto a contratar despues de firma_1`."
   ]
  },
  {
   "cell_type": "code",
   "execution_count": 50,
   "metadata": {},
   "outputs": [],
   "source": [
    "cols = ['cantidad de palabras objeto a contratar',\n",
    "       'Fecha Firma Contrato - Fecha Cargue Secop',\n",
    "       'Plazo en dias de Ejec del Contrato',\n",
    "       'Cuantia Contrato',\n",
    "       'mismo detalle objeto a contratar despues de firma_1']"
   ]
  },
  {
   "cell_type": "code",
   "execution_count": 51,
   "metadata": {},
   "outputs": [],
   "source": [
    "X_fselec_3_MA = X_down_MA_dum[cols]"
   ]
  },
  {
   "cell_type": "code",
   "execution_count": 52,
   "metadata": {},
   "outputs": [
    {
     "data": {
      "text/plain": [
       "(303916, 5)"
      ]
     },
     "execution_count": 52,
     "metadata": {},
     "output_type": "execute_result"
    }
   ],
   "source": [
    "X_fselec_3_MA.shape"
   ]
  },
  {
   "cell_type": "code",
   "execution_count": 53,
   "metadata": {},
   "outputs": [],
   "source": [
    "X_s3_MA, y_s3_MA = small_balanced_sample(X_fselec_3_MA,y_down_MA,15000)"
   ]
  },
  {
   "cell_type": "code",
   "execution_count": 54,
   "metadata": {},
   "outputs": [
    {
     "name": "stdout",
     "output_type": "stream",
     "text": [
      "Accuracy para Bosque Aleatorio con validación cruzada: 0.7346 \n"
     ]
    }
   ],
   "source": [
    "X_train_s3_MA, X_test_s3_MA, y_train_s3_MA, y_test_s3_MA = train_test_split(X_s3_MA, y_s3_MA,\n",
    "                                                                            test_size=0.33, random_state=42)\n",
    "# Escalador de datos\n",
    "scaler_s3 = preprocessing.StandardScaler().fit(X_train_s3_MA)\n",
    "# Validacion cruzada\n",
    "arb = RandomForestClassifier(random_state=42)\n",
    "vc = cross_val_score(arb, scaler_s3.transform(X_train_s3_MA), y_train_s3_MA, cv = 5, scoring = \"accuracy\")\n",
    "accuracy = vc.mean()\n",
    "print(\"Accuracy para Bosque Aleatorio con validación cruzada: {:1.4f} \".format(accuracy) )"
   ]
  },
  {
   "cell_type": "code",
   "execution_count": 55,
   "metadata": {},
   "outputs": [
    {
     "data": {
      "text/plain": [
       "array([0.72288557, 0.73208955, 0.74129353, 0.73631841, 0.74029851])"
      ]
     },
     "execution_count": 55,
     "metadata": {},
     "output_type": "execute_result"
    }
   ],
   "source": [
    "vc"
   ]
  },
  {
   "cell_type": "code",
   "execution_count": 56,
   "metadata": {},
   "outputs": [
    {
     "data": {
      "text/plain": [
       "(20100, 5)"
      ]
     },
     "execution_count": 56,
     "metadata": {},
     "output_type": "execute_result"
    }
   ],
   "source": [
    "X_train_s3_MA.shape"
   ]
  },
  {
   "cell_type": "code",
   "execution_count": 57,
   "metadata": {},
   "outputs": [
    {
     "name": "stdout",
     "output_type": "stream",
     "text": [
      "Accuracy del test: 0.7412\n",
      "La sensitividad(recall) del test es: 0.7433\n"
     ]
    }
   ],
   "source": [
    "# Con X_fselec_MA, y_fselec_MA\n",
    "N = 15000 # datos por clase\n",
    "X_fselec_3_MA, y_fselec_3_MA = small_balanced_sample(X_fselec_3_MA,y_down_MA,N)\n",
    "# Resultados\n",
    "forest_s3, X_test_s3, y_test_s3, y_pred_forest_s3, scaler_s3 = random_forest(X_fselec_3_MA, y_fselec_3_MA)"
   ]
  },
  {
   "cell_type": "code",
   "execution_count": 58,
   "metadata": {},
   "outputs": [
    {
     "data": {
      "text/html": [
       "<div>\n",
       "<style scoped>\n",
       "    .dataframe tbody tr th:only-of-type {\n",
       "        vertical-align: middle;\n",
       "    }\n",
       "\n",
       "    .dataframe tbody tr th {\n",
       "        vertical-align: top;\n",
       "    }\n",
       "\n",
       "    .dataframe thead th {\n",
       "        text-align: right;\n",
       "    }\n",
       "</style>\n",
       "<table border=\"1\" class=\"dataframe\">\n",
       "  <thead>\n",
       "    <tr style=\"text-align: right;\">\n",
       "      <th>Predicted</th>\n",
       "      <th>No</th>\n",
       "      <th>Sí</th>\n",
       "    </tr>\n",
       "    <tr>\n",
       "      <th>True</th>\n",
       "      <th></th>\n",
       "      <th></th>\n",
       "    </tr>\n",
       "  </thead>\n",
       "  <tbody>\n",
       "    <tr>\n",
       "      <th>No</th>\n",
       "      <td>3326</td>\n",
       "      <td>1174</td>\n",
       "    </tr>\n",
       "    <tr>\n",
       "      <th>Sí</th>\n",
       "      <td>1155</td>\n",
       "      <td>3345</td>\n",
       "    </tr>\n",
       "  </tbody>\n",
       "</table>\n",
       "</div>"
      ],
      "text/plain": [
       "Predicted    No    Sí\n",
       "True                 \n",
       "No         3326  1174\n",
       "Sí         1155  3345"
      ]
     },
     "execution_count": 58,
     "metadata": {},
     "output_type": "execute_result"
    }
   ],
   "source": [
    "plot_CM(y_test_s3, y_pred_forest_s3)"
   ]
  },
  {
   "cell_type": "code",
   "execution_count": 59,
   "metadata": {
    "scrolled": true
   },
   "outputs": [
    {
     "name": "stdout",
     "output_type": "stream",
     "text": [
      "Model: ROC AUC = 0.831\n"
     ]
    },
    {
     "data": {
      "image/png": "[encoded data removed]",
      "text/plain": [
       "<Figure size 432x288 with 1 Axes>"
      ]
     },
     "metadata": {
      "needs_background": "light"
     },
     "output_type": "display_data"
    }
   ],
   "source": [
    "plot_ROC(forest_s3, X_test_s3, y_test_s3, scaler_s3, model_name='Bosque aleatorio 3ra selección de variables')"
   ]
  },
  {
   "cell_type": "markdown",
   "metadata": {},
   "source": [
    "- Con 75 variables el cambio no es mucho: el accuracy promedio (CV) se mantiene alrededor de 0.76 al igual que con todas las variables. El ROC AUC score cambió de 0.859 a 0.861. Como es prácticamente lo mismo, se probará con unas 60 variables.\n",
    "-  Con 58 variables: 0.75 accuracy promedio (CV) y ROC AUC Score = 0.84\n",
    "- Quitar Mes Firma de contrato, dejar mismo detalle objeto a contratar\n",
    "- Es Post Conflicto se puede quitar, no cambio mucho ni el accracy ni el ROC AUC score\n",
    "- Causal de otras formas de contratacion tampoco funcionan\n",
    "- Ni Tipo de Proceso ni Tipo de Contrato afectan el rendimiento del modelo\n",
    "- Quitar Nombre Grupo Baja levemente  pero casi nada\n",
    "- Con Def Origen bajó un poc los resultados (más que al quitar Nombre Grupo) pero no es grave"
   ]
  },
  {
   "cell_type": "markdown",
   "metadata": {},
   "source": [
    "## Modelos sin prestaciones de servicios"
   ]
  },
  {
   "cell_type": "code",
   "execution_count": 60,
   "metadata": {},
   "outputs": [
    {
     "data": {
      "text/plain": [
       "Prestación de Servicios    260216\n",
       "Suministro                  16130\n",
       "Otro Tipo de Contrato       10245\n",
       "Compraventa                  6225\n",
       "Obra                         5293\n",
       "Arrendamiento                2837\n",
       "Interventoría                1208\n",
       "Consultoría                   934\n",
       "Comodato                      666\n",
       "Acuerdo Marco                  77\n",
       "Concesión                      38\n",
       "Fiducia                        24\n",
       "Crédito                        15\n",
       "Agregación de Demanda           4\n",
       "No definido                     4\n",
       "Name: Tipo de Contrato, dtype: int64"
      ]
     },
     "execution_count": 60,
     "metadata": {},
     "output_type": "execute_result"
    }
   ],
   "source": [
    "df_downsampled_MA[\"Tipo de Contrato\"].value_counts()"
   ]
  },
  {
   "cell_type": "code",
   "execution_count": 103,
   "metadata": {},
   "outputs": [
    {
     "data": {
      "text/plain": [
       "Index(['UID', 'Orden Entidad', 'Nombre de la Entidad', 'Código de la Entidad',\n",
       "       'Tipo de Proceso', 'Estado del Proceso',\n",
       "       'Causal de Otras Formas de Contratacion Directa',\n",
       "       'Regimen de Contratacion', 'Objeto a Contratar', 'Tipo de Contrato',\n",
       "       'cantidad de palabras objeto a contratar', 'Nombre Grupo',\n",
       "       'Nombre Familia', 'Nombre Clase', 'EsPostConflicto', 'Def Origen Recur',\n",
       "       'Num Origenes Recur', 'Descrip Origenes Recur', 'ID Ajudicacion',\n",
       "       'Tipo Identifi del Contratista',\n",
       "       'cantidad de palabras objeto del contrato a la Firma',\n",
       "       'mismo detalle objeto a contratar despues de firma',\n",
       "       'Identificacion del Contratista', 'Nom Raz Social Contratista',\n",
       "       'Dpto y Muni Contratista', 'Fecha de Cargue en el SECOP',\n",
       "       'Fecha de Firma del Contrato', 'Fecha Ini Ejec Contrato',\n",
       "       'Fecha Firma Contrato - Fecha Cargue Secop',\n",
       "       'Fecha Ini Ejec - Fecha Firma Contrato', 'Mes Firma Contrato',\n",
       "       'Dia del Mes Firma Contrato', 'Dia de la Semana Firma Contrato',\n",
       "       'Plazo en dias de Ejec del Contrato', 'Marc Adiciones',\n",
       "       'Adicion en Valor', 'Adicion en Tiempo', 'Tiempo Adiciones (Dias)',\n",
       "       'Fecha Fin Ejec Contrato', 'Cuantia Proceso', 'Cuantia Contrato',\n",
       "       'Valor Total de Adiciones', 'Valor Contrato con Adiciones',\n",
       "       'Nombre Sub Unidad Ejecutora', 'Moneda', 'Marc Sancion',\n",
       "       'Valor Sancion', 'Ultima Actualizacion',\n",
       "       'Ultima Actualizacion - Fecha Fin Ejec Contrato'],\n",
       "      dtype='object')"
      ]
     },
     "execution_count": 103,
     "metadata": {},
     "output_type": "execute_result"
    }
   ],
   "source": [
    "df_downsampled_MA.columns"
   ]
  },
  {
   "cell_type": "code",
   "execution_count": 130,
   "metadata": {},
   "outputs": [],
   "source": [
    "X_noprestacion = df_downsampled_MA[df_downsampled_MA[\"Tipo de Contrato\"] != \"Prestación de Servicios\"]\n",
    "y_noprestacion = X_noprestacion[\"Marc Adiciones\"]\n",
    "\n",
    "X_noprestacion = X_noprestacion.drop(columns = vars_a_excluir + [\"Marc Adiciones\",\"Adicion en Valor\",\"Adicion en Tiempo\",\n",
    "                                                                 \"Marc Sancion\",\"Valor Total de Adiciones\"])\n",
    "\n",
    "vars_categoricas = ['Tipo de Proceso', 'Causal de Otras Formas de Contratacion Directa',\n",
    "                    'Regimen de Contratacion', 'Tipo de Contrato','Nombre Grupo',\"Dpto y Muni Contratista\",\n",
    "                    'EsPostConflicto', 'Def Origen Recur',\"mismo detalle objeto a contratar despues de firma\",\n",
    "                    \"Mes Firma Contrato\",\"Dia del Mes Firma Contrato\",\"Dia de la Semana Firma Contrato\"]\n",
    "X_noprestacion_dum = pd.get_dummies(data = X_noprestacion, columns = vars_categoricas)\n",
    "X_noprestacion_dum = X_noprestacion_dum.drop(columns=['Ultima Actualizacion - Fecha Fin Ejec Contrato','Tiempo Adiciones (Dias)'])"
   ]
  },
  {
   "cell_type": "code",
   "execution_count": 131,
   "metadata": {
    "scrolled": true
   },
   "outputs": [
    {
     "data": {
      "text/plain": [
       "Index(['cantidad de palabras objeto a contratar',\n",
       "       'cantidad de palabras objeto del contrato a la Firma',\n",
       "       'Fecha Firma Contrato - Fecha Cargue Secop',\n",
       "       'Fecha Ini Ejec - Fecha Firma Contrato',\n",
       "       'Plazo en dias de Ejec del Contrato', 'Cuantia Contrato',\n",
       "       'Valor Sancion', 'Tipo de Proceso_Asociación Público Privada',\n",
       "       'Tipo de Proceso_Concurso de Méritos Abierto',\n",
       "       'Tipo de Proceso_Concurso de Méritos con Lista Corta',\n",
       "       ...\n",
       "       'Dia del Mes Firma Contrato_29', 'Dia del Mes Firma Contrato_30',\n",
       "       'Dia del Mes Firma Contrato_31',\n",
       "       'Dia de la Semana Firma Contrato_Domingo',\n",
       "       'Dia de la Semana Firma Contrato_Jueves',\n",
       "       'Dia de la Semana Firma Contrato_Lunes',\n",
       "       'Dia de la Semana Firma Contrato_Martes',\n",
       "       'Dia de la Semana Firma Contrato_Miércoles',\n",
       "       'Dia de la Semana Firma Contrato_Sábado',\n",
       "       'Dia de la Semana Firma Contrato_Viernes'],\n",
       "      dtype='object', length=172)"
      ]
     },
     "execution_count": 131,
     "metadata": {},
     "output_type": "execute_result"
    }
   ],
   "source": [
    "X_noprestacion_dum.columns"
   ]
  },
  {
   "cell_type": "code",
   "execution_count": 132,
   "metadata": {},
   "outputs": [
    {
     "name": "stdout",
     "output_type": "stream",
     "text": [
      "Cantidad de datos sin prestacion de servicios:  43700\n"
     ]
    },
    {
     "data": {
      "text/plain": [
       "0    28116\n",
       "1    15584\n",
       "Name: Marc Adiciones, dtype: int64"
      ]
     },
     "execution_count": 132,
     "metadata": {},
     "output_type": "execute_result"
    }
   ],
   "source": [
    "print(\"Cantidad de datos sin prestacion de servicios: \",len(X_noprestacion))\n",
    "y_noprestacion.value_counts()"
   ]
  },
  {
   "cell_type": "markdown",
   "metadata": {},
   "source": [
    "## Regresión logística"
   ]
  },
  {
   "cell_type": "markdown",
   "metadata": {},
   "source": [
    "### Con todas las variables"
   ]
  },
  {
   "cell_type": "code",
   "execution_count": 133,
   "metadata": {},
   "outputs": [
    {
     "name": "stdout",
     "output_type": "stream",
     "text": [
      "Accuracy para Regresión Logística con validación cruzada: 0.7280 \n",
      "El accuracy del test es: 0.7236\n",
      "La sensitividad(recall) del test es: 0.5044\n"
     ]
    }
   ],
   "source": [
    "regLog_noserv, X_test_noserv, y_test_noserv, y_pred_noserv, scaler_noserv = reg_log(X_noprestacion_dum, y_noprestacion)"
   ]
  },
  {
   "cell_type": "code",
   "execution_count": 134,
   "metadata": {},
   "outputs": [
    {
     "data": {
      "text/html": [
       "<div>\n",
       "<style scoped>\n",
       "    .dataframe tbody tr th:only-of-type {\n",
       "        vertical-align: middle;\n",
       "    }\n",
       "\n",
       "    .dataframe tbody tr th {\n",
       "        vertical-align: top;\n",
       "    }\n",
       "\n",
       "    .dataframe thead th {\n",
       "        text-align: right;\n",
       "    }\n",
       "</style>\n",
       "<table border=\"1\" class=\"dataframe\">\n",
       "  <thead>\n",
       "    <tr style=\"text-align: right;\">\n",
       "      <th>Predicted</th>\n",
       "      <th>No</th>\n",
       "      <th>Sí</th>\n",
       "    </tr>\n",
       "    <tr>\n",
       "      <th>True</th>\n",
       "      <th></th>\n",
       "      <th></th>\n",
       "    </tr>\n",
       "  </thead>\n",
       "  <tbody>\n",
       "    <tr>\n",
       "      <th>No</th>\n",
       "      <td>7129</td>\n",
       "      <td>1306</td>\n",
       "    </tr>\n",
       "    <tr>\n",
       "      <th>Sí</th>\n",
       "      <td>2317</td>\n",
       "      <td>2358</td>\n",
       "    </tr>\n",
       "  </tbody>\n",
       "</table>\n",
       "</div>"
      ],
      "text/plain": [
       "Predicted    No    Sí\n",
       "True                 \n",
       "No         7129  1306\n",
       "Sí         2317  2358"
      ]
     },
     "execution_count": 134,
     "metadata": {},
     "output_type": "execute_result"
    }
   ],
   "source": [
    "plot_CM(y_test_noserv, y_pred_noserv)"
   ]
  },
  {
   "cell_type": "code",
   "execution_count": 135,
   "metadata": {},
   "outputs": [
    {
     "name": "stdout",
     "output_type": "stream",
     "text": [
      "Model: ROC AUC = 0.800\n"
     ]
    },
    {
     "data": {
      "image/png": "[encoded data removed]",
      "text/plain": [
       "<Figure size 432x288 with 1 Axes>"
      ]
     },
     "metadata": {
      "needs_background": "light"
     },
     "output_type": "display_data"
    }
   ],
   "source": [
    "plot_ROC(regLog_noserv, X_test_noserv, y_test_noserv, scaler_noserv)"
   ]
  },
  {
   "cell_type": "markdown",
   "metadata": {},
   "source": [
    "## Bosques aleatorios"
   ]
  },
  {
   "cell_type": "markdown",
   "metadata": {},
   "source": [
    "### Con todas las variables"
   ]
  },
  {
   "cell_type": "code",
   "execution_count": 136,
   "metadata": {},
   "outputs": [],
   "source": [
    "X_train_sp, X_test_sp, y_train_sp, y_test_sp = train_test_split(X_noprestacion_dum, y_noprestacion, test_size=0.33, random_state=42,\n",
    "                                                               stratify=y_noprestacion)"
   ]
  },
  {
   "cell_type": "code",
   "execution_count": 138,
   "metadata": {},
   "outputs": [
    {
     "name": "stdout",
     "output_type": "stream",
     "text": [
      "Accuracy para Bosque Aleatorio con validación cruzada: 0.8264 \n"
     ]
    }
   ],
   "source": [
    "# Escalador de datos\n",
    "scaler = preprocessing.StandardScaler().fit(X_train_sp)\n",
    "# Validacion cruzada\n",
    "arb = RandomForestClassifier(random_state=42)\n",
    "vc = cross_val_score(arb, scaler.transform(X_train_sp), y_train_sp, cv = 5, scoring = \"accuracy\")\n",
    "accuracy = vc.mean()\n",
    "print(\"Accuracy para Bosque Aleatorio con validación cruzada: {:1.4f} \".format(accuracy) )"
   ]
  },
  {
   "cell_type": "code",
   "execution_count": 140,
   "metadata": {},
   "outputs": [
    {
     "data": {
      "text/plain": [
       "array([0.82923497, 0.82906421, 0.82803962, 0.82462432, 0.82117848])"
      ]
     },
     "execution_count": 140,
     "metadata": {},
     "output_type": "execute_result"
    }
   ],
   "source": [
    "vc"
   ]
  },
  {
   "cell_type": "code",
   "execution_count": 139,
   "metadata": {},
   "outputs": [
    {
     "name": "stdout",
     "output_type": "stream",
     "text": [
      "Accuracy del test: 0.8317\n",
      "La sensitividad(recall) del test es: 0.7737\n"
     ]
    }
   ],
   "source": [
    "forest_sp, X_test_sp, y_test_sp, y_pred_forest_sp, scaler_sp = random_forest(X_noprestacion_dum, y_noprestacion)"
   ]
  },
  {
   "cell_type": "code",
   "execution_count": 40,
   "metadata": {
    "scrolled": true
   },
   "outputs": [
    {
     "data": {
      "text/html": [
       "<div>\n",
       "<style scoped>\n",
       "    .dataframe tbody tr th:only-of-type {\n",
       "        vertical-align: middle;\n",
       "    }\n",
       "\n",
       "    .dataframe tbody tr th {\n",
       "        vertical-align: top;\n",
       "    }\n",
       "\n",
       "    .dataframe thead th {\n",
       "        text-align: right;\n",
       "    }\n",
       "</style>\n",
       "<table border=\"1\" class=\"dataframe\">\n",
       "  <thead>\n",
       "    <tr style=\"text-align: right;\">\n",
       "      <th>Predicted</th>\n",
       "      <th>No</th>\n",
       "      <th>Sí</th>\n",
       "    </tr>\n",
       "    <tr>\n",
       "      <th>True</th>\n",
       "      <th></th>\n",
       "      <th></th>\n",
       "    </tr>\n",
       "  </thead>\n",
       "  <tbody>\n",
       "    <tr>\n",
       "      <th>No</th>\n",
       "      <td>3405</td>\n",
       "      <td>1095</td>\n",
       "    </tr>\n",
       "    <tr>\n",
       "      <th>Sí</th>\n",
       "      <td>961</td>\n",
       "      <td>3539</td>\n",
       "    </tr>\n",
       "  </tbody>\n",
       "</table>\n",
       "</div>"
      ],
      "text/plain": [
       "Predicted    No    Sí\n",
       "True                 \n",
       "No         3405  1095\n",
       "Sí          961  3539"
      ]
     },
     "execution_count": 40,
     "metadata": {},
     "output_type": "execute_result"
    }
   ],
   "source": [
    "plot_CM(y_test_sp, y_pred_forest_sp)"
   ]
  },
  {
   "cell_type": "code",
   "execution_count": 141,
   "metadata": {},
   "outputs": [
    {
     "name": "stdout",
     "output_type": "stream",
     "text": [
      "Model: ROC AUC = 0.913\n"
     ]
    },
    {
     "data": {
      "image/png": "[encoded data removed]",
      "text/plain": [
       "<Figure size 432x288 with 1 Axes>"
      ]
     },
     "metadata": {
      "needs_background": "light"
     },
     "output_type": "display_data"
    }
   ],
   "source": [
    "plot_ROC(forest_sp, X_test_sp, y_test_sp, scaler_sp, model_name='Bosque aleatorio ,todas las variables, \\n sin prestacion de servicios')"
   ]
  },
  {
   "cell_type": "markdown",
   "metadata": {},
   "source": [
    "### Con las 5 seleccionadas"
   ]
  },
  {
   "cell_type": "code",
   "execution_count": 154,
   "metadata": {},
   "outputs": [],
   "source": [
    "cols = ['cantidad de palabras objeto a contratar',\n",
    "       'Fecha Firma Contrato - Fecha Cargue Secop',\n",
    "       'Plazo en dias de Ejec del Contrato',\n",
    "       'Cuantia Contrato',\n",
    "       'mismo detalle objeto a contratar despues de firma_1']"
   ]
  },
  {
   "cell_type": "code",
   "execution_count": 155,
   "metadata": {},
   "outputs": [],
   "source": [
    "X_sp_fselec = X_noprestacion_dum[cols]"
   ]
  },
  {
   "cell_type": "code",
   "execution_count": 156,
   "metadata": {},
   "outputs": [],
   "source": [
    "X_train_sp_sel1, X_test_sp_sel1, y_train_sp_sel1, y_test_sp_sel1 = train_test_split(X_sp_fselec, y_noprestacion, test_size=0.33, random_state=42,\n",
    "                                                               stratify=y_noprestacion)"
   ]
  },
  {
   "cell_type": "code",
   "execution_count": 157,
   "metadata": {},
   "outputs": [
    {
     "data": {
      "text/plain": [
       "(29279, 5)"
      ]
     },
     "execution_count": 157,
     "metadata": {},
     "output_type": "execute_result"
    }
   ],
   "source": [
    "X_train_sp_sel1.shape"
   ]
  },
  {
   "cell_type": "code",
   "execution_count": 158,
   "metadata": {},
   "outputs": [
    {
     "name": "stdout",
     "output_type": "stream",
     "text": [
      "Con solo 5 variables\n",
      "Accuracy para Bosque Aleatorio con validación cruzada: 0.8022 \n"
     ]
    }
   ],
   "source": [
    "# Escalador de datos\n",
    "scaler_sp_sel1 = preprocessing.StandardScaler().fit(X_train_sp_sel1)\n",
    "# Validacion cruzada\n",
    "arb = RandomForestClassifier(random_state=42)\n",
    "vc = cross_val_score(arb, scaler_sp_sel1.transform(X_train_sp_sel1), y_train_sp_sel1, cv = 5, scoring = \"accuracy\")\n",
    "accuracy = vc.mean()\n",
    "print(\"Con solo 5 variables\")\n",
    "print(\"Accuracy para Bosque Aleatorio con validación cruzada: {:1.4f} \".format(accuracy) )"
   ]
  },
  {
   "cell_type": "code",
   "execution_count": 159,
   "metadata": {},
   "outputs": [
    {
     "data": {
      "text/plain": [
       "array([0.80806011, 0.80122951, 0.80959699, 0.80122951, 0.79077711])"
      ]
     },
     "execution_count": 159,
     "metadata": {},
     "output_type": "execute_result"
    }
   ],
   "source": [
    "vc"
   ]
  },
  {
   "cell_type": "code",
   "execution_count": 160,
   "metadata": {},
   "outputs": [
    {
     "name": "stdout",
     "output_type": "stream",
     "text": [
      "Accuracy del test: 0.8042\n",
      "La sensitividad(recall) del test es: 0.7523\n"
     ]
    }
   ],
   "source": [
    "forest_sp_sel1, X_test_sp_sel1, y_test_sp_sel1, y_pred_forest_sp_sel1, scaler_sp_sel1 = random_forest(X_sp_fselec, y_noprestacion)"
   ]
  },
  {
   "cell_type": "code",
   "execution_count": 161,
   "metadata": {
    "scrolled": true
   },
   "outputs": [
    {
     "data": {
      "text/html": [
       "<div>\n",
       "<style scoped>\n",
       "    .dataframe tbody tr th:only-of-type {\n",
       "        vertical-align: middle;\n",
       "    }\n",
       "\n",
       "    .dataframe tbody tr th {\n",
       "        vertical-align: top;\n",
       "    }\n",
       "\n",
       "    .dataframe thead th {\n",
       "        text-align: right;\n",
       "    }\n",
       "</style>\n",
       "<table border=\"1\" class=\"dataframe\">\n",
       "  <thead>\n",
       "    <tr style=\"text-align: right;\">\n",
       "      <th>Predicted</th>\n",
       "      <th>No</th>\n",
       "      <th>Sí</th>\n",
       "    </tr>\n",
       "    <tr>\n",
       "      <th>True</th>\n",
       "      <th></th>\n",
       "      <th></th>\n",
       "    </tr>\n",
       "  </thead>\n",
       "  <tbody>\n",
       "    <tr>\n",
       "      <th>No</th>\n",
       "      <td>7026</td>\n",
       "      <td>1409</td>\n",
       "    </tr>\n",
       "    <tr>\n",
       "      <th>Sí</th>\n",
       "      <td>1158</td>\n",
       "      <td>3517</td>\n",
       "    </tr>\n",
       "  </tbody>\n",
       "</table>\n",
       "</div>"
      ],
      "text/plain": [
       "Predicted    No    Sí\n",
       "True                 \n",
       "No         7026  1409\n",
       "Sí         1158  3517"
      ]
     },
     "execution_count": 161,
     "metadata": {},
     "output_type": "execute_result"
    }
   ],
   "source": [
    "plot_CM(y_test_sp_sel1, y_pred_forest_sp_sel1)"
   ]
  },
  {
   "cell_type": "code",
   "execution_count": 162,
   "metadata": {
    "scrolled": false
   },
   "outputs": [
    {
     "name": "stdout",
     "output_type": "stream",
     "text": [
      "Model: ROC AUC = 0.887\n"
     ]
    },
    {
     "data": {
      "image/png": "[encoded data removed]",
      "text/plain": [
       "<Figure size 432x288 with 1 Axes>"
      ]
     },
     "metadata": {
      "needs_background": "light"
     },
     "output_type": "display_data"
    }
   ],
   "source": [
    "plot_ROC(forest_sp_sel1, X_test_sp_sel1, y_test_sp_sel1, scaler_sp_sel1, model_name='Bosque aleatorio ,5 variables, \\n sin prestacion de servicios')"
   ]
  },
  {
   "cell_type": "markdown",
   "metadata": {},
   "source": [
    "## Modelos con sólo prestación de servicios"
   ]
  },
  {
   "cell_type": "code",
   "execution_count": 173,
   "metadata": {},
   "outputs": [],
   "source": [
    "X_soloprestacion = df_downsampled_MA[df_downsampled_MA[\"Tipo de Contrato\"] == \"Prestación de Servicios\"]\n",
    "y_soloprestacion = X_soloprestacion[\"Marc Adiciones\"]\n",
    "\n",
    "X_soloprestacion = X_soloprestacion.drop(columns = vars_a_excluir + [\"Marc Adiciones\",\"Adicion en Valor\",\"Adicion en Tiempo\",\n",
    "                                                                 \"Marc Sancion\",\"Valor Total de Adiciones\"])\n",
    "\n",
    "vars_categoricas = ['Tipo de Proceso', 'Causal de Otras Formas de Contratacion Directa',\n",
    "                    'Regimen de Contratacion', 'Tipo de Contrato','Nombre Grupo',\"Dpto y Muni Contratista\",\n",
    "                    'EsPostConflicto', 'Def Origen Recur',\"mismo detalle objeto a contratar despues de firma\",\n",
    "                    \"Mes Firma Contrato\",\"Dia del Mes Firma Contrato\",\"Dia de la Semana Firma Contrato\"]\n",
    "X_soloprestacion_dum = pd.get_dummies(data = X_soloprestacion, columns = vars_categoricas)\n",
    "X_soloprestacion_dum = X_soloprestacion_dum.drop(columns=['Ultima Actualizacion - Fecha Fin Ejec Contrato','Tiempo Adiciones (Dias)'])"
   ]
  },
  {
   "cell_type": "code",
   "execution_count": 177,
   "metadata": {},
   "outputs": [
    {
     "name": "stdout",
     "output_type": "stream",
     "text": [
      "Cantidad de datos sin prestacion de servicios:  260216\n"
     ]
    },
    {
     "data": {
      "text/plain": [
       "1    136374\n",
       "0    123842\n",
       "Name: Marc Adiciones, dtype: int64"
      ]
     },
     "execution_count": 177,
     "metadata": {},
     "output_type": "execute_result"
    }
   ],
   "source": [
    "print(\"Cantidad de datos sin prestacion de servicios: \",len(X_soloprestacion))\n",
    "y_soloprestacion.value_counts()"
   ]
  },
  {
   "cell_type": "markdown",
   "metadata": {},
   "source": [
    "**Nota:** es necesario remuestrear para ejecutar los modelos más rapidamente. Para los modelos utilizaremos 15000 muestras por clase de la variable dependiente `Marc Adiciones`."
   ]
  },
  {
   "cell_type": "code",
   "execution_count": 179,
   "metadata": {},
   "outputs": [],
   "source": [
    "X_soloprest_MA, y_soloprest_MA = small_balanced_sample(X_soloprestacion_dum,y_soloprestacion,15000)"
   ]
  },
  {
   "cell_type": "markdown",
   "metadata": {},
   "source": [
    "## Regresión logística"
   ]
  },
  {
   "cell_type": "markdown",
   "metadata": {},
   "source": [
    "### Con todas las variables"
   ]
  },
  {
   "cell_type": "code",
   "execution_count": 180,
   "metadata": {},
   "outputs": [
    {
     "name": "stdout",
     "output_type": "stream",
     "text": [
      "Accuracy para Regresión Logística con validación cruzada: 0.6123 \n",
      "El accuracy del test es: 0.6141\n",
      "La sensitividad(recall) del test es: 0.6593\n"
     ]
    }
   ],
   "source": [
    "regLog_soloserv, X_test_soloserv, y_test_soloserv, y_pred_soloserv, scaler_soloserv = reg_log(X_soloprest_MA, y_soloprest_MA)"
   ]
  },
  {
   "cell_type": "code",
   "execution_count": 181,
   "metadata": {},
   "outputs": [
    {
     "data": {
      "text/html": [
       "<div>\n",
       "<style scoped>\n",
       "    .dataframe tbody tr th:only-of-type {\n",
       "        vertical-align: middle;\n",
       "    }\n",
       "\n",
       "    .dataframe tbody tr th {\n",
       "        vertical-align: top;\n",
       "    }\n",
       "\n",
       "    .dataframe thead th {\n",
       "        text-align: right;\n",
       "    }\n",
       "</style>\n",
       "<table border=\"1\" class=\"dataframe\">\n",
       "  <thead>\n",
       "    <tr style=\"text-align: right;\">\n",
       "      <th>Predicted</th>\n",
       "      <th>No</th>\n",
       "      <th>Sí</th>\n",
       "    </tr>\n",
       "    <tr>\n",
       "      <th>True</th>\n",
       "      <th></th>\n",
       "      <th></th>\n",
       "    </tr>\n",
       "  </thead>\n",
       "  <tbody>\n",
       "    <tr>\n",
       "      <th>No</th>\n",
       "      <td>2560</td>\n",
       "      <td>1940</td>\n",
       "    </tr>\n",
       "    <tr>\n",
       "      <th>Sí</th>\n",
       "      <td>1533</td>\n",
       "      <td>2967</td>\n",
       "    </tr>\n",
       "  </tbody>\n",
       "</table>\n",
       "</div>"
      ],
      "text/plain": [
       "Predicted    No    Sí\n",
       "True                 \n",
       "No         2560  1940\n",
       "Sí         1533  2967"
      ]
     },
     "execution_count": 181,
     "metadata": {},
     "output_type": "execute_result"
    }
   ],
   "source": [
    "plot_CM(y_test_soloserv, y_pred_soloserv)"
   ]
  },
  {
   "cell_type": "code",
   "execution_count": 182,
   "metadata": {},
   "outputs": [
    {
     "name": "stdout",
     "output_type": "stream",
     "text": [
      "Model: ROC AUC = 0.662\n"
     ]
    },
    {
     "data": {
      "image/png": "[encoded data removed]",
      "text/plain": [
       "<Figure size 432x288 with 1 Axes>"
      ]
     },
     "metadata": {
      "needs_background": "light"
     },
     "output_type": "display_data"
    }
   ],
   "source": [
    "plot_ROC(regLog_soloserv, X_test_soloserv, y_test_soloserv, scaler_soloserv)"
   ]
  },
  {
   "cell_type": "markdown",
   "metadata": {},
   "source": [
    "## Bosques aleatorios"
   ]
  },
  {
   "cell_type": "markdown",
   "metadata": {},
   "source": [
    "### Con todas las variables"
   ]
  },
  {
   "cell_type": "code",
   "execution_count": 183,
   "metadata": {},
   "outputs": [],
   "source": [
    "X_train_soloserv, X_test_soloserv, y_train_soloserv, y_test_soloserv = train_test_split(X_soloprest_MA, y_soloprest_MA, test_size=0.33, random_state=42,\n",
    "                                                               stratify=y_soloprest_MA)"
   ]
  },
  {
   "cell_type": "code",
   "execution_count": 184,
   "metadata": {},
   "outputs": [
    {
     "name": "stdout",
     "output_type": "stream",
     "text": [
      "Solo prestacion de servicios\n",
      "Accuracy para Bosque Aleatorio con validación cruzada: 0.7609 \n"
     ]
    }
   ],
   "source": [
    "# Escalador de datos\n",
    "scaler = preprocessing.StandardScaler().fit(X_train_soloserv)\n",
    "# Validacion cruzada\n",
    "arb = RandomForestClassifier(random_state=42)\n",
    "vc = cross_val_score(arb, scaler.transform(X_train_soloserv), y_train_soloserv, cv = 5, scoring = \"accuracy\")\n",
    "accuracy = vc.mean()\n",
    "print(\"Solo prestacion de servicios\")\n",
    "print(\"Accuracy para Bosque Aleatorio con validación cruzada: {:1.4f} \".format(accuracy) )"
   ]
  },
  {
   "cell_type": "code",
   "execution_count": 185,
   "metadata": {},
   "outputs": [
    {
     "data": {
      "text/plain": [
       "array([0.76094527, 0.76517413, 0.76293532, 0.75124378, 0.7641791 ])"
      ]
     },
     "execution_count": 185,
     "metadata": {},
     "output_type": "execute_result"
    }
   ],
   "source": [
    "vc"
   ]
  },
  {
   "cell_type": "code",
   "execution_count": 186,
   "metadata": {},
   "outputs": [
    {
     "name": "stdout",
     "output_type": "stream",
     "text": [
      "Accuracy del test: 0.8317\n",
      "La sensitividad(recall) del test es: 0.7737\n"
     ]
    }
   ],
   "source": [
    "forest_soloserv, X_test_soloserv, y_test_soloserv, y_pred_forest_soloserv, scaler_soloserv = random_forest(X_noprestacion_dum, y_noprestacion)"
   ]
  },
  {
   "cell_type": "code",
   "execution_count": 188,
   "metadata": {
    "scrolled": true
   },
   "outputs": [
    {
     "data": {
      "text/html": [
       "<div>\n",
       "<style scoped>\n",
       "    .dataframe tbody tr th:only-of-type {\n",
       "        vertical-align: middle;\n",
       "    }\n",
       "\n",
       "    .dataframe tbody tr th {\n",
       "        vertical-align: top;\n",
       "    }\n",
       "\n",
       "    .dataframe thead th {\n",
       "        text-align: right;\n",
       "    }\n",
       "</style>\n",
       "<table border=\"1\" class=\"dataframe\">\n",
       "  <thead>\n",
       "    <tr style=\"text-align: right;\">\n",
       "      <th>Predicted</th>\n",
       "      <th>No</th>\n",
       "      <th>Sí</th>\n",
       "    </tr>\n",
       "    <tr>\n",
       "      <th>True</th>\n",
       "      <th></th>\n",
       "      <th></th>\n",
       "    </tr>\n",
       "  </thead>\n",
       "  <tbody>\n",
       "    <tr>\n",
       "      <th>No</th>\n",
       "      <td>7286</td>\n",
       "      <td>1149</td>\n",
       "    </tr>\n",
       "    <tr>\n",
       "      <th>Sí</th>\n",
       "      <td>1058</td>\n",
       "      <td>3617</td>\n",
       "    </tr>\n",
       "  </tbody>\n",
       "</table>\n",
       "</div>"
      ],
      "text/plain": [
       "Predicted    No    Sí\n",
       "True                 \n",
       "No         7286  1149\n",
       "Sí         1058  3617"
      ]
     },
     "execution_count": 188,
     "metadata": {},
     "output_type": "execute_result"
    }
   ],
   "source": [
    "plot_CM(y_test_soloserv, y_pred_forest_soloserv)"
   ]
  },
  {
   "cell_type": "code",
   "execution_count": 189,
   "metadata": {},
   "outputs": [
    {
     "name": "stdout",
     "output_type": "stream",
     "text": [
      "Model: ROC AUC = 0.913\n"
     ]
    },
    {
     "data": {
      "image/png": "[encoded data removed]",
      "text/plain": [
       "<Figure size 432x288 with 1 Axes>"
      ]
     },
     "metadata": {
      "needs_background": "light"
     },
     "output_type": "display_data"
    }
   ],
   "source": [
    "plot_ROC(forest_soloserv, X_test_soloserv, y_test_soloserv, scaler_soloserv, model_name='Bosque aleatorio ,todas las variables, \\n solo prestacion de servicios')"
   ]
  },
  {
   "cell_type": "markdown",
   "metadata": {},
   "source": [
    "### Con las 5 seleccionadas"
   ]
  },
  {
   "cell_type": "code",
   "execution_count": 190,
   "metadata": {},
   "outputs": [],
   "source": [
    "cols = ['cantidad de palabras objeto a contratar',\n",
    "       'Fecha Firma Contrato - Fecha Cargue Secop',\n",
    "       'Plazo en dias de Ejec del Contrato',\n",
    "       'Cuantia Contrato',\n",
    "       'mismo detalle objeto a contratar despues de firma_1']"
   ]
  },
  {
   "cell_type": "code",
   "execution_count": 195,
   "metadata": {},
   "outputs": [],
   "source": [
    "X_soloserv_fselec = X_soloprest_MA[cols]"
   ]
  },
  {
   "cell_type": "code",
   "execution_count": 198,
   "metadata": {},
   "outputs": [],
   "source": [
    "X_train_soloserv_sel, X_test_soloserv_sel, y_train_soloserv_sel, y_test_soloserv_sel = train_test_split(X_soloserv_fselec, y_soloprest_MA,\n",
    "                                                                                                        test_size=0.33, random_state=42,stratify=y_soloprest_MA)"
   ]
  },
  {
   "cell_type": "code",
   "execution_count": 199,
   "metadata": {},
   "outputs": [
    {
     "data": {
      "text/plain": [
       "(20100, 5)"
      ]
     },
     "execution_count": 199,
     "metadata": {},
     "output_type": "execute_result"
    }
   ],
   "source": [
    "X_train_soloserv_sel.shape"
   ]
  },
  {
   "cell_type": "code",
   "execution_count": 200,
   "metadata": {},
   "outputs": [
    {
     "name": "stdout",
     "output_type": "stream",
     "text": [
      "Con solo 5 variables\n",
      "Accuracy para Bosque Aleatorio con validación cruzada: 0.7320 \n"
     ]
    }
   ],
   "source": [
    "# Escalador de datos\n",
    "scaler_soloserv_sel = preprocessing.StandardScaler().fit(X_train_soloserv_sel)\n",
    "# Validacion cruzada\n",
    "arb = RandomForestClassifier(random_state=42)\n",
    "vc = cross_val_score(arb, scaler_soloserv_sel.transform(X_train_soloserv_sel), y_train_soloserv_sel, cv = 5, scoring = \"accuracy\")\n",
    "accuracy = vc.mean()\n",
    "print(\"Con solo 5 variables\")\n",
    "print(\"Accuracy para Bosque Aleatorio con validación cruzada: {:1.4f} \".format(accuracy) )"
   ]
  },
  {
   "cell_type": "code",
   "execution_count": 201,
   "metadata": {},
   "outputs": [
    {
     "data": {
      "text/plain": [
       "array([0.72761194, 0.72935323, 0.74228856, 0.71915423, 0.74154229])"
      ]
     },
     "execution_count": 201,
     "metadata": {},
     "output_type": "execute_result"
    }
   ],
   "source": [
    "vc"
   ]
  },
  {
   "cell_type": "code",
   "execution_count": 202,
   "metadata": {},
   "outputs": [
    {
     "name": "stdout",
     "output_type": "stream",
     "text": [
      "Accuracy del test: 0.7384\n",
      "La sensitividad(recall) del test es: 0.7382\n"
     ]
    }
   ],
   "source": [
    "forest_soloserv_sel, X_test_soloserv_sel, y_test_soloserv_sel, y_pred_forest_soloserv_sel, scaler_soloserv_sel = random_forest(X_soloserv_fselec, y_soloprest_MA)"
   ]
  },
  {
   "cell_type": "code",
   "execution_count": 203,
   "metadata": {
    "scrolled": true
   },
   "outputs": [
    {
     "data": {
      "text/html": [
       "<div>\n",
       "<style scoped>\n",
       "    .dataframe tbody tr th:only-of-type {\n",
       "        vertical-align: middle;\n",
       "    }\n",
       "\n",
       "    .dataframe tbody tr th {\n",
       "        vertical-align: top;\n",
       "    }\n",
       "\n",
       "    .dataframe thead th {\n",
       "        text-align: right;\n",
       "    }\n",
       "</style>\n",
       "<table border=\"1\" class=\"dataframe\">\n",
       "  <thead>\n",
       "    <tr style=\"text-align: right;\">\n",
       "      <th>Predicted</th>\n",
       "      <th>No</th>\n",
       "      <th>Sí</th>\n",
       "    </tr>\n",
       "    <tr>\n",
       "      <th>True</th>\n",
       "      <th></th>\n",
       "      <th></th>\n",
       "    </tr>\n",
       "  </thead>\n",
       "  <tbody>\n",
       "    <tr>\n",
       "      <th>No</th>\n",
       "      <td>3324</td>\n",
       "      <td>1176</td>\n",
       "    </tr>\n",
       "    <tr>\n",
       "      <th>Sí</th>\n",
       "      <td>1178</td>\n",
       "      <td>3322</td>\n",
       "    </tr>\n",
       "  </tbody>\n",
       "</table>\n",
       "</div>"
      ],
      "text/plain": [
       "Predicted    No    Sí\n",
       "True                 \n",
       "No         3324  1176\n",
       "Sí         1178  3322"
      ]
     },
     "execution_count": 203,
     "metadata": {},
     "output_type": "execute_result"
    }
   ],
   "source": [
    "plot_CM(y_test_soloserv_sel, y_pred_forest_soloserv_sel)"
   ]
  },
  {
   "cell_type": "code",
   "execution_count": 204,
   "metadata": {
    "scrolled": true
   },
   "outputs": [
    {
     "name": "stdout",
     "output_type": "stream",
     "text": [
      "Model: ROC AUC = 0.829\n"
     ]
    },
    {
     "data": {
      "image/png": "[encoded data removed]",
      "text/plain": [
       "<Figure size 432x288 with 1 Axes>"
      ]
     },
     "metadata": {
      "needs_background": "light"
     },
     "output_type": "display_data"
    }
   ],
   "source": [
    "plot_ROC(forest_soloserv_sel, X_test_soloserv_sel, y_test_soloserv_sel, scaler_soloserv_sel, model_name='Bosque aleatorio ,5 variables, \\n solo prestacion de servicios')"
   ]
  },
  {
   "cell_type": "markdown",
   "metadata": {},
   "source": [
    "---"
   ]
  },
  {
   "cell_type": "markdown",
   "metadata": {},
   "source": [
    "# 2. Modelos para output `Adicion en Valor`"
   ]
  },
  {
   "cell_type": "markdown",
   "metadata": {},
   "source": [
    "## Bosque Aleatorio"
   ]
  },
  {
   "cell_type": "markdown",
   "metadata": {},
   "source": [
    "### Con todas las variables"
   ]
  },
  {
   "cell_type": "code",
   "execution_count": 205,
   "metadata": {},
   "outputs": [
    {
     "data": {
      "text/plain": [
       "['Tipo de Proceso',\n",
       " 'Causal de Otras Formas de Contratacion Directa',\n",
       " 'Regimen de Contratacion',\n",
       " 'Tipo de Contrato',\n",
       " 'Nombre Grupo',\n",
       " 'Dpto y Muni Contratista',\n",
       " 'EsPostConflicto',\n",
       " 'Def Origen Recur',\n",
       " 'mismo detalle objeto a contratar despues de firma',\n",
       " 'Mes Firma Contrato',\n",
       " 'Dia del Mes Firma Contrato',\n",
       " 'Dia de la Semana Firma Contrato']"
      ]
     },
     "execution_count": 205,
     "metadata": {},
     "output_type": "execute_result"
    }
   ],
   "source": [
    "vars_categoricas"
   ]
  },
  {
   "cell_type": "code",
   "execution_count": 224,
   "metadata": {},
   "outputs": [],
   "source": [
    "#El termino \"_AV\" al final se refiere a Adiciones en Valor\n",
    "df_downsampled_AV = balance(df, \"Adicion en Valor\")\n",
    "\n",
    "X_down = pd.get_dummies(data = df_downsampled_AV, columns =  vars_categoricas+[\"Tipo de Contrato\"])\n",
    "# Quitamos las variables relacionadas con adiciones y sancion\n",
    "X_down = X_down.drop(columns = vars_a_excluir + ['Marc Adiciones','Adicion en Valor','Adicion en Tiempo',\n",
    "                                                'Valor Total de Adiciones','Marc Sancion','Valor Sancion'])\n",
    "\n",
    "y2_down_AV = df_downsampled_AV[\"Adicion en Valor\"]"
   ]
  },
  {
   "cell_type": "code",
   "execution_count": 225,
   "metadata": {},
   "outputs": [
    {
     "data": {
      "text/plain": [
       "(283928, 221)"
      ]
     },
     "execution_count": 225,
     "metadata": {},
     "output_type": "execute_result"
    }
   ],
   "source": [
    "X_down_dum = X_down.drop(columns = [\"Tiempo Adiciones (Dias)\",'Ultima Actualizacion - Fecha Fin Ejec Contrato'])\n",
    "X_down_dum.shape"
   ]
  },
  {
   "cell_type": "markdown",
   "metadata": {},
   "source": [
    "### Selección de variables con Random Forest"
   ]
  },
  {
   "cell_type": "code",
   "execution_count": 226,
   "metadata": {},
   "outputs": [
    {
     "name": "stdout",
     "output_type": "stream",
     "text": [
      "Variables estadísticamente significativas: \n",
      "['cantidad de palabras objeto a contratar', 'cantidad de palabras objeto del contrato a la Firma', 'Fecha Firma Contrato - Fecha Cargue Secop', 'Fecha Ini Ejec - Fecha Firma Contrato', 'Plazo en dias de Ejec del Contrato', 'Cuantia Contrato', 'Tipo de Proceso_Régimen Especial', 'Causal de Otras Formas de Contratacion Directa_Ninguna', 'Causal de Otras Formas de Contratacion Directa_Prestación de Servicios Profesionales y de Apoyo a la Gestión (Literal H)', 'Regimen de Contratacion_Estatuto General de Contratación', 'Tipo de Contrato_Prestación de Servicios', 'Nombre Grupo_[F] Servicios', 'Dpto y Muni Contratista_Bogotá D.C.', 'Dpto y Muni Contratista_Cundinamarca', 'Def Origen Recur_0', 'Def Origen Recur_1', 'mismo detalle objeto a contratar despues de firma_0', 'mismo detalle objeto a contratar despues de firma_1', 'Mes Firma Contrato_Abril', 'Mes Firma Contrato_Agosto', 'Mes Firma Contrato_Diciembre', 'Mes Firma Contrato_Enero', 'Mes Firma Contrato_Febrero', 'Mes Firma Contrato_Julio', 'Mes Firma Contrato_Junio', 'Mes Firma Contrato_Marzo', 'Mes Firma Contrato_Mayo', 'Mes Firma Contrato_Noviembre', 'Mes Firma Contrato_Octubre', 'Mes Firma Contrato_Septiembre', 'Dia del Mes Firma Contrato_1', 'Dia del Mes Firma Contrato_2', 'Dia del Mes Firma Contrato_4', 'Dia del Mes Firma Contrato_11', 'Dia de la Semana Firma Contrato_Jueves', 'Dia de la Semana Firma Contrato_Lunes', 'Dia de la Semana Firma Contrato_Martes', 'Dia de la Semana Firma Contrato_Miércoles', 'Dia de la Semana Firma Contrato_Viernes', 'Tipo de Contrato_Prestación de Servicios']\n"
     ]
    }
   ],
   "source": [
    "# Tarda un poco\n",
    "X_fselec = feature_selection(X_down_dum, y2_down_AV)"
   ]
  },
  {
   "cell_type": "code",
   "execution_count": 227,
   "metadata": {},
   "outputs": [
    {
     "data": {
      "text/plain": [
       "40"
      ]
     },
     "execution_count": 227,
     "metadata": {},
     "output_type": "execute_result"
    }
   ],
   "source": [
    "len(X_fselec.columns)"
   ]
  },
  {
   "cell_type": "markdown",
   "metadata": {},
   "source": [
    "## Modelos con cantidad reducida de filas"
   ]
  },
  {
   "cell_type": "code",
   "execution_count": 228,
   "metadata": {},
   "outputs": [
    {
     "name": "stdout",
     "output_type": "stream",
     "text": [
      "Datos iniciales por clase\n",
      "1    141964\n",
      "0    141964\n",
      "Name: Adicion en Valor, dtype: int64\n",
      "Nueva cantidad de datos por clase:\n",
      "1    15000\n",
      "0    15000\n",
      "Name: Adicion en Valor, dtype: int64\n",
      "Dimension de matriz X:  (30000, 221)\n"
     ]
    }
   ],
   "source": [
    "print(\"Datos iniciales por clase\")\n",
    "print(y2_down_AV.value_counts())\n",
    "N = 15000 # 150000 por clase\n",
    "X_AV, y_AV = small_balanced_sample(X_down_dum,y2_down_AV,N)\n",
    "print(\"Nueva cantidad de datos por clase:\")\n",
    "print(y_AV.value_counts())\n",
    "print(\"Dimension de matriz X: \",X_AV.shape)"
   ]
  },
  {
   "cell_type": "markdown",
   "metadata": {},
   "source": [
    "### Con todas las variables"
   ]
  },
  {
   "cell_type": "code",
   "execution_count": 229,
   "metadata": {},
   "outputs": [],
   "source": [
    "X_train_AV, X_test_AV, y_train_AV, y_test_AV = train_test_split(X_AV, y_AV, test_size=0.33, random_state=42)"
   ]
  },
  {
   "cell_type": "code",
   "execution_count": 230,
   "metadata": {},
   "outputs": [
    {
     "name": "stdout",
     "output_type": "stream",
     "text": [
      "Accuracy para Regresión Logística con validación cruzada: 0.6404 \n"
     ]
    }
   ],
   "source": [
    "# Escalador de datos\n",
    "scaler = preprocessing.StandardScaler().fit(X_train_AV)\n",
    "# Validacion cruzada\n",
    "reglog = LogisticRegression(max_iter = 500)\n",
    "vc = cross_val_score(reglog, scaler.transform(X_train_AV), y_train_AV, cv = 5, scoring = \"accuracy\")\n",
    "accuracy = vc.mean()\n",
    "print(\"Accuracy para Regresión Logística con validación cruzada: {:1.4f} \".format(accuracy) )"
   ]
  },
  {
   "cell_type": "code",
   "execution_count": 231,
   "metadata": {},
   "outputs": [
    {
     "data": {
      "text/plain": [
       "LogisticRegression(max_iter=500)"
      ]
     },
     "execution_count": 231,
     "metadata": {},
     "output_type": "execute_result"
    }
   ],
   "source": [
    "reglog = LogisticRegression(max_iter=500)\n",
    "reglog.fit(scaler.transform(X_train_AV),y_train_AV)"
   ]
  },
  {
   "cell_type": "code",
   "execution_count": 232,
   "metadata": {},
   "outputs": [
    {
     "name": "stdout",
     "output_type": "stream",
     "text": [
      "El accuracy del test es: 0.6389\n",
      "La sensitividad(recall) del test es: 0.6931\n"
     ]
    }
   ],
   "source": [
    "y_pred = reglog.predict(scaler.transform(X_test_AV))\n",
    "print(\"El accuracy del test es: {:1.4f}\".format( accuracy_score(y_test_AV, y_pred) ))\n",
    "print(\"La sensitividad(recall) del test es: {:1.4f}\".format( recall_score(y_test_AV, y_pred) ))"
   ]
  },
  {
   "cell_type": "code",
   "execution_count": 233,
   "metadata": {},
   "outputs": [
    {
     "data": {
      "text/html": [
       "<div>\n",
       "<style scoped>\n",
       "    .dataframe tbody tr th:only-of-type {\n",
       "        vertical-align: middle;\n",
       "    }\n",
       "\n",
       "    .dataframe tbody tr th {\n",
       "        vertical-align: top;\n",
       "    }\n",
       "\n",
       "    .dataframe thead th {\n",
       "        text-align: right;\n",
       "    }\n",
       "</style>\n",
       "<table border=\"1\" class=\"dataframe\">\n",
       "  <thead>\n",
       "    <tr style=\"text-align: right;\">\n",
       "      <th>Predicted</th>\n",
       "      <th>No</th>\n",
       "      <th>Sí</th>\n",
       "    </tr>\n",
       "    <tr>\n",
       "      <th>True</th>\n",
       "      <th></th>\n",
       "      <th></th>\n",
       "    </tr>\n",
       "  </thead>\n",
       "  <tbody>\n",
       "    <tr>\n",
       "      <th>No</th>\n",
       "      <td>0.584730</td>\n",
       "      <td>0.415270</td>\n",
       "    </tr>\n",
       "    <tr>\n",
       "      <th>Sí</th>\n",
       "      <td>0.306931</td>\n",
       "      <td>0.693069</td>\n",
       "    </tr>\n",
       "  </tbody>\n",
       "</table>\n",
       "</div>"
      ],
      "text/plain": [
       "Predicted        No        Sí\n",
       "True                         \n",
       "No         0.584730  0.415270\n",
       "Sí         0.306931  0.693069"
      ]
     },
     "execution_count": 233,
     "metadata": {},
     "output_type": "execute_result"
    }
   ],
   "source": [
    "plot_CM(y_test_AV, y_pred,norm='true')"
   ]
  },
  {
   "cell_type": "code",
   "execution_count": 234,
   "metadata": {},
   "outputs": [
    {
     "name": "stdout",
     "output_type": "stream",
     "text": [
      "Model: ROC AUC = 0.687\n"
     ]
    },
    {
     "data": {
      "image/png": "[encoded data removed]",
      "text/plain": [
       "<Figure size 432x288 with 1 Axes>"
      ]
     },
     "metadata": {
      "needs_background": "light"
     },
     "output_type": "display_data"
    }
   ],
   "source": [
    "plot_ROC(reglog, X_test_AV, y_test_AV, scaler, model_name='Regresión logítica todas las variables, \\n'+str(N)+\" datos por clase\")"
   ]
  },
  {
   "cell_type": "markdown",
   "metadata": {},
   "source": [
    "### Con primera selección de variables"
   ]
  },
  {
   "cell_type": "code",
   "execution_count": 237,
   "metadata": {},
   "outputs": [],
   "source": [
    "# Primero reducimos la cantidad de filas \n",
    "N = 15000 # 150000 por clase\n",
    "X_fselec_AV, y_fselec_AV = small_balanced_sample(X_fselec,y2_down_AV,N)"
   ]
  },
  {
   "cell_type": "code",
   "execution_count": 239,
   "metadata": {},
   "outputs": [
    {
     "name": "stdout",
     "output_type": "stream",
     "text": [
      "Accuracy para Regresión Logística con validación cruzada, 1era SELECCION DE VARIABLES: 0.5008 \n"
     ]
    }
   ],
   "source": [
    "# Escalador de datos\n",
    "scaler2 = preprocessing.StandardScaler().fit(X_fselec_AV)\n",
    "# Validacion cruzada\n",
    "reglog2 = LogisticRegression(max_iter = 500)\n",
    "vc = cross_val_score(reglog2, scaler2.transform(X_fselec_AV), y_fselec_AV, cv = 5, scoring = \"accuracy\")\n",
    "accuracy = vc.mean()\n",
    "print(\"Accuracy para Regresión Logística con validación cruzada, 1era SELECCION DE VARIABLES: {:1.4f} \".format(accuracy) )"
   ]
  },
  {
   "cell_type": "code",
   "execution_count": 240,
   "metadata": {},
   "outputs": [
    {
     "name": "stdout",
     "output_type": "stream",
     "text": [
      "Accuracy para Regresión Logística con validación cruzada: 0.5079 \n",
      "El accuracy del test es: 0.4987\n",
      "La sensitividad(recall) del test es: 0.5200\n"
     ]
    }
   ],
   "source": [
    "regLog2, X_test2_AV, y_test2_AV, y_pred2_AV, scaler2_AV = reg_log(X_fselec_AV, y_fselec_AV)"
   ]
  },
  {
   "cell_type": "code",
   "execution_count": 241,
   "metadata": {},
   "outputs": [
    {
     "data": {
      "text/html": [
       "<div>\n",
       "<style scoped>\n",
       "    .dataframe tbody tr th:only-of-type {\n",
       "        vertical-align: middle;\n",
       "    }\n",
       "\n",
       "    .dataframe tbody tr th {\n",
       "        vertical-align: top;\n",
       "    }\n",
       "\n",
       "    .dataframe thead th {\n",
       "        text-align: right;\n",
       "    }\n",
       "</style>\n",
       "<table border=\"1\" class=\"dataframe\">\n",
       "  <thead>\n",
       "    <tr style=\"text-align: right;\">\n",
       "      <th>Predicted</th>\n",
       "      <th>No</th>\n",
       "      <th>Sí</th>\n",
       "    </tr>\n",
       "    <tr>\n",
       "      <th>True</th>\n",
       "      <th></th>\n",
       "      <th></th>\n",
       "    </tr>\n",
       "  </thead>\n",
       "  <tbody>\n",
       "    <tr>\n",
       "      <th>No</th>\n",
       "      <td>0.477333</td>\n",
       "      <td>0.522667</td>\n",
       "    </tr>\n",
       "    <tr>\n",
       "      <th>Sí</th>\n",
       "      <td>0.480000</td>\n",
       "      <td>0.520000</td>\n",
       "    </tr>\n",
       "  </tbody>\n",
       "</table>\n",
       "</div>"
      ],
      "text/plain": [
       "Predicted        No        Sí\n",
       "True                         \n",
       "No         0.477333  0.522667\n",
       "Sí         0.480000  0.520000"
      ]
     },
     "execution_count": 241,
     "metadata": {},
     "output_type": "execute_result"
    }
   ],
   "source": [
    "plot_CM(y_test2_AV, y_pred2_AV,norm='true')"
   ]
  },
  {
   "cell_type": "code",
   "execution_count": 242,
   "metadata": {
    "scrolled": true
   },
   "outputs": [
    {
     "name": "stdout",
     "output_type": "stream",
     "text": [
      "Model: ROC AUC = 0.502\n"
     ]
    },
    {
     "data": {
      "image/png": "[encoded data removed]",
      "text/plain": [
       "<Figure size 432x288 with 1 Axes>"
      ]
     },
     "metadata": {
      "needs_background": "light"
     },
     "output_type": "display_data"
    }
   ],
   "source": [
    "plot_ROC(regLog2, X_test2_AV, y_test2_AV, scaler2_AV, model_name='Regresión logística con  1era selección de variables')"
   ]
  },
  {
   "cell_type": "markdown",
   "metadata": {},
   "source": [
    "## Bosques Aleatorios"
   ]
  },
  {
   "cell_type": "markdown",
   "metadata": {},
   "source": [
    "### Con todas las variables"
   ]
  },
  {
   "cell_type": "code",
   "execution_count": 243,
   "metadata": {},
   "outputs": [
    {
     "name": "stdout",
     "output_type": "stream",
     "text": [
      "(20100, 221) (20100,)\n"
     ]
    }
   ],
   "source": [
    "print(X_train_AV.shape, y_train_AV.shape)"
   ]
  },
  {
   "cell_type": "code",
   "execution_count": 244,
   "metadata": {
    "scrolled": true
   },
   "outputs": [
    {
     "data": {
      "text/plain": [
       "array(['cantidad de palabras objeto a contratar',\n",
       "       'cantidad de palabras objeto del contrato a la Firma',\n",
       "       'Fecha Firma Contrato - Fecha Cargue Secop',\n",
       "       'Fecha Ini Ejec - Fecha Firma Contrato',\n",
       "       'Plazo en dias de Ejec del Contrato', 'Cuantia Contrato',\n",
       "       'Tipo de Proceso_Asociación Público Privada',\n",
       "       'Tipo de Proceso_Concurso de Méritos Abierto',\n",
       "       'Tipo de Proceso_Concurso de Méritos con Lista Corta',\n",
       "       'Tipo de Proceso_Contratación Directa (Ley 1150 de 2007)',\n",
       "       'Tipo de Proceso_Contratación Mínima Cuantía',\n",
       "       'Tipo de Proceso_Contratos y convenios con más de dos partes',\n",
       "       'Tipo de Proceso_Licitación Pública',\n",
       "       'Tipo de Proceso_Licitación obra pública',\n",
       "       'Tipo de Proceso_Régimen Especial',\n",
       "       'Tipo de Proceso_Selección Abreviada de Menor Cuantía (Ley 1150 de 2007)',\n",
       "       'Tipo de Proceso_Selección Abreviada del literal h del numeral 2 del artículo 2 de la Ley 1150 de 2007',\n",
       "       'Tipo de Proceso_Selección Abreviada servicios de Salud',\n",
       "       'Tipo de Proceso_Subasta',\n",
       "       'Causal de Otras Formas de Contratacion Directa_Arrendamiento o Adquisición de Inmuebles (Literal I)',\n",
       "       'Causal de Otras Formas de Contratacion Directa_Contratación de Bienes y Servicios en el Sector Defensa y en el DAS (Literal D)',\n",
       "       'Causal de Otras Formas de Contratacion Directa_Contratación de Empréstitos (Literal B)',\n",
       "       'Causal de Otras Formas de Contratacion Directa_Contratos Interadministrativos (Literal C)',\n",
       "       'Causal de Otras Formas de Contratacion Directa_Contratos de Encargo Fiduciario que Celebren Entidades Territoriales (Literal F)',\n",
       "       'Causal de Otras Formas de Contratacion Directa_Contratos para el Desarrollo de Actividades Científicas y Tecnológicas (Literal E)',\n",
       "       'Causal de Otras Formas de Contratacion Directa_Cuando no Exista Pluralidad de Oferentes en el Mercado (Literal G)',\n",
       "       'Causal de Otras Formas de Contratacion Directa_Ninguna',\n",
       "       'Causal de Otras Formas de Contratacion Directa_Prestación de Servicios Profesionales y de Apoyo a la Gestión (Literal H)',\n",
       "       'Causal de Otras Formas de Contratacion Directa_Urgencia Manifiesta (Literal A)',\n",
       "       'Regimen de Contratacion_Estatuto General de Contratación',\n",
       "       'Regimen de Contratacion_Ley 80 de 1993',\n",
       "       'Regimen de Contratacion_Régimen Especial',\n",
       "       'Tipo de Contrato_Acuerdo Marco',\n",
       "       'Tipo de Contrato_Agregación de Demanda',\n",
       "       'Tipo de Contrato_Arrendamiento', 'Tipo de Contrato_Comodato',\n",
       "       'Tipo de Contrato_Compraventa', 'Tipo de Contrato_Concesión',\n",
       "       'Tipo de Contrato_Consultoría', 'Tipo de Contrato_Crédito',\n",
       "       'Tipo de Contrato_Fiducia', 'Tipo de Contrato_Interventoría',\n",
       "       'Tipo de Contrato_No definido', 'Tipo de Contrato_Obra',\n",
       "       'Tipo de Contrato_Otro Tipo de Contrato',\n",
       "       'Tipo de Contrato_Prestación de Servicios',\n",
       "       'Tipo de Contrato_Suministro',\n",
       "       'Nombre Grupo_[A] Material Vivo Animal y Vegetal',\n",
       "       'Nombre Grupo_[B] Materias Primas',\n",
       "       'Nombre Grupo_[C] Maquinaria, Herramientas, Equipo Industrial y Vehículos',\n",
       "       'Nombre Grupo_[D] Componentes y Suministros',\n",
       "       'Nombre Grupo_[E] Productos de Uso Final',\n",
       "       'Nombre Grupo_[F] Servicios',\n",
       "       'Nombre Grupo_[G] Terrenos, Edificios, Estructuras y vías',\n",
       "       'Dpto y Muni Contratista_Alajuela',\n",
       "       'Dpto y Muni Contratista_Alaska',\n",
       "       'Dpto y Muni Contratista_Alsacia',\n",
       "       'Dpto y Muni Contratista_Amazonas',\n",
       "       'Dpto y Muni Contratista_Andalucía',\n",
       "       'Dpto y Muni Contratista_Antioquia',\n",
       "       'Dpto y Muni Contratista_Apure', 'Dpto y Muni Contratista_Arauca',\n",
       "       'Dpto y Muni Contratista_Arizona',\n",
       "       'Dpto y Muni Contratista_Atlántico',\n",
       "       'Dpto y Muni Contratista_Australian Capital Territory',\n",
       "       'Dpto y Muni Contratista_Azerbaiyán',\n",
       "       'Dpto y Muni Contratista_Badahsâr',\n",
       "       'Dpto y Muni Contratista_Baja-Normandía',\n",
       "       'Dpto y Muni Contratista_Balboa',\n",
       "       'Dpto y Muni Contratista_Barinas',\n",
       "       'Dpto y Muni Contratista_Bogotá D.C.',\n",
       "       'Dpto y Muni Contratista_Bolivar',\n",
       "       'Dpto y Muni Contratista_Bolívar',\n",
       "       'Dpto y Muni Contratista_Boyacá',\n",
       "       'Dpto y Muni Contratista_Buenos Aires',\n",
       "       'Dpto y Muni Contratista_Caldas',\n",
       "       'Dpto y Muni Contratista_California',\n",
       "       'Dpto y Muni Contratista_Caquetá',\n",
       "       'Dpto y Muni Contratista_Casanare',\n",
       "       'Dpto y Muni Contratista_Castilla-La Mancha',\n",
       "       'Dpto y Muni Contratista_Cat Island',\n",
       "       'Dpto y Muni Contratista_Cataluña',\n",
       "       'Dpto y Muni Contratista_Cauca', 'Dpto y Muni Contratista_Cesar',\n",
       "       'Dpto y Muni Contratista_Chocó',\n",
       "       'Dpto y Muni Contratista_Colombia',\n",
       "       'Dpto y Muni Contratista_Colorado',\n",
       "       'Dpto y Muni Contratista_Comunidad Valenciana',\n",
       "       'Dpto y Muni Contratista_Comunidad de Madrid',\n",
       "       'Dpto y Muni Contratista_Cundinamarca',\n",
       "       'Dpto y Muni Contratista_Córdoba',\n",
       "       'Dpto y Muni Contratista_Distrito Federal',\n",
       "       'Dpto y Muni Contratista_Estado de México',\n",
       "       'Dpto y Muni Contratista_Floggia',\n",
       "       'Dpto y Muni Contratista_Florida',\n",
       "       'Dpto y Muni Contratista_Georgia',\n",
       "       'Dpto y Muni Contratista_Guainía',\n",
       "       'Dpto y Muni Contratista_Guaviare',\n",
       "       'Dpto y Muni Contratista_Helsinki',\n",
       "       'Dpto y Muni Contratista_Huila',\n",
       "       'Dpto y Muni Contratista_Inglaterra',\n",
       "       'Dpto y Muni Contratista_Isla-de-Francia',\n",
       "       'Dpto y Muni Contratista_Kansas',\n",
       "       'Dpto y Muni Contratista_La Guajira',\n",
       "       'Dpto y Muni Contratista_La Rioja', 'Dpto y Muni Contratista_Lima',\n",
       "       'Dpto y Muni Contratista_Magdalena',\n",
       "       'Dpto y Muni Contratista_Manitoba',\n",
       "       'Dpto y Muni Contratista_Massachusetts',\n",
       "       'Dpto y Muni Contratista_Meta',\n",
       "       'Dpto y Muni Contratista_Minnesota',\n",
       "       'Dpto y Muni Contratista_Nairobi',\n",
       "       'Dpto y Muni Contratista_Nariño',\n",
       "       'Dpto y Muni Contratista_New Jersey',\n",
       "       'Dpto y Muni Contratista_New York',\n",
       "       'Dpto y Muni Contratista_No Definido',\n",
       "       'Dpto y Muni Contratista_Norte De Santander',\n",
       "       'Dpto y Muni Contratista_Nuevo León',\n",
       "       'Dpto y Muni Contratista_Ohio',\n",
       "       'Dpto y Muni Contratista_Otros Paises',\n",
       "       'Dpto y Muni Contratista_País Vasco-Euskadi',\n",
       "       'Dpto y Muni Contratista_Principado de Asturias',\n",
       "       'Dpto y Muni Contratista_Putumayo',\n",
       "       'Dpto y Muni Contratista_Qinghai',\n",
       "       'Dpto y Muni Contratista_Quebec',\n",
       "       'Dpto y Muni Contratista_Quindío',\n",
       "       'Dpto y Muni Contratista_Región Metropolitana',\n",
       "       'Dpto y Muni Contratista_Región de Antofagasta',\n",
       "       'Dpto y Muni Contratista_Región de Coquimbo',\n",
       "       'Dpto y Muni Contratista_Región de los Lagos',\n",
       "       'Dpto y Muni Contratista_Risaralda',\n",
       "       'Dpto y Muni Contratista_Salta',\n",
       "       'Dpto y Muni Contratista_San Andrés, Providencia y Santa Catalina',\n",
       "       'Dpto y Muni Contratista_San José',\n",
       "       'Dpto y Muni Contratista_Santa Cruz',\n",
       "       'Dpto y Muni Contratista_Santander',\n",
       "       'Dpto y Muni Contratista_Sonora',\n",
       "       'Dpto y Muni Contratista_South Dakota',\n",
       "       'Dpto y Muni Contratista_Sucre', 'Dpto y Muni Contratista_Taipei',\n",
       "       'Dpto y Muni Contratista_Tartu', 'Dpto y Muni Contratista_Texas',\n",
       "       'Dpto y Muni Contratista_Thurgau',\n",
       "       'Dpto y Muni Contratista_Tolima',\n",
       "       'Dpto y Muni Contratista_Valle del Cauca',\n",
       "       'Dpto y Muni Contratista_Vaupés',\n",
       "       'Dpto y Muni Contratista_Victoria',\n",
       "       'Dpto y Muni Contratista_Viena',\n",
       "       'Dpto y Muni Contratista_Washington',\n",
       "       'Dpto y Muni Contratista_Zûrich', 'EsPostConflicto_No Definido',\n",
       "       'EsPostConflicto_Si', 'Def Origen Recur_0', 'Def Origen Recur_1',\n",
       "       'mismo detalle objeto a contratar despues de firma_0',\n",
       "       'mismo detalle objeto a contratar despues de firma_1',\n",
       "       'Mes Firma Contrato_Abril', 'Mes Firma Contrato_Agosto',\n",
       "       'Mes Firma Contrato_Diciembre', 'Mes Firma Contrato_Enero',\n",
       "       'Mes Firma Contrato_Febrero', 'Mes Firma Contrato_Julio',\n",
       "       'Mes Firma Contrato_Junio', 'Mes Firma Contrato_Marzo',\n",
       "       'Mes Firma Contrato_Mayo', 'Mes Firma Contrato_Noviembre',\n",
       "       'Mes Firma Contrato_Octubre', 'Mes Firma Contrato_Septiembre',\n",
       "       'Dia del Mes Firma Contrato_1', 'Dia del Mes Firma Contrato_2',\n",
       "       'Dia del Mes Firma Contrato_3', 'Dia del Mes Firma Contrato_4',\n",
       "       'Dia del Mes Firma Contrato_5', 'Dia del Mes Firma Contrato_6',\n",
       "       'Dia del Mes Firma Contrato_7', 'Dia del Mes Firma Contrato_8',\n",
       "       'Dia del Mes Firma Contrato_9', 'Dia del Mes Firma Contrato_10',\n",
       "       'Dia del Mes Firma Contrato_11', 'Dia del Mes Firma Contrato_12',\n",
       "       'Dia del Mes Firma Contrato_13', 'Dia del Mes Firma Contrato_14',\n",
       "       'Dia del Mes Firma Contrato_15', 'Dia del Mes Firma Contrato_16',\n",
       "       'Dia del Mes Firma Contrato_17', 'Dia del Mes Firma Contrato_18',\n",
       "       'Dia del Mes Firma Contrato_19', 'Dia del Mes Firma Contrato_20',\n",
       "       'Dia del Mes Firma Contrato_21', 'Dia del Mes Firma Contrato_22',\n",
       "       'Dia del Mes Firma Contrato_23', 'Dia del Mes Firma Contrato_24',\n",
       "       'Dia del Mes Firma Contrato_25', 'Dia del Mes Firma Contrato_26',\n",
       "       'Dia del Mes Firma Contrato_27', 'Dia del Mes Firma Contrato_28',\n",
       "       'Dia del Mes Firma Contrato_29', 'Dia del Mes Firma Contrato_30',\n",
       "       'Dia del Mes Firma Contrato_31',\n",
       "       'Dia de la Semana Firma Contrato_Domingo',\n",
       "       'Dia de la Semana Firma Contrato_Jueves',\n",
       "       'Dia de la Semana Firma Contrato_Lunes',\n",
       "       'Dia de la Semana Firma Contrato_Martes',\n",
       "       'Dia de la Semana Firma Contrato_Miércoles',\n",
       "       'Dia de la Semana Firma Contrato_Sábado',\n",
       "       'Dia de la Semana Firma Contrato_Viernes',\n",
       "       'Tipo de Contrato_Acuerdo Marco',\n",
       "       'Tipo de Contrato_Agregación de Demanda',\n",
       "       'Tipo de Contrato_Arrendamiento', 'Tipo de Contrato_Comodato',\n",
       "       'Tipo de Contrato_Compraventa', 'Tipo de Contrato_Concesión',\n",
       "       'Tipo de Contrato_Consultoría', 'Tipo de Contrato_Crédito',\n",
       "       'Tipo de Contrato_Fiducia', 'Tipo de Contrato_Interventoría',\n",
       "       'Tipo de Contrato_No definido', 'Tipo de Contrato_Obra',\n",
       "       'Tipo de Contrato_Otro Tipo de Contrato',\n",
       "       'Tipo de Contrato_Prestación de Servicios',\n",
       "       'Tipo de Contrato_Suministro'], dtype=object)"
      ]
     },
     "execution_count": 244,
     "metadata": {},
     "output_type": "execute_result"
    }
   ],
   "source": [
    "np.array(X_train_AV.columns)"
   ]
  },
  {
   "cell_type": "code",
   "execution_count": 245,
   "metadata": {},
   "outputs": [
    {
     "name": "stdout",
     "output_type": "stream",
     "text": [
      "Accuracy para Bosque Aleatorio con validación cruzada: 0.7708 \n"
     ]
    }
   ],
   "source": [
    "# Escalador de datos\n",
    "scaler = preprocessing.StandardScaler().fit(X_train_AV)\n",
    "# Validacion cruzada\n",
    "arb = RandomForestClassifier(random_state=42)\n",
    "vc = cross_val_score(arb, scaler.transform(X_train_AV), y_train_AV, cv = 5, scoring = \"accuracy\")\n",
    "accuracy = vc.mean()\n",
    "print(\"Accuracy para Bosque Aleatorio con validación cruzada: {:1.4f} \".format(accuracy) )"
   ]
  },
  {
   "cell_type": "code",
   "execution_count": 246,
   "metadata": {},
   "outputs": [
    {
     "data": {
      "text/plain": [
       "array([0.77164179, 0.76616915, 0.7778607 , 0.76691542, 0.77164179])"
      ]
     },
     "execution_count": 246,
     "metadata": {},
     "output_type": "execute_result"
    }
   ],
   "source": [
    "vc"
   ]
  },
  {
   "cell_type": "code",
   "execution_count": 247,
   "metadata": {},
   "outputs": [
    {
     "data": {
      "text/plain": [
       "221"
      ]
     },
     "execution_count": 247,
     "metadata": {},
     "output_type": "execute_result"
    }
   ],
   "source": [
    "X_AV.shape[1]"
   ]
  },
  {
   "cell_type": "code",
   "execution_count": 248,
   "metadata": {
    "scrolled": true
   },
   "outputs": [
    {
     "name": "stdout",
     "output_type": "stream",
     "text": [
      "Accuracy del test: 0.7768\n",
      "La sensitividad(recall) del test es: 0.7818\n"
     ]
    }
   ],
   "source": [
    "forest, X_test, y_test, y_pred_forest, scaler = random_forest(X_AV, y_AV)"
   ]
  },
  {
   "cell_type": "code",
   "execution_count": 249,
   "metadata": {
    "scrolled": true
   },
   "outputs": [
    {
     "data": {
      "text/html": [
       "<div>\n",
       "<style scoped>\n",
       "    .dataframe tbody tr th:only-of-type {\n",
       "        vertical-align: middle;\n",
       "    }\n",
       "\n",
       "    .dataframe tbody tr th {\n",
       "        vertical-align: top;\n",
       "    }\n",
       "\n",
       "    .dataframe thead th {\n",
       "        text-align: right;\n",
       "    }\n",
       "</style>\n",
       "<table border=\"1\" class=\"dataframe\">\n",
       "  <thead>\n",
       "    <tr style=\"text-align: right;\">\n",
       "      <th>Predicted</th>\n",
       "      <th>No</th>\n",
       "      <th>Sí</th>\n",
       "    </tr>\n",
       "    <tr>\n",
       "      <th>True</th>\n",
       "      <th></th>\n",
       "      <th></th>\n",
       "    </tr>\n",
       "  </thead>\n",
       "  <tbody>\n",
       "    <tr>\n",
       "      <th>No</th>\n",
       "      <td>3473</td>\n",
       "      <td>1027</td>\n",
       "    </tr>\n",
       "    <tr>\n",
       "      <th>Sí</th>\n",
       "      <td>982</td>\n",
       "      <td>3518</td>\n",
       "    </tr>\n",
       "  </tbody>\n",
       "</table>\n",
       "</div>"
      ],
      "text/plain": [
       "Predicted    No    Sí\n",
       "True                 \n",
       "No         3473  1027\n",
       "Sí          982  3518"
      ]
     },
     "execution_count": 249,
     "metadata": {},
     "output_type": "execute_result"
    }
   ],
   "source": [
    "plot_CM(y_test, y_pred_forest)"
   ]
  },
  {
   "cell_type": "code",
   "execution_count": 250,
   "metadata": {},
   "outputs": [
    {
     "name": "stdout",
     "output_type": "stream",
     "text": [
      "Model: ROC AUC = 0.868\n"
     ]
    },
    {
     "data": {
      "image/png": "[encoded data removed]",
      "text/plain": [
       "<Figure size 432x288 with 1 Axes>"
      ]
     },
     "metadata": {
      "needs_background": "light"
     },
     "output_type": "display_data"
    }
   ],
   "source": [
    "plot_ROC(forest, X_test, y_test, scaler, model_name='Bosque aleatorio con todas las variables')"
   ]
  },
  {
   "cell_type": "markdown",
   "metadata": {},
   "source": [
    "### Con primera selección de variables"
   ]
  },
  {
   "cell_type": "code",
   "execution_count": 252,
   "metadata": {},
   "outputs": [
    {
     "name": "stdout",
     "output_type": "stream",
     "text": [
      "Accuracy del test: 0.5018\n",
      "La sensitividad(recall) del test es: 0.4887\n"
     ]
    }
   ],
   "source": [
    "# Con X_fselec_AV, y_fselec_AV\n",
    "N = 15000 # datos por clase\n",
    "X_fselec_AV, y_fselec_AV = small_balanced_sample(X_fselec,y2_down_AV,N)\n",
    "# Resultados\n",
    "forest_s1, X_test_s1, y_test_s1, y_pred_forest_s1, scaler_s1 = random_forest(X_fselec_AV, y_fselec_AV)"
   ]
  },
  {
   "cell_type": "code",
   "execution_count": 253,
   "metadata": {
    "scrolled": true
   },
   "outputs": [
    {
     "name": "stdout",
     "output_type": "stream",
     "text": [
      "(30000, 40)\n",
      "['cantidad de palabras objeto a contratar'\n",
      " 'cantidad de palabras objeto del contrato a la Firma'\n",
      " 'Fecha Firma Contrato - Fecha Cargue Secop'\n",
      " 'Fecha Ini Ejec - Fecha Firma Contrato'\n",
      " 'Plazo en dias de Ejec del Contrato' 'Cuantia Contrato'\n",
      " 'Tipo de Proceso_Régimen Especial'\n",
      " 'Causal de Otras Formas de Contratacion Directa_Ninguna'\n",
      " 'Causal de Otras Formas de Contratacion Directa_Prestación de Servicios Profesionales y de Apoyo a la Gestión (Literal H)'\n",
      " 'Regimen de Contratacion_Estatuto General de Contratación'\n",
      " 'Tipo de Contrato_Prestación de Servicios' 'Nombre Grupo_[F] Servicios'\n",
      " 'Dpto y Muni Contratista_Bogotá D.C.'\n",
      " 'Dpto y Muni Contratista_Cundinamarca' 'Def Origen Recur_0'\n",
      " 'Def Origen Recur_1'\n",
      " 'mismo detalle objeto a contratar despues de firma_0'\n",
      " 'mismo detalle objeto a contratar despues de firma_1'\n",
      " 'Mes Firma Contrato_Abril' 'Mes Firma Contrato_Agosto'\n",
      " 'Mes Firma Contrato_Diciembre' 'Mes Firma Contrato_Enero'\n",
      " 'Mes Firma Contrato_Febrero' 'Mes Firma Contrato_Julio'\n",
      " 'Mes Firma Contrato_Junio' 'Mes Firma Contrato_Marzo'\n",
      " 'Mes Firma Contrato_Mayo' 'Mes Firma Contrato_Noviembre'\n",
      " 'Mes Firma Contrato_Octubre' 'Mes Firma Contrato_Septiembre'\n",
      " 'Dia del Mes Firma Contrato_1' 'Dia del Mes Firma Contrato_2'\n",
      " 'Dia del Mes Firma Contrato_4' 'Dia del Mes Firma Contrato_11'\n",
      " 'Dia de la Semana Firma Contrato_Jueves'\n",
      " 'Dia de la Semana Firma Contrato_Lunes'\n",
      " 'Dia de la Semana Firma Contrato_Martes'\n",
      " 'Dia de la Semana Firma Contrato_Miércoles'\n",
      " 'Dia de la Semana Firma Contrato_Viernes'\n",
      " 'Tipo de Contrato_Prestación de Servicios']\n"
     ]
    }
   ],
   "source": [
    "print(X_fselec_AV.shape)\n",
    "print(np.array(X_fselec_AV.columns))"
   ]
  },
  {
   "cell_type": "code",
   "execution_count": 254,
   "metadata": {
    "scrolled": false
   },
   "outputs": [
    {
     "data": {
      "text/html": [
       "<div>\n",
       "<style scoped>\n",
       "    .dataframe tbody tr th:only-of-type {\n",
       "        vertical-align: middle;\n",
       "    }\n",
       "\n",
       "    .dataframe tbody tr th {\n",
       "        vertical-align: top;\n",
       "    }\n",
       "\n",
       "    .dataframe thead th {\n",
       "        text-align: right;\n",
       "    }\n",
       "</style>\n",
       "<table border=\"1\" class=\"dataframe\">\n",
       "  <thead>\n",
       "    <tr style=\"text-align: right;\">\n",
       "      <th>Predicted</th>\n",
       "      <th>No</th>\n",
       "      <th>Sí</th>\n",
       "    </tr>\n",
       "    <tr>\n",
       "      <th>True</th>\n",
       "      <th></th>\n",
       "      <th></th>\n",
       "    </tr>\n",
       "  </thead>\n",
       "  <tbody>\n",
       "    <tr>\n",
       "      <th>No</th>\n",
       "      <td>2317</td>\n",
       "      <td>2183</td>\n",
       "    </tr>\n",
       "    <tr>\n",
       "      <th>Sí</th>\n",
       "      <td>2301</td>\n",
       "      <td>2199</td>\n",
       "    </tr>\n",
       "  </tbody>\n",
       "</table>\n",
       "</div>"
      ],
      "text/plain": [
       "Predicted    No    Sí\n",
       "True                 \n",
       "No         2317  2183\n",
       "Sí         2301  2199"
      ]
     },
     "execution_count": 254,
     "metadata": {},
     "output_type": "execute_result"
    }
   ],
   "source": [
    "plot_CM(y_test_s1, y_pred_forest_s1)"
   ]
  },
  {
   "cell_type": "code",
   "execution_count": 255,
   "metadata": {
    "scrolled": true
   },
   "outputs": [
    {
     "name": "stdout",
     "output_type": "stream",
     "text": [
      "Model: ROC AUC = 0.503\n"
     ]
    },
    {
     "data": {
      "image/png": "[encoded data removed]",
      "text/plain": [
       "<Figure size 432x288 with 1 Axes>"
      ]
     },
     "metadata": {
      "needs_background": "light"
     },
     "output_type": "display_data"
    }
   ],
   "source": [
    "plot_ROC(forest_s1, X_test_s1, y_test_s1, scaler_s1, model_name='Bosque aleatorio 1ra selección de variables')"
   ]
  },
  {
   "cell_type": "markdown",
   "metadata": {},
   "source": [
    "### Con selección específica de 5 variables"
   ]
  },
  {
   "cell_type": "code",
   "execution_count": 257,
   "metadata": {},
   "outputs": [],
   "source": [
    "cols = ['cantidad de palabras objeto a contratar',\n",
    "       'Fecha Firma Contrato - Fecha Cargue Secop',\n",
    "       'Plazo en dias de Ejec del Contrato',\n",
    "       'Cuantia Contrato',\n",
    "       'mismo detalle objeto a contratar despues de firma_1']"
   ]
  },
  {
   "cell_type": "code",
   "execution_count": 259,
   "metadata": {},
   "outputs": [],
   "source": [
    "X_fselec_3_AV = X_down_dum[cols]"
   ]
  },
  {
   "cell_type": "code",
   "execution_count": 52,
   "metadata": {},
   "outputs": [
    {
     "data": {
      "text/plain": [
       "(303916, 5)"
      ]
     },
     "execution_count": 52,
     "metadata": {},
     "output_type": "execute_result"
    }
   ],
   "source": [
    "X_fselec_3_AV.shape"
   ]
  },
  {
   "cell_type": "code",
   "execution_count": 261,
   "metadata": {},
   "outputs": [],
   "source": [
    "X_s3_AV, y_s3_AV = small_balanced_sample(X_fselec_3_AV,y2_down_AV,15000)"
   ]
  },
  {
   "cell_type": "code",
   "execution_count": 262,
   "metadata": {},
   "outputs": [
    {
     "name": "stdout",
     "output_type": "stream",
     "text": [
      "Accuracy para Bosque Aleatorio con validación cruzada: 0.7467 \n"
     ]
    }
   ],
   "source": [
    "X_train_s3_AV, X_test_s3_AV, y_train_s3_AV, y_test_s3_AV = train_test_split(X_s3_AV, y_s3_AV,\n",
    "                                                                            test_size=0.33, random_state=42)\n",
    "# Escalador de datos\n",
    "scaler_s3 = preprocessing.StandardScaler().fit(X_train_s3_AV)\n",
    "# Validacion cruzada\n",
    "arb = RandomForestClassifier(random_state=42)\n",
    "vc = cross_val_score(arb, scaler_s3.transform(X_train_s3_AV), y_train_s3_AV, cv = 5, scoring = \"accuracy\")\n",
    "accuracy = vc.mean()\n",
    "print(\"Accuracy para Bosque Aleatorio con validación cruzada: {:1.4f} \".format(accuracy) )"
   ]
  },
  {
   "cell_type": "code",
   "execution_count": 263,
   "metadata": {},
   "outputs": [
    {
     "data": {
      "text/plain": [
       "array([0.73557214, 0.74651741, 0.75820896, 0.74975124, 0.74328358])"
      ]
     },
     "execution_count": 263,
     "metadata": {},
     "output_type": "execute_result"
    }
   ],
   "source": [
    "vc"
   ]
  },
  {
   "cell_type": "code",
   "execution_count": 264,
   "metadata": {},
   "outputs": [
    {
     "data": {
      "text/plain": [
       "(20100, 5)"
      ]
     },
     "execution_count": 264,
     "metadata": {},
     "output_type": "execute_result"
    }
   ],
   "source": [
    "X_train_s3_AV.shape"
   ]
  },
  {
   "cell_type": "code",
   "execution_count": 265,
   "metadata": {},
   "outputs": [
    {
     "name": "stdout",
     "output_type": "stream",
     "text": [
      "Accuracy del test: 0.7450\n",
      "La sensitividad(recall) del test es: 0.7582\n"
     ]
    }
   ],
   "source": [
    "# Con X_fselec_AV, y_fselec_AV\n",
    "N = 15000 # datos por clase\n",
    "X_fselec_3_AV, y_fselec_3_AV = small_balanced_sample(X_fselec_3_AV,y2_down_AV,N)\n",
    "# Resultados\n",
    "forest_s3, X_test_s3, y_test_s3, y_pred_forest_s3, scaler_s3 = random_forest(X_fselec_3_AV, y_fselec_3_AV)"
   ]
  },
  {
   "cell_type": "code",
   "execution_count": 266,
   "metadata": {},
   "outputs": [
    {
     "data": {
      "text/html": [
       "<div>\n",
       "<style scoped>\n",
       "    .dataframe tbody tr th:only-of-type {\n",
       "        vertical-align: middle;\n",
       "    }\n",
       "\n",
       "    .dataframe tbody tr th {\n",
       "        vertical-align: top;\n",
       "    }\n",
       "\n",
       "    .dataframe thead th {\n",
       "        text-align: right;\n",
       "    }\n",
       "</style>\n",
       "<table border=\"1\" class=\"dataframe\">\n",
       "  <thead>\n",
       "    <tr style=\"text-align: right;\">\n",
       "      <th>Predicted</th>\n",
       "      <th>No</th>\n",
       "      <th>Sí</th>\n",
       "    </tr>\n",
       "    <tr>\n",
       "      <th>True</th>\n",
       "      <th></th>\n",
       "      <th></th>\n",
       "    </tr>\n",
       "  </thead>\n",
       "  <tbody>\n",
       "    <tr>\n",
       "      <th>No</th>\n",
       "      <td>3293</td>\n",
       "      <td>1207</td>\n",
       "    </tr>\n",
       "    <tr>\n",
       "      <th>Sí</th>\n",
       "      <td>1088</td>\n",
       "      <td>3412</td>\n",
       "    </tr>\n",
       "  </tbody>\n",
       "</table>\n",
       "</div>"
      ],
      "text/plain": [
       "Predicted    No    Sí\n",
       "True                 \n",
       "No         3293  1207\n",
       "Sí         1088  3412"
      ]
     },
     "execution_count": 266,
     "metadata": {},
     "output_type": "execute_result"
    }
   ],
   "source": [
    "plot_CM(y_test_s3, y_pred_forest_s3)"
   ]
  },
  {
   "cell_type": "code",
   "execution_count": 267,
   "metadata": {
    "scrolled": true
   },
   "outputs": [
    {
     "name": "stdout",
     "output_type": "stream",
     "text": [
      "Model: ROC AUC = 0.837\n"
     ]
    },
    {
     "data": {
      "image/png": "[encoded data removed]",
      "text/plain": [
       "<Figure size 432x288 with 1 Axes>"
      ]
     },
     "metadata": {
      "needs_background": "light"
     },
     "output_type": "display_data"
    }
   ],
   "source": [
    "plot_ROC(forest_s3, X_test_s3, y_test_s3, scaler_s3, model_name='Bosque aleatorio, selección de 5 variables')"
   ]
  },
  {
   "cell_type": "markdown",
   "metadata": {},
   "source": [
    "## Modelos sin prestaciones de servicios"
   ]
  },
  {
   "cell_type": "code",
   "execution_count": 279,
   "metadata": {},
   "outputs": [
    {
     "data": {
      "text/plain": [
       "Prestación de Servicios    245833\n",
       "Suministro                  14382\n",
       "Otro Tipo de Contrato        8665\n",
       "Compraventa                  5228\n",
       "Obra                         4686\n",
       "Arrendamiento                2668\n",
       "Interventoría                1080\n",
       "Consultoría                   687\n",
       "Comodato                      559\n",
       "Acuerdo Marco                  62\n",
       "Concesión                      32\n",
       "Fiducia                        22\n",
       "Crédito                        17\n",
       "No definido                     5\n",
       "Agregación de Demanda           2\n",
       "Name: Tipo de Contrato, dtype: int64"
      ]
     },
     "execution_count": 279,
     "metadata": {},
     "output_type": "execute_result"
    }
   ],
   "source": [
    "df_downsampled_AV[\"Tipo de Contrato\"].value_counts()"
   ]
  },
  {
   "cell_type": "code",
   "execution_count": 280,
   "metadata": {
    "scrolled": true
   },
   "outputs": [
    {
     "data": {
      "text/plain": [
       "Index(['UID', 'Orden Entidad', 'Nombre de la Entidad', 'Código de la Entidad',\n",
       "       'Tipo de Proceso', 'Estado del Proceso',\n",
       "       'Causal de Otras Formas de Contratacion Directa',\n",
       "       'Regimen de Contratacion', 'Objeto a Contratar', 'Tipo de Contrato',\n",
       "       'cantidad de palabras objeto a contratar', 'Nombre Grupo',\n",
       "       'Nombre Familia', 'Nombre Clase', 'EsPostConflicto', 'Def Origen Recur',\n",
       "       'Num Origenes Recur', 'Descrip Origenes Recur', 'ID Ajudicacion',\n",
       "       'Tipo Identifi del Contratista',\n",
       "       'cantidad de palabras objeto del contrato a la Firma',\n",
       "       'mismo detalle objeto a contratar despues de firma',\n",
       "       'Identificacion del Contratista', 'Nom Raz Social Contratista',\n",
       "       'Dpto y Muni Contratista', 'Fecha de Cargue en el SECOP',\n",
       "       'Fecha de Firma del Contrato', 'Fecha Ini Ejec Contrato',\n",
       "       'Fecha Firma Contrato - Fecha Cargue Secop',\n",
       "       'Fecha Ini Ejec - Fecha Firma Contrato', 'Mes Firma Contrato',\n",
       "       'Dia del Mes Firma Contrato', 'Dia de la Semana Firma Contrato',\n",
       "       'Plazo en dias de Ejec del Contrato', 'Marc Adiciones',\n",
       "       'Adicion en Valor', 'Adicion en Tiempo', 'Tiempo Adiciones (Dias)',\n",
       "       'Fecha Fin Ejec Contrato', 'Cuantia Proceso', 'Cuantia Contrato',\n",
       "       'Valor Total de Adiciones', 'Valor Contrato con Adiciones',\n",
       "       'Nombre Sub Unidad Ejecutora', 'Moneda', 'Marc Sancion',\n",
       "       'Valor Sancion', 'Ultima Actualizacion',\n",
       "       'Ultima Actualizacion - Fecha Fin Ejec Contrato'],\n",
       "      dtype='object')"
      ]
     },
     "execution_count": 280,
     "metadata": {},
     "output_type": "execute_result"
    }
   ],
   "source": [
    "df_downsampled_AV.columns"
   ]
  },
  {
   "cell_type": "code",
   "execution_count": 281,
   "metadata": {},
   "outputs": [],
   "source": [
    "X_noprestacion = df_downsampled_AV[df_downsampled_AV[\"Tipo de Contrato\"] != \"Prestación de Servicios\"]\n",
    "y_noprestacion = X_noprestacion[\"Marc Adiciones\"]\n",
    "\n",
    "X_noprestacion = X_noprestacion.drop(columns = vars_a_excluir + [\"Marc Adiciones\",\"Adicion en Valor\",\"Adicion en Tiempo\",\n",
    "                                                                 \"Marc Sancion\",\"Valor Total de Adiciones\"])\n",
    "\n",
    "vars_categoricas = ['Tipo de Proceso', 'Causal de Otras Formas de Contratacion Directa',\n",
    "                    'Regimen de Contratacion', 'Tipo de Contrato','Nombre Grupo',\"Dpto y Muni Contratista\",\n",
    "                    'EsPostConflicto', 'Def Origen Recur',\"mismo detalle objeto a contratar despues de firma\",\n",
    "                    \"Mes Firma Contrato\",\"Dia del Mes Firma Contrato\",\"Dia de la Semana Firma Contrato\"]\n",
    "X_noprestacion_dum = pd.get_dummies(data = X_noprestacion, columns = vars_categoricas)\n",
    "X_noprestacion_dum = X_noprestacion_dum.drop(columns=['Ultima Actualizacion - Fecha Fin Ejec Contrato','Tiempo Adiciones (Dias)'])"
   ]
  },
  {
   "cell_type": "code",
   "execution_count": 283,
   "metadata": {},
   "outputs": [
    {
     "name": "stdout",
     "output_type": "stream",
     "text": [
      "Cantidad de datos sin prestacion de servicios:  38095\n"
     ]
    },
    {
     "data": {
      "text/plain": [
       "0    25780\n",
       "1    12315\n",
       "Name: Marc Adiciones, dtype: int64"
      ]
     },
     "execution_count": 283,
     "metadata": {},
     "output_type": "execute_result"
    }
   ],
   "source": [
    "print(\"Cantidad de datos sin prestacion de servicios: \",len(X_noprestacion))\n",
    "y_noprestacion.value_counts()"
   ]
  },
  {
   "cell_type": "code",
   "execution_count": null,
   "metadata": {},
   "outputs": [],
   "source": []
  }
 ],
 "metadata": {
  "kernelspec": {
   "display_name": "Python 3",
   "language": "python",
   "name": "python3"
  },
  "language_info": {
   "codemirror_mode": {
    "name": "ipython",
    "version": 3
   },
   "file_extension": ".py",
   "mimetype": "text/x-python",
   "name": "python",
   "nbconvert_exporter": "python",
   "pygments_lexer": "ipython3",
   "version": "3.8.5"
  }
 },
 "nbformat": 4,
 "nbformat_minor": 4
}
